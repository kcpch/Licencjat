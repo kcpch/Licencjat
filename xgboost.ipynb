{
 "cells": [
  {
   "cell_type": "code",
   "execution_count": 57,
   "metadata": {},
   "outputs": [],
   "source": [
    "import pandas as pd\n",
    "import numpy as np\n",
    "import xgboost as xgb\n",
    "import dalex as dx\n",
    "\n",
    "from sklearn.pipeline import make_pipeline\n",
    "from sklearn.compose import make_column_transformer\n",
    "from sklearn.ensemble import RandomForestClassifier, GradientBoostingClassifier\n",
    "from sklearn.linear_model import LogisticRegression\n",
    "from sklearn.svm import SVC\n",
    "from sklearn.model_selection import train_test_split\n",
    "\n",
    "from sklearn.impute import SimpleImputer\n",
    "\n",
    "import xgboost as xgb\n",
    "import numpy as np\n",
    "from typing import Tuple\n",
    "from sklearn.metrics import balanced_accuracy_score, accuracy_score\n",
    "\n",
    "import sympy as sp"
   ]
  },
  {
   "cell_type": "code",
   "execution_count": 58,
   "metadata": {},
   "outputs": [],
   "source": [
    "titanic = dx.datasets.load_titanic()\n",
    "X = titanic.drop(columns='survived')\n",
    "y = titanic.survived"
   ]
  },
  {
   "cell_type": "code",
   "execution_count": 59,
   "metadata": {},
   "outputs": [
    {
     "data": {
      "text/html": [
       "<div>\n",
       "<style scoped>\n",
       "    .dataframe tbody tr th:only-of-type {\n",
       "        vertical-align: middle;\n",
       "    }\n",
       "\n",
       "    .dataframe tbody tr th {\n",
       "        vertical-align: top;\n",
       "    }\n",
       "\n",
       "    .dataframe thead th {\n",
       "        text-align: right;\n",
       "    }\n",
       "</style>\n",
       "<table border=\"1\" class=\"dataframe\">\n",
       "  <thead>\n",
       "    <tr style=\"text-align: right;\">\n",
       "      <th></th>\n",
       "      <th>gender</th>\n",
       "      <th>age</th>\n",
       "      <th>class</th>\n",
       "      <th>embarked</th>\n",
       "      <th>fare</th>\n",
       "      <th>sibsp</th>\n",
       "      <th>parch</th>\n",
       "    </tr>\n",
       "  </thead>\n",
       "  <tbody>\n",
       "    <tr>\n",
       "      <th>0</th>\n",
       "      <td>male</td>\n",
       "      <td>42.0</td>\n",
       "      <td>3rd</td>\n",
       "      <td>Southampton</td>\n",
       "      <td>7.11</td>\n",
       "      <td>0</td>\n",
       "      <td>0</td>\n",
       "    </tr>\n",
       "    <tr>\n",
       "      <th>1</th>\n",
       "      <td>male</td>\n",
       "      <td>13.0</td>\n",
       "      <td>3rd</td>\n",
       "      <td>Southampton</td>\n",
       "      <td>20.05</td>\n",
       "      <td>0</td>\n",
       "      <td>2</td>\n",
       "    </tr>\n",
       "    <tr>\n",
       "      <th>2</th>\n",
       "      <td>male</td>\n",
       "      <td>16.0</td>\n",
       "      <td>3rd</td>\n",
       "      <td>Southampton</td>\n",
       "      <td>20.05</td>\n",
       "      <td>1</td>\n",
       "      <td>1</td>\n",
       "    </tr>\n",
       "    <tr>\n",
       "      <th>3</th>\n",
       "      <td>female</td>\n",
       "      <td>39.0</td>\n",
       "      <td>3rd</td>\n",
       "      <td>Southampton</td>\n",
       "      <td>20.05</td>\n",
       "      <td>1</td>\n",
       "      <td>1</td>\n",
       "    </tr>\n",
       "    <tr>\n",
       "      <th>4</th>\n",
       "      <td>female</td>\n",
       "      <td>16.0</td>\n",
       "      <td>3rd</td>\n",
       "      <td>Southampton</td>\n",
       "      <td>7.13</td>\n",
       "      <td>0</td>\n",
       "      <td>0</td>\n",
       "    </tr>\n",
       "  </tbody>\n",
       "</table>\n",
       "</div>"
      ],
      "text/plain": [
       "   gender   age class     embarked   fare  sibsp  parch\n",
       "0    male  42.0   3rd  Southampton   7.11      0      0\n",
       "1    male  13.0   3rd  Southampton  20.05      0      2\n",
       "2    male  16.0   3rd  Southampton  20.05      1      1\n",
       "3  female  39.0   3rd  Southampton  20.05      1      1\n",
       "4  female  16.0   3rd  Southampton   7.13      0      0"
      ]
     },
     "metadata": {},
     "output_type": "display_data"
    },
    {
     "data": {
      "text/html": [
       "<div>\n",
       "<style scoped>\n",
       "    .dataframe tbody tr th:only-of-type {\n",
       "        vertical-align: middle;\n",
       "    }\n",
       "\n",
       "    .dataframe tbody tr th {\n",
       "        vertical-align: top;\n",
       "    }\n",
       "\n",
       "    .dataframe thead th {\n",
       "        text-align: right;\n",
       "    }\n",
       "</style>\n",
       "<table border=\"1\" class=\"dataframe\">\n",
       "  <thead>\n",
       "    <tr style=\"text-align: right;\">\n",
       "      <th></th>\n",
       "      <th>age</th>\n",
       "      <th>fare</th>\n",
       "      <th>sibsp</th>\n",
       "      <th>parch</th>\n",
       "      <th>gender_male</th>\n",
       "      <th>class_2nd</th>\n",
       "      <th>class_3rd</th>\n",
       "      <th>class_deck crew</th>\n",
       "      <th>class_engineering crew</th>\n",
       "      <th>class_restaurant staff</th>\n",
       "      <th>class_victualling crew</th>\n",
       "      <th>embarked_Cherbourg</th>\n",
       "      <th>embarked_Queenstown</th>\n",
       "      <th>embarked_Southampton</th>\n",
       "    </tr>\n",
       "  </thead>\n",
       "  <tbody>\n",
       "    <tr>\n",
       "      <th>0</th>\n",
       "      <td>42.0</td>\n",
       "      <td>7.11</td>\n",
       "      <td>0</td>\n",
       "      <td>0</td>\n",
       "      <td>True</td>\n",
       "      <td>False</td>\n",
       "      <td>True</td>\n",
       "      <td>False</td>\n",
       "      <td>False</td>\n",
       "      <td>False</td>\n",
       "      <td>False</td>\n",
       "      <td>False</td>\n",
       "      <td>False</td>\n",
       "      <td>True</td>\n",
       "    </tr>\n",
       "    <tr>\n",
       "      <th>1</th>\n",
       "      <td>13.0</td>\n",
       "      <td>20.05</td>\n",
       "      <td>0</td>\n",
       "      <td>2</td>\n",
       "      <td>True</td>\n",
       "      <td>False</td>\n",
       "      <td>True</td>\n",
       "      <td>False</td>\n",
       "      <td>False</td>\n",
       "      <td>False</td>\n",
       "      <td>False</td>\n",
       "      <td>False</td>\n",
       "      <td>False</td>\n",
       "      <td>True</td>\n",
       "    </tr>\n",
       "    <tr>\n",
       "      <th>2</th>\n",
       "      <td>16.0</td>\n",
       "      <td>20.05</td>\n",
       "      <td>1</td>\n",
       "      <td>1</td>\n",
       "      <td>True</td>\n",
       "      <td>False</td>\n",
       "      <td>True</td>\n",
       "      <td>False</td>\n",
       "      <td>False</td>\n",
       "      <td>False</td>\n",
       "      <td>False</td>\n",
       "      <td>False</td>\n",
       "      <td>False</td>\n",
       "      <td>True</td>\n",
       "    </tr>\n",
       "    <tr>\n",
       "      <th>3</th>\n",
       "      <td>39.0</td>\n",
       "      <td>20.05</td>\n",
       "      <td>1</td>\n",
       "      <td>1</td>\n",
       "      <td>False</td>\n",
       "      <td>False</td>\n",
       "      <td>True</td>\n",
       "      <td>False</td>\n",
       "      <td>False</td>\n",
       "      <td>False</td>\n",
       "      <td>False</td>\n",
       "      <td>False</td>\n",
       "      <td>False</td>\n",
       "      <td>True</td>\n",
       "    </tr>\n",
       "    <tr>\n",
       "      <th>4</th>\n",
       "      <td>16.0</td>\n",
       "      <td>7.13</td>\n",
       "      <td>0</td>\n",
       "      <td>0</td>\n",
       "      <td>False</td>\n",
       "      <td>False</td>\n",
       "      <td>True</td>\n",
       "      <td>False</td>\n",
       "      <td>False</td>\n",
       "      <td>False</td>\n",
       "      <td>False</td>\n",
       "      <td>False</td>\n",
       "      <td>False</td>\n",
       "      <td>True</td>\n",
       "    </tr>\n",
       "  </tbody>\n",
       "</table>\n",
       "</div>"
      ],
      "text/plain": [
       "    age   fare  sibsp  parch  gender_male  class_2nd  class_3rd  \\\n",
       "0  42.0   7.11      0      0         True      False       True   \n",
       "1  13.0  20.05      0      2         True      False       True   \n",
       "2  16.0  20.05      1      1         True      False       True   \n",
       "3  39.0  20.05      1      1        False      False       True   \n",
       "4  16.0   7.13      0      0        False      False       True   \n",
       "\n",
       "   class_deck crew  class_engineering crew  class_restaurant staff  \\\n",
       "0            False                   False                   False   \n",
       "1            False                   False                   False   \n",
       "2            False                   False                   False   \n",
       "3            False                   False                   False   \n",
       "4            False                   False                   False   \n",
       "\n",
       "   class_victualling crew  embarked_Cherbourg  embarked_Queenstown  \\\n",
       "0                   False               False                False   \n",
       "1                   False               False                False   \n",
       "2                   False               False                False   \n",
       "3                   False               False                False   \n",
       "4                   False               False                False   \n",
       "\n",
       "   embarked_Southampton  \n",
       "0                  True  \n",
       "1                  True  \n",
       "2                  True  \n",
       "3                  True  \n",
       "4                  True  "
      ]
     },
     "metadata": {},
     "output_type": "display_data"
    }
   ],
   "source": [
    "X_transformed = pd.get_dummies(X, drop_first=True)\n",
    "display(X.head())\n",
    "display(X_transformed.head())"
   ]
  },
  {
   "cell_type": "code",
   "execution_count": 60,
   "metadata": {},
   "outputs": [],
   "source": [
    "X_train, X_test, y_train, y_test = train_test_split(X_transformed, y, test_size=0.2, random_state=42)"
   ]
  },
  {
   "cell_type": "code",
   "execution_count": 61,
   "metadata": {},
   "outputs": [],
   "source": [
    "dtrain = xgb.DMatrix(X_train, label=y_train)\n",
    "dtest = xgb.DMatrix(X_test, label=y_test)"
   ]
  },
  {
   "cell_type": "code",
   "execution_count": 63,
   "metadata": {},
   "outputs": [],
   "source": [
    "y, y_hut = sp.symbols('y y_hut')\n",
    "lambda_reg = sp.symbols('lambda_reg')\n",
    "f = sp.Function('f')(y, y_hut, lambda_reg)\n",
    "\n",
    "f = (y_hut-y)**2 + lambda_reg*(y_hut**2)\n",
    "\n",
    "grad = sp.lambdify((y, y_hut, lambda_reg), f.diff(y_hut), 'numpy')\n",
    "hess = sp.lambdify((y, y_hut, lambda_reg), f.diff(y_hut, y_hut), 'numpy')\n",
    "\n",
    "y_pred = dtrain.get_label()\n",
    "y_rel = dtrain.get_label()\n",
    "\n",
    "lambda_r = 0.1\n",
    "grad, hess = grad(y=y_rel, y_hut=y_pred, lambda_reg=lambda_r), hess(y=y_rel, y_hut=y_pred, lambda_reg=lambda_r)\n",
    "\n",
    "if type(grad) == float:\n",
    "    grad = np.ones(y_pred.shape[0]) * grad\n",
    "\n",
    "if type(hess) == float:\n",
    "    hess = np.ones(y_pred.shape[0]) * hess\n"
   ]
  },
  {
   "cell_type": "code",
   "execution_count": 198,
   "metadata": {},
   "outputs": [],
   "source": [
    "# Backup\n",
    "\n",
    "def XGBoost_changed(lambda_r: float, dtrain: xgb.DMatrix) -> xgb.Booster:\n",
    "    def objective_function(y_pred: np.ndarray, dtrain_: xgb.DMatrix) -> Tuple[np.ndarray, np.ndarray]:\n",
    "        y, y_hut = sp.symbols('y y_hut', real=True)\n",
    "        lambda_reg = sp.symbols('lambda_reg')\n",
    "        f = sp.Function('f')(y, y_hut, lambda_reg)\n",
    "\n",
    "        f = (y_hut-y)**2 + lambda_reg*y_hut\n",
    "\n",
    "        grad = sp.lambdify((y, y_hut, lambda_reg), f.diff(y_hut), 'numpy')\n",
    "        hess = sp.lambdify((y, y_hut, lambda_reg), f.diff(y_hut, y_hut), 'numpy')\n",
    "\n",
    "        y_rel = dtrain_.get_label()\n",
    "\n",
    "        grad, hess = grad(y=y_rel, y_hut=y_pred, lambda_reg=lambda_r), hess(y=y_rel, y_hut=y_pred, lambda_reg=lambda_r)\n",
    "\n",
    "        if type(grad) in [float, int]:\n",
    "            grad = np.ones(y_pred.shape[0]) * grad\n",
    "        if type(hess) in [float, int]:\n",
    "            hess = np.ones(y_pred.shape[0]) * hess\n",
    "        \n",
    "        return grad, hess\n",
    "    \n",
    "    params = {\n",
    "        # 'objective': 'reg:squarederror',\n",
    "        'tree_method': 'hist',\n",
    "        'seed': 2001,\n",
    "    }\n",
    "\n",
    "    model = xgb.train(\n",
    "        params=params,\n",
    "        dtrain=dtrain,\n",
    "        num_boost_round=8,\n",
    "        obj=objective_function,\n",
    "        evals=[(dtrain, 'train')]\n",
    "    )\n",
    "    return model"
   ]
  },
  {
   "cell_type": "code",
   "execution_count": 64,
   "metadata": {},
   "outputs": [
    {
     "name": "stderr",
     "output_type": "stream",
     "text": [
      "Calculating ceteris paribus: 100%|██████████| 7/7 [00:01<00:00,  6.17it/s]\n"
     ]
    },
    {
     "data": {
      "text/plain": [
       "7.063394819180315"
      ]
     },
     "execution_count": 64,
     "metadata": {},
     "output_type": "execute_result"
    }
   ],
   "source": [
    "# import numpy as np\n",
    "# import matplotlib.pyplot as plt\n",
    "\n",
    "titanic = dx.datasets.load_titanic()\n",
    "X = titanic.drop(columns='survived')\n",
    "y = titanic.survived\n",
    "\n",
    "henry = pd.DataFrame({'gender'   : ['male'],\n",
    "                       'age'     : [47],\n",
    "                       'class'   : ['1st'],\n",
    "                       'embarked': ['Cherbourg'],\n",
    "                       'fare'    : [25],\n",
    "                       'sibsp'   : [0],\n",
    "                       'parch'   : [0]},\n",
    "                      index = ['Henry'])\n",
    "\n",
    "cp_henry = titanic_rf_exp.predict_profile(henry)\n",
    "\n",
    "df = cp_henry.result\n",
    "\n",
    "p = np.polynomial.polynomial.Polynomial.fit(df['age'], df['_yhat_'], 4)\n",
    "\n",
    "x_vals = np.linspace(min(df['age'])-5, max(df['age'])+5, 100)\n",
    "# Evaluate the polynomial at the x values\n",
    "y_vals = p(x_vals)\n",
    "\n",
    "# plt.scatter(df['age'], df['_yhat_'], color='red', label='Data Points')\n",
    "# plt.plot(x_vals, y_vals, label='Polynomial Fit')\n",
    "# plt.xlabel('Domain')\n",
    "# plt.ylabel('Range')\n",
    "# plt.legend()\n",
    "# plt.title('Polynomial Fit')\n",
    "# plt.show()\n",
    "\n",
    "p(150)\n",
    "\n"
   ]
  },
  {
   "cell_type": "code",
   "execution_count": 65,
   "metadata": {},
   "outputs": [
    {
     "data": {
      "text/latex": [
       "$x \\mapsto \\text{0.32062298} + \\text{0.03888729}\\,\\left(\\text{-1.00451467} + \\text{0.02708804}x\\right) - \\text{0.08910767}\\,\\left(\\text{-1.00451467} + \\text{0.02708804}x\\right)^{2} - \\text{0.13972538}\\,\\left(\\text{-1.00451467} + \\text{0.02708804}x\\right)^{3} + \\text{0.13088347}\\,\\left(\\text{-1.00451467} + \\text{0.02708804}x\\right)^{4}$"
      ],
      "text/plain": [
       "Polynomial([ 0.32062298,  0.03888729, -0.08910767, -0.13972538,  0.13088347], domain=[ 0.16666667, 74.        ], window=[-1.,  1.], symbol='x')"
      ]
     },
     "execution_count": 65,
     "metadata": {},
     "output_type": "execute_result"
    }
   ],
   "source": [
    "p"
   ]
  },
  {
   "cell_type": "code",
   "execution_count": null,
   "metadata": {},
   "outputs": [
    {
     "data": {
      "text/html": [
       "<div>\n",
       "<style scoped>\n",
       "    .dataframe tbody tr th:only-of-type {\n",
       "        vertical-align: middle;\n",
       "    }\n",
       "\n",
       "    .dataframe tbody tr th {\n",
       "        vertical-align: top;\n",
       "    }\n",
       "\n",
       "    .dataframe thead th {\n",
       "        text-align: right;\n",
       "    }\n",
       "</style>\n",
       "<table border=\"1\" class=\"dataframe\">\n",
       "  <thead>\n",
       "    <tr style=\"text-align: right;\">\n",
       "      <th></th>\n",
       "      <th>0</th>\n",
       "      <th>1</th>\n",
       "      <th>2</th>\n",
       "      <th>3</th>\n",
       "      <th>4</th>\n",
       "      <th>5</th>\n",
       "      <th>6</th>\n",
       "      <th>7</th>\n",
       "      <th>8</th>\n",
       "      <th>9</th>\n",
       "      <th>10</th>\n",
       "      <th>11</th>\n",
       "      <th>12</th>\n",
       "      <th>13</th>\n",
       "    </tr>\n",
       "  </thead>\n",
       "  <tbody>\n",
       "    <tr>\n",
       "      <th>0</th>\n",
       "      <td>30.0</td>\n",
       "      <td>0.0000</td>\n",
       "      <td>0.0</td>\n",
       "      <td>0.0</td>\n",
       "      <td>1.0</td>\n",
       "      <td>0.0</td>\n",
       "      <td>0.0</td>\n",
       "      <td>0.0</td>\n",
       "      <td>0.0</td>\n",
       "      <td>0.0</td>\n",
       "      <td>1.0</td>\n",
       "      <td>0.0</td>\n",
       "      <td>0.0</td>\n",
       "      <td>1.0</td>\n",
       "    </tr>\n",
       "    <tr>\n",
       "      <th>1</th>\n",
       "      <td>28.0</td>\n",
       "      <td>0.0000</td>\n",
       "      <td>0.0</td>\n",
       "      <td>0.0</td>\n",
       "      <td>1.0</td>\n",
       "      <td>0.0</td>\n",
       "      <td>0.0</td>\n",
       "      <td>0.0</td>\n",
       "      <td>0.0</td>\n",
       "      <td>1.0</td>\n",
       "      <td>0.0</td>\n",
       "      <td>0.0</td>\n",
       "      <td>0.0</td>\n",
       "      <td>1.0</td>\n",
       "    </tr>\n",
       "    <tr>\n",
       "      <th>2</th>\n",
       "      <td>29.0</td>\n",
       "      <td>0.0000</td>\n",
       "      <td>0.0</td>\n",
       "      <td>0.0</td>\n",
       "      <td>1.0</td>\n",
       "      <td>0.0</td>\n",
       "      <td>0.0</td>\n",
       "      <td>0.0</td>\n",
       "      <td>0.0</td>\n",
       "      <td>0.0</td>\n",
       "      <td>1.0</td>\n",
       "      <td>0.0</td>\n",
       "      <td>0.0</td>\n",
       "      <td>1.0</td>\n",
       "    </tr>\n",
       "    <tr>\n",
       "      <th>3</th>\n",
       "      <td>41.0</td>\n",
       "      <td>13.0000</td>\n",
       "      <td>0.0</td>\n",
       "      <td>0.0</td>\n",
       "      <td>1.0</td>\n",
       "      <td>1.0</td>\n",
       "      <td>0.0</td>\n",
       "      <td>0.0</td>\n",
       "      <td>0.0</td>\n",
       "      <td>0.0</td>\n",
       "      <td>0.0</td>\n",
       "      <td>0.0</td>\n",
       "      <td>0.0</td>\n",
       "      <td>1.0</td>\n",
       "    </tr>\n",
       "    <tr>\n",
       "      <th>4</th>\n",
       "      <td>23.0</td>\n",
       "      <td>9.0406</td>\n",
       "      <td>0.0</td>\n",
       "      <td>0.0</td>\n",
       "      <td>1.0</td>\n",
       "      <td>0.0</td>\n",
       "      <td>1.0</td>\n",
       "      <td>0.0</td>\n",
       "      <td>0.0</td>\n",
       "      <td>0.0</td>\n",
       "      <td>0.0</td>\n",
       "      <td>0.0</td>\n",
       "      <td>0.0</td>\n",
       "      <td>1.0</td>\n",
       "    </tr>\n",
       "    <tr>\n",
       "      <th>...</th>\n",
       "      <td>...</td>\n",
       "      <td>...</td>\n",
       "      <td>...</td>\n",
       "      <td>...</td>\n",
       "      <td>...</td>\n",
       "      <td>...</td>\n",
       "      <td>...</td>\n",
       "      <td>...</td>\n",
       "      <td>...</td>\n",
       "      <td>...</td>\n",
       "      <td>...</td>\n",
       "      <td>...</td>\n",
       "      <td>...</td>\n",
       "      <td>...</td>\n",
       "    </tr>\n",
       "    <tr>\n",
       "      <th>1760</th>\n",
       "      <td>47.0</td>\n",
       "      <td>0.0000</td>\n",
       "      <td>0.0</td>\n",
       "      <td>0.0</td>\n",
       "      <td>1.0</td>\n",
       "      <td>0.0</td>\n",
       "      <td>0.0</td>\n",
       "      <td>0.0</td>\n",
       "      <td>0.0</td>\n",
       "      <td>0.0</td>\n",
       "      <td>1.0</td>\n",
       "      <td>0.0</td>\n",
       "      <td>0.0</td>\n",
       "      <td>1.0</td>\n",
       "    </tr>\n",
       "    <tr>\n",
       "      <th>1761</th>\n",
       "      <td>29.0</td>\n",
       "      <td>26.0000</td>\n",
       "      <td>0.0</td>\n",
       "      <td>0.0</td>\n",
       "      <td>1.0</td>\n",
       "      <td>1.0</td>\n",
       "      <td>0.0</td>\n",
       "      <td>0.0</td>\n",
       "      <td>0.0</td>\n",
       "      <td>0.0</td>\n",
       "      <td>0.0</td>\n",
       "      <td>0.0</td>\n",
       "      <td>0.0</td>\n",
       "      <td>1.0</td>\n",
       "    </tr>\n",
       "    <tr>\n",
       "      <th>1762</th>\n",
       "      <td>37.0</td>\n",
       "      <td>8.1303</td>\n",
       "      <td>0.0</td>\n",
       "      <td>0.0</td>\n",
       "      <td>1.0</td>\n",
       "      <td>0.0</td>\n",
       "      <td>1.0</td>\n",
       "      <td>0.0</td>\n",
       "      <td>0.0</td>\n",
       "      <td>0.0</td>\n",
       "      <td>0.0</td>\n",
       "      <td>0.0</td>\n",
       "      <td>0.0</td>\n",
       "      <td>1.0</td>\n",
       "    </tr>\n",
       "    <tr>\n",
       "      <th>1763</th>\n",
       "      <td>23.0</td>\n",
       "      <td>13.0000</td>\n",
       "      <td>0.0</td>\n",
       "      <td>0.0</td>\n",
       "      <td>1.0</td>\n",
       "      <td>1.0</td>\n",
       "      <td>0.0</td>\n",
       "      <td>0.0</td>\n",
       "      <td>0.0</td>\n",
       "      <td>0.0</td>\n",
       "      <td>0.0</td>\n",
       "      <td>0.0</td>\n",
       "      <td>0.0</td>\n",
       "      <td>1.0</td>\n",
       "    </tr>\n",
       "    <tr>\n",
       "      <th>1764</th>\n",
       "      <td>32.0</td>\n",
       "      <td>7.1711</td>\n",
       "      <td>0.0</td>\n",
       "      <td>0.0</td>\n",
       "      <td>1.0</td>\n",
       "      <td>0.0</td>\n",
       "      <td>1.0</td>\n",
       "      <td>0.0</td>\n",
       "      <td>0.0</td>\n",
       "      <td>0.0</td>\n",
       "      <td>0.0</td>\n",
       "      <td>0.0</td>\n",
       "      <td>0.0</td>\n",
       "      <td>1.0</td>\n",
       "    </tr>\n",
       "  </tbody>\n",
       "</table>\n",
       "<p>1765 rows × 14 columns</p>\n",
       "</div>"
      ],
      "text/plain": [
       "        0        1    2    3    4    5    6    7    8    9    10   11   12  \\\n",
       "0     30.0   0.0000  0.0  0.0  1.0  0.0  0.0  0.0  0.0  0.0  1.0  0.0  0.0   \n",
       "1     28.0   0.0000  0.0  0.0  1.0  0.0  0.0  0.0  0.0  1.0  0.0  0.0  0.0   \n",
       "2     29.0   0.0000  0.0  0.0  1.0  0.0  0.0  0.0  0.0  0.0  1.0  0.0  0.0   \n",
       "3     41.0  13.0000  0.0  0.0  1.0  1.0  0.0  0.0  0.0  0.0  0.0  0.0  0.0   \n",
       "4     23.0   9.0406  0.0  0.0  1.0  0.0  1.0  0.0  0.0  0.0  0.0  0.0  0.0   \n",
       "...    ...      ...  ...  ...  ...  ...  ...  ...  ...  ...  ...  ...  ...   \n",
       "1760  47.0   0.0000  0.0  0.0  1.0  0.0  0.0  0.0  0.0  0.0  1.0  0.0  0.0   \n",
       "1761  29.0  26.0000  0.0  0.0  1.0  1.0  0.0  0.0  0.0  0.0  0.0  0.0  0.0   \n",
       "1762  37.0   8.1303  0.0  0.0  1.0  0.0  1.0  0.0  0.0  0.0  0.0  0.0  0.0   \n",
       "1763  23.0  13.0000  0.0  0.0  1.0  1.0  0.0  0.0  0.0  0.0  0.0  0.0  0.0   \n",
       "1764  32.0   7.1711  0.0  0.0  1.0  0.0  1.0  0.0  0.0  0.0  0.0  0.0  0.0   \n",
       "\n",
       "       13  \n",
       "0     1.0  \n",
       "1     1.0  \n",
       "2     1.0  \n",
       "3     1.0  \n",
       "4     1.0  \n",
       "...   ...  \n",
       "1760  1.0  \n",
       "1761  1.0  \n",
       "1762  1.0  \n",
       "1763  1.0  \n",
       "1764  1.0  \n",
       "\n",
       "[1765 rows x 14 columns]"
      ]
     },
     "execution_count": 81,
     "metadata": {},
     "output_type": "execute_result"
    }
   ],
   "source": [
    "y, y_hut = sp.symbols('y y_hut', real=True)\n",
    "f = sp.Function('f')(y_hut)\n",
    "\n",
    "y_hut = dtrain.get_label()\n",
    "df = pd.DataFrame(dtrain.get_data().toarray())\n",
    "\n",
    "\n",
    "# f = ()"
   ]
  },
  {
   "cell_type": "code",
   "execution_count": 62,
   "metadata": {},
   "outputs": [],
   "source": [
    "# Test\n",
    "\n",
    "list = []\n",
    "def XGBoost_changed(lambda_r: float, dtrain: xgb.DMatrix, lambda_k: float) -> xgb.Booster:\n",
    "    def objective_function(y_pred: np.ndarray, dtrain_: xgb.DMatrix) -> Tuple[np.ndarray, np.ndarray]:\n",
    "        w = np.matmul(y_pred, np.linalg.pinv(dtrain.get_data().toarray()).T)\n",
    "\n",
    "        y, y_hut = sp.symbols('y y_hut', real=True)\n",
    "        lambda_reg = sp.symbols('lambda_reg')\n",
    "        lambda_known = sp.symbols('lambda_known')\n",
    "        f = sp.Function('f')(y, y_hut, lambda_reg)\n",
    "\n",
    "        f = (y_hut-y)**2 + lambda_reg * y_hut + lambda_known * y_hut**2\n",
    "\n",
    "        grad = sp.lambdify((y, y_hut, lambda_reg), f.diff(y_hut), 'numpy')\n",
    "        hess = sp.lambdify((y, y_hut, lambda_reg), f.diff(y_hut, y_hut), 'numpy')\n",
    "\n",
    "        y_rel = dtrain_.get_label()\n",
    "        \n",
    "        list.append(w)\n",
    "\n",
    "        grad, hess = grad(y=y_rel, y_hut=y_pred, lambda_reg=lambda_r), hess(y=y_rel, y_hut=y_pred, lambda_reg=lambda_r)\n",
    "\n",
    "        if type(grad) in [float, int]:\n",
    "            grad = np.ones(y_pred.shape[0]) * grad\n",
    "        if type(hess) in [float, int]:\n",
    "            hess = np.ones(y_pred.shape[0]) * hess\n",
    "        \n",
    "        return grad, hess\n",
    "    \n",
    "    params = {\n",
    "        # 'objective': 'reg:squarederror',\n",
    "        'tree_method': 'hist',\n",
    "        'seed': 2001,\n",
    "    }\n",
    "\n",
    "    model = xgb.train(\n",
    "        params=params,\n",
    "        dtrain=dtrain,\n",
    "        num_boost_round=8,\n",
    "        obj=objective_function,\n",
    "        # evals=[(dtrain, 'train')]\n",
    "    )\n",
    "    return model"
   ]
  },
  {
   "cell_type": "code",
   "execution_count": 200,
   "metadata": {},
   "outputs": [
    {
     "ename": "TypeError",
     "evalue": "XGBoost_changed() missing 1 required positional argument: 'lambda_k'",
     "output_type": "error",
     "traceback": [
      "\u001b[1;31m---------------------------------------------------------------------------\u001b[0m",
      "\u001b[1;31mTypeError\u001b[0m                                 Traceback (most recent call last)",
      "Cell \u001b[1;32mIn[200], line 1\u001b[0m\n\u001b[1;32m----> 1\u001b[0m model \u001b[38;5;241m=\u001b[39m XGBoost_changed(\u001b[38;5;28mfloat\u001b[39m(\u001b[38;5;241m2\u001b[39m), dtrain)\n\u001b[0;32m      2\u001b[0m \u001b[38;5;28mset\u001b[39m \u001b[38;5;241m=\u001b[39m dtest\n\u001b[0;32m      3\u001b[0m pred \u001b[38;5;241m=\u001b[39m model\u001b[38;5;241m.\u001b[39mpredict(\u001b[38;5;28mset\u001b[39m)\n",
      "\u001b[1;31mTypeError\u001b[0m: XGBoost_changed() missing 1 required positional argument: 'lambda_k'"
     ]
    }
   ],
   "source": [
    "model = XGBoost_changed(float(2), dtrain)\n",
    "set = dtest\n",
    "pred = model.predict(set)\n",
    "\n",
    "print(balanced_accuracy_score(dtest.get_label(), model.predict(dtest) > 0.5))\n",
    "print(accuracy_score(dtest.get_label(), model.predict(dtest) > 0.5))"
   ]
  },
  {
   "cell_type": "code",
   "execution_count": null,
   "metadata": {},
   "outputs": [],
   "source": [
    "arr = np.arange(0, 2, 0.05)\n",
    "df = pd.DataFrame()\n",
    "\n",
    "for lambda_r in arr:\n",
    "    model = XGBoost_changed(float(lambda_r), dtrain)\n",
    "    set = dtest\n",
    "    pred = model.predict(set)\n",
    "    df = pd.concat([df, pd.DataFrame({'lambda_reg': lambda_r, \n",
    "                  'test': balanced_accuracy_score(dtest.get_label(), model.predict(dtest) > 0.5),\n",
    "                  'train': balanced_accuracy_score(dtrain.get_label(), model.predict(dtrain) > 0.5)},\n",
    "                  index=[0])])"
   ]
  },
  {
   "cell_type": "code",
   "execution_count": null,
   "metadata": {},
   "outputs": [
    {
     "data": {
      "text/plain": [
       "<Axes: title={'center': 'Regularization impact on accuracy'}, xlabel='lambda_reg'>"
      ]
     },
     "execution_count": 181,
     "metadata": {},
     "output_type": "execute_result"
    },
    {
     "data": {
      "image/png": "[encoded data removed]",
      "text/plain": [
       "<Figure size 640x480 with 1 Axes>"
      ]
     },
     "metadata": {},
     "output_type": "display_data"
    }
   ],
   "source": [
    "df.plot(x='lambda_reg', y=['test', 'train'], title='Regularization impact on accuracy')"
   ]
  },
  {
   "cell_type": "code",
   "execution_count": null,
   "metadata": {},
   "outputs": [
    {
     "ename": "NameError",
     "evalue": "name 'wT' is not defined",
     "output_type": "error",
     "traceback": [
      "\u001b[1;31m---------------------------------------------------------------------------\u001b[0m",
      "\u001b[1;31mNameError\u001b[0m                                 Traceback (most recent call last)",
      "Cell \u001b[1;32mIn[182], line 25\u001b[0m\n\u001b[0;32m     22\u001b[0m y_pred \u001b[38;5;241m=\u001b[39m np\u001b[38;5;241m.\u001b[39mlinspace(\u001b[38;5;241m0\u001b[39m, \u001b[38;5;241m1\u001b[39m, \u001b[38;5;241m15\u001b[39m)\n\u001b[0;32m     23\u001b[0m y_rel \u001b[38;5;241m=\u001b[39m np\u001b[38;5;241m.\u001b[39mlinspace(\u001b[38;5;241m0\u001b[39m, \u001b[38;5;241m10\u001b[39m, \u001b[38;5;241m15\u001b[39m)\n\u001b[1;32m---> 25\u001b[0m y_pred \u001b[38;5;241m=\u001b[39m wT\u001b[38;5;241m*\u001b[39mxi\n\u001b[0;32m     26\u001b[0m w \u001b[38;5;241m=\u001b[39m xiT\u001b[38;5;241m-\u001b[39m\u001b[38;5;241m1\u001b[39m\u001b[38;5;241m*\u001b[39my_pred\n\u001b[0;32m     29\u001b[0m y_pred \u001b[38;5;241m-\u001b[39m y_rel\n",
      "\u001b[1;31mNameError\u001b[0m: name 'wT' is not defined"
     ]
    }
   ],
   "source": [
    "y, y_hut = sp.symbols('y y_hut', real=True)\n",
    "lambda_reg = sp.symbols('lambda_reg')\n",
    "f = sp.Function('f')(y, y_hut, lambda_reg)\n",
    "\n",
    "f = (y_hut-y)**2 + lambda_reg*abs(y_hut)\n",
    "\n",
    "grad = sp.lambdify((y, y_hut, lambda_reg), f.diff(y_hut), 'numpy')\n",
    "hess = sp.lambdify((y, y_hut, lambda_reg), f.diff(y_hut, y_hut), 'numpy')\n",
    "\n",
    "y_rel = dtrain.get_label()\n",
    "\n",
    "# grad, hess = grad(y=y_rel, y_hut=y_pred, lambda_reg=lambda_r), hess(y=y_rel, y_hut=y_pred, lambda_reg=lambda_r)\n",
    "\n",
    "# if type(grad) in [float, int]:\n",
    "#     grad = np.ones(y_pred.shape[0]) * grad\n",
    "# if type(hess) in [float, int]:\n",
    "#     hess = np.ones(y_pred.shape[0]) * hess\n",
    "        \n",
    "# grad, hess\n",
    "\n",
    "# f.diff(y_hut)\n",
    "y_pred = np.linspace(0, 1, 15)\n",
    "y_rel = np.linspace(0, 10, 15)\n",
    "\n",
    "y_pred = wT*xi\n",
    "w = xiT-1*y_pred\n",
    "\n",
    "\n",
    "y_pred - y_rel\n",
    "\n",
    "\n",
    "    \n",
    "    # params = {\n",
    "    #     # 'objective': 'reg:squarederror',\n",
    "    #     'tree_method': 'hist',\n",
    "    #     'seed': 2001,\n",
    "    # }\n",
    "\n",
    "    # model = xgb.train(\n",
    "    #     params=params,\n",
    "    #     dtrain=dtrain,\n",
    "    #     num_boost_round=100,\n",
    "    #     obj=objective_function\n",
    "    # )\n",
    "    # return model"
   ]
  },
  {
   "cell_type": "code",
   "execution_count": 164,
   "metadata": {},
   "outputs": [
    {
     "data": {
      "text/plain": [
       "1.5160378499108447"
      ]
     },
     "execution_count": 164,
     "metadata": {},
     "output_type": "execute_result"
    }
   ],
   "source": [
    "y = dtrain.get_label()\n",
    "X = dtrain.get_data()\n",
    "\n",
    "w = np.matmul(y, np.linalg.pinv(dtrain.get_data().toarray()).T)\n",
    "\n",
    "sum(w**2)\n"
   ]
  },
  {
   "cell_type": "code",
   "execution_count": null,
   "metadata": {},
   "outputs": [
    {
     "data": {
      "text/latex": [
       "$\\displaystyle \\left[\\begin{matrix}0.00219299\\\\0.00193368\\\\-0.0210271\\\\0.00222679\\\\-0.398258\\\\0.182997\\\\0.0506906\\\\0.728183\\\\0.237934\\\\-0.00182493\\\\0.250975\\\\0.583744\\\\0.438101\\\\0.371981\\end{matrix}\\right]$"
      ],
      "text/plain": [
       "Matrix([\n",
       "[ 0.00219299],\n",
       "[ 0.00193368],\n",
       "[ -0.0210271],\n",
       "[ 0.00222679],\n",
       "[  -0.398258],\n",
       "[   0.182997],\n",
       "[  0.0506906],\n",
       "[   0.728183],\n",
       "[   0.237934],\n",
       "[-0.00182493],\n",
       "[   0.250975],\n",
       "[   0.583744],\n",
       "[   0.438101],\n",
       "[   0.371981]])"
      ]
     },
     "execution_count": 170,
     "metadata": {},
     "output_type": "execute_result"
    }
   ],
   "source": [
    "y_sym = sp.Matrix(y)\n",
    "X_sym = sp.Matrix(dtrain.get_data().toarray())\n",
    "w_sym = X_sym.pinv() * y_sym\n",
    "\n",
    "w_sym\n",
    "\n"
   ]
  },
  {
   "cell_type": "code",
   "execution_count": 209,
   "metadata": {},
   "outputs": [],
   "source": [
    "df = pd.DataFrame()\n",
    "df['gain'] = model.get_score(importance_type='gain')\n",
    "df['weight'] = model.get_score(importance_type='weight')\n",
    "df['cover'] = model.get_score(importance_type='cover')"
   ]
  },
  {
   "cell_type": "code",
   "execution_count": 210,
   "metadata": {},
   "outputs": [
    {
     "data": {
      "text/html": [
       "<div>\n",
       "<style scoped>\n",
       "    .dataframe tbody tr th:only-of-type {\n",
       "        vertical-align: middle;\n",
       "    }\n",
       "\n",
       "    .dataframe tbody tr th {\n",
       "        vertical-align: top;\n",
       "    }\n",
       "\n",
       "    .dataframe thead th {\n",
       "        text-align: right;\n",
       "    }\n",
       "</style>\n",
       "<table border=\"1\" class=\"dataframe\">\n",
       "  <thead>\n",
       "    <tr style=\"text-align: right;\">\n",
       "      <th></th>\n",
       "      <th>gain</th>\n",
       "      <th>weight</th>\n",
       "      <th>cover</th>\n",
       "    </tr>\n",
       "  </thead>\n",
       "  <tbody>\n",
       "    <tr>\n",
       "      <th>age</th>\n",
       "      <td>0.730222</td>\n",
       "      <td>135.0</td>\n",
       "      <td>333.200012</td>\n",
       "    </tr>\n",
       "    <tr>\n",
       "      <th>fare</th>\n",
       "      <td>1.027053</td>\n",
       "      <td>102.0</td>\n",
       "      <td>344.254913</td>\n",
       "    </tr>\n",
       "    <tr>\n",
       "      <th>sibsp</th>\n",
       "      <td>1.395434</td>\n",
       "      <td>16.0</td>\n",
       "      <td>215.250000</td>\n",
       "    </tr>\n",
       "    <tr>\n",
       "      <th>parch</th>\n",
       "      <td>0.467154</td>\n",
       "      <td>12.0</td>\n",
       "      <td>300.333344</td>\n",
       "    </tr>\n",
       "    <tr>\n",
       "      <th>gender_male</th>\n",
       "      <td>41.281654</td>\n",
       "      <td>8.0</td>\n",
       "      <td>3530.000000</td>\n",
       "    </tr>\n",
       "    <tr>\n",
       "      <th>class_2nd</th>\n",
       "      <td>0.766686</td>\n",
       "      <td>5.0</td>\n",
       "      <td>953.200012</td>\n",
       "    </tr>\n",
       "    <tr>\n",
       "      <th>class_3rd</th>\n",
       "      <td>6.242602</td>\n",
       "      <td>10.0</td>\n",
       "      <td>839.000000</td>\n",
       "    </tr>\n",
       "    <tr>\n",
       "      <th>class_deck crew</th>\n",
       "      <td>6.357002</td>\n",
       "      <td>6.0</td>\n",
       "      <td>2628.666748</td>\n",
       "    </tr>\n",
       "    <tr>\n",
       "      <th>class_engineering crew</th>\n",
       "      <td>1.382401</td>\n",
       "      <td>2.0</td>\n",
       "      <td>2131.000000</td>\n",
       "    </tr>\n",
       "    <tr>\n",
       "      <th>class_restaurant staff</th>\n",
       "      <td>1.269791</td>\n",
       "      <td>2.0</td>\n",
       "      <td>2366.000000</td>\n",
       "    </tr>\n",
       "    <tr>\n",
       "      <th>class_victualling crew</th>\n",
       "      <td>0.559927</td>\n",
       "      <td>4.0</td>\n",
       "      <td>607.000000</td>\n",
       "    </tr>\n",
       "    <tr>\n",
       "      <th>embarked_Cherbourg</th>\n",
       "      <td>0.753335</td>\n",
       "      <td>6.0</td>\n",
       "      <td>961.000000</td>\n",
       "    </tr>\n",
       "    <tr>\n",
       "      <th>embarked_Queenstown</th>\n",
       "      <td>0.291452</td>\n",
       "      <td>1.0</td>\n",
       "      <td>10.000000</td>\n",
       "    </tr>\n",
       "    <tr>\n",
       "      <th>embarked_Southampton</th>\n",
       "      <td>0.409031</td>\n",
       "      <td>9.0</td>\n",
       "      <td>480.888885</td>\n",
       "    </tr>\n",
       "  </tbody>\n",
       "</table>\n",
       "</div>"
      ],
      "text/plain": [
       "                             gain  weight        cover\n",
       "age                      0.730222   135.0   333.200012\n",
       "fare                     1.027053   102.0   344.254913\n",
       "sibsp                    1.395434    16.0   215.250000\n",
       "parch                    0.467154    12.0   300.333344\n",
       "gender_male             41.281654     8.0  3530.000000\n",
       "class_2nd                0.766686     5.0   953.200012\n",
       "class_3rd                6.242602    10.0   839.000000\n",
       "class_deck crew          6.357002     6.0  2628.666748\n",
       "class_engineering crew   1.382401     2.0  2131.000000\n",
       "class_restaurant staff   1.269791     2.0  2366.000000\n",
       "class_victualling crew   0.559927     4.0   607.000000\n",
       "embarked_Cherbourg       0.753335     6.0   961.000000\n",
       "embarked_Queenstown      0.291452     1.0    10.000000\n",
       "embarked_Southampton     0.409031     9.0   480.888885"
      ]
     },
     "execution_count": 210,
     "metadata": {},
     "output_type": "execute_result"
    }
   ],
   "source": [
    "df"
   ]
  },
  {
   "cell_type": "code",
   "execution_count": null,
   "metadata": {},
   "outputs": [],
   "source": []
  },
  {
   "cell_type": "code",
   "execution_count": 11,
   "metadata": {},
   "outputs": [
    {
     "name": "stdout",
     "output_type": "stream",
     "text": [
      "Preparation of a new explainer is initiated\n",
      "\n",
      "  -> data              : 2207 rows 7 cols\n",
      "  -> target variable   : Parameter 'y' was a pandas.Series. Converted to a numpy.ndarray.\n",
      "  -> target variable   : 2207 values\n",
      "  -> model_class       : sklearn.ensemble._forest.RandomForestClassifier (default)\n",
      "  -> label             : Titanic RF Pipeline\n",
      "  -> predict function  : <function yhat_proba_default at 0x0000020D2D996980> will be used (default)\n",
      "  -> predict function  : Accepts only pandas.DataFrame, numpy.ndarray causes problems.\n",
      "  -> predicted values  : min = 0.169, mean = 0.322, max = 0.887\n",
      "  -> model type        : classification will be used (default)\n",
      "  -> residual function : difference between y and yhat (default)\n",
      "  -> residuals         : min = -0.827, mean = -0.000136, max = 0.825\n",
      "  -> model_info        : package sklearn\n",
      "\n",
      "A new explainer has been created!\n"
     ]
    },
    {
     "name": "stderr",
     "output_type": "stream",
     "text": [
      "Calculating ceteris paribus: 100%|██████████| 7/7 [00:00<00:00,  7.74it/s]\n"
     ]
    },
    {
     "data": {
      "application/vnd.plotly.v1+json": {
       "config": {
        "displaylogo": false,
        "modeBarButtonsToRemove": [
         "sendDataToCloud",
         "lasso2d",
         "autoScale2d",
         "select2d",
         "zoom2d",
         "pan2d",
         "zoomIn2d",
         "zoomOut2d",
         "resetScale2d",
         "toggleSpikelines",
         "hoverCompareCartesian",
         "hoverClosestCartesian"
        ],
        "plotlyServerURL": "https://plot.ly",
        "staticPlot": false,
        "toImageButtonOptions": {
         "height": null,
         "width": null
        }
       },
       "data": [
        {
         "customdata": [
          [
           "</br>id: Henry</br>prediction: 0.423</br>age: 0.1666666667</br></br>gender: male</br>class: 1st</br>embarked: Cherbourg</br>fare: 25.0</br>sibsp: 0.0</br>parch: 0.0</br>_original_yhat_: 0.29337875368633587</br>"
          ],
          [
           "</br>id: Henry</br>prediction: 0.423</br>age: 0.905000000033</br></br>gender: male</br>class: 1st</br>embarked: Cherbourg</br>fare: 25.0</br>sibsp: 0.0</br>parch: 0.0</br>_original_yhat_: 0.29337875368633587</br>"
          ],
          [
           "</br>id: Henry</br>prediction: 0.42</br>age: 1.643333333366</br></br>gender: male</br>class: 1st</br>embarked: Cherbourg</br>fare: 25.0</br>sibsp: 0.0</br>parch: 0.0</br>_original_yhat_: 0.29337875368633587</br>"
          ],
          [
           "</br>id: Henry</br>prediction: 0.42</br>age: 2.3816666666989996</br></br>gender: male</br>class: 1st</br>embarked: Cherbourg</br>fare: 25.0</br>sibsp: 0.0</br>parch: 0.0</br>_original_yhat_: 0.29337875368633587</br>"
          ],
          [
           "</br>id: Henry</br>prediction: 0.42</br>age: 3.120000000032</br></br>gender: male</br>class: 1st</br>embarked: Cherbourg</br>fare: 25.0</br>sibsp: 0.0</br>parch: 0.0</br>_original_yhat_: 0.29337875368633587</br>"
          ],
          [
           "</br>id: Henry</br>prediction: 0.415</br>age: 3.858333333365</br></br>gender: male</br>class: 1st</br>embarked: Cherbourg</br>fare: 25.0</br>sibsp: 0.0</br>parch: 0.0</br>_original_yhat_: 0.29337875368633587</br>"
          ],
          [
           "</br>id: Henry</br>prediction: 0.388</br>age: 4.596666666698</br></br>gender: male</br>class: 1st</br>embarked: Cherbourg</br>fare: 25.0</br>sibsp: 0.0</br>parch: 0.0</br>_original_yhat_: 0.29337875368633587</br>"
          ],
          [
           "</br>id: Henry</br>prediction: 0.388</br>age: 5.335000000031</br></br>gender: male</br>class: 1st</br>embarked: Cherbourg</br>fare: 25.0</br>sibsp: 0.0</br>parch: 0.0</br>_original_yhat_: 0.29337875368633587</br>"
          ],
          [
           "</br>id: Henry</br>prediction: 0.383</br>age: 6.073333333364</br></br>gender: male</br>class: 1st</br>embarked: Cherbourg</br>fare: 25.0</br>sibsp: 0.0</br>parch: 0.0</br>_original_yhat_: 0.29337875368633587</br>"
          ],
          [
           "</br>id: Henry</br>prediction: 0.377</br>age: 6.8116666666970005</br></br>gender: male</br>class: 1st</br>embarked: Cherbourg</br>fare: 25.0</br>sibsp: 0.0</br>parch: 0.0</br>_original_yhat_: 0.29337875368633587</br>"
          ],
          [
           "</br>id: Henry</br>prediction: 0.377</br>age: 7.550000000030001</br></br>gender: male</br>class: 1st</br>embarked: Cherbourg</br>fare: 25.0</br>sibsp: 0.0</br>parch: 0.0</br>_original_yhat_: 0.29337875368633587</br>"
          ],
          [
           "</br>id: Henry</br>prediction: 0.377</br>age: 8.288333333363</br></br>gender: male</br>class: 1st</br>embarked: Cherbourg</br>fare: 25.0</br>sibsp: 0.0</br>parch: 0.0</br>_original_yhat_: 0.29337875368633587</br>"
          ],
          [
           "</br>id: Henry</br>prediction: 0.371</br>age: 9.026666666695998</br></br>gender: male</br>class: 1st</br>embarked: Cherbourg</br>fare: 25.0</br>sibsp: 0.0</br>parch: 0.0</br>_original_yhat_: 0.29337875368633587</br>"
          ],
          [
           "</br>id: Henry</br>prediction: 0.341</br>age: 9.765000000029</br></br>gender: male</br>class: 1st</br>embarked: Cherbourg</br>fare: 25.0</br>sibsp: 0.0</br>parch: 0.0</br>_original_yhat_: 0.29337875368633587</br>"
          ],
          [
           "</br>id: Henry</br>prediction: 0.339</br>age: 10.503333333361999</br></br>gender: male</br>class: 1st</br>embarked: Cherbourg</br>fare: 25.0</br>sibsp: 0.0</br>parch: 0.0</br>_original_yhat_: 0.29337875368633587</br>"
          ],
          [
           "</br>id: Henry</br>prediction: 0.339</br>age: 11.241666666695</br></br>gender: male</br>class: 1st</br>embarked: Cherbourg</br>fare: 25.0</br>sibsp: 0.0</br>parch: 0.0</br>_original_yhat_: 0.29337875368633587</br>"
          ],
          [
           "</br>id: Henry</br>prediction: 0.339</br>age: 11.980000000028</br></br>gender: male</br>class: 1st</br>embarked: Cherbourg</br>fare: 25.0</br>sibsp: 0.0</br>parch: 0.0</br>_original_yhat_: 0.29337875368633587</br>"
          ],
          [
           "</br>id: Henry</br>prediction: 0.337</br>age: 12.718333333360999</br></br>gender: male</br>class: 1st</br>embarked: Cherbourg</br>fare: 25.0</br>sibsp: 0.0</br>parch: 0.0</br>_original_yhat_: 0.29337875368633587</br>"
          ],
          [
           "</br>id: Henry</br>prediction: 0.337</br>age: 13.456666666694</br></br>gender: male</br>class: 1st</br>embarked: Cherbourg</br>fare: 25.0</br>sibsp: 0.0</br>parch: 0.0</br>_original_yhat_: 0.29337875368633587</br>"
          ],
          [
           "</br>id: Henry</br>prediction: 0.316</br>age: 14.195000000027</br></br>gender: male</br>class: 1st</br>embarked: Cherbourg</br>fare: 25.0</br>sibsp: 0.0</br>parch: 0.0</br>_original_yhat_: 0.29337875368633587</br>"
          ],
          [
           "</br>id: Henry</br>prediction: 0.312</br>age: 14.93333333336</br></br>gender: male</br>class: 1st</br>embarked: Cherbourg</br>fare: 25.0</br>sibsp: 0.0</br>parch: 0.0</br>_original_yhat_: 0.29337875368633587</br>"
          ],
          [
           "</br>id: Henry</br>prediction: 0.308</br>age: 15.671666666693</br></br>gender: male</br>class: 1st</br>embarked: Cherbourg</br>fare: 25.0</br>sibsp: 0.0</br>parch: 0.0</br>_original_yhat_: 0.29337875368633587</br>"
          ],
          [
           "</br>id: Henry</br>prediction: 0.308</br>age: 16.410000000026</br></br>gender: male</br>class: 1st</br>embarked: Cherbourg</br>fare: 25.0</br>sibsp: 0.0</br>parch: 0.0</br>_original_yhat_: 0.29337875368633587</br>"
          ],
          [
           "</br>id: Henry</br>prediction: 0.303</br>age: 17.148333333359</br></br>gender: male</br>class: 1st</br>embarked: Cherbourg</br>fare: 25.0</br>sibsp: 0.0</br>parch: 0.0</br>_original_yhat_: 0.29337875368633587</br>"
          ],
          [
           "</br>id: Henry</br>prediction: 0.301</br>age: 17.886666666691998</br></br>gender: male</br>class: 1st</br>embarked: Cherbourg</br>fare: 25.0</br>sibsp: 0.0</br>parch: 0.0</br>_original_yhat_: 0.29337875368633587</br>"
          ],
          [
           "</br>id: Henry</br>prediction: 0.301</br>age: 18.625000000025</br></br>gender: male</br>class: 1st</br>embarked: Cherbourg</br>fare: 25.0</br>sibsp: 0.0</br>parch: 0.0</br>_original_yhat_: 0.29337875368633587</br>"
          ],
          [
           "</br>id: Henry</br>prediction: 0.301</br>age: 19.363333333358</br></br>gender: male</br>class: 1st</br>embarked: Cherbourg</br>fare: 25.0</br>sibsp: 0.0</br>parch: 0.0</br>_original_yhat_: 0.29337875368633587</br>"
          ],
          [
           "</br>id: Henry</br>prediction: 0.302</br>age: 20.101666666691</br></br>gender: male</br>class: 1st</br>embarked: Cherbourg</br>fare: 25.0</br>sibsp: 0.0</br>parch: 0.0</br>_original_yhat_: 0.29337875368633587</br>"
          ],
          [
           "</br>id: Henry</br>prediction: 0.302</br>age: 20.840000000024</br></br>gender: male</br>class: 1st</br>embarked: Cherbourg</br>fare: 25.0</br>sibsp: 0.0</br>parch: 0.0</br>_original_yhat_: 0.29337875368633587</br>"
          ],
          [
           "</br>id: Henry</br>prediction: 0.302</br>age: 21.578333333356998</br></br>gender: male</br>class: 1st</br>embarked: Cherbourg</br>fare: 25.0</br>sibsp: 0.0</br>parch: 0.0</br>_original_yhat_: 0.29337875368633587</br>"
          ],
          [
           "</br>id: Henry</br>prediction: 0.302</br>age: 22.31666666669</br></br>gender: male</br>class: 1st</br>embarked: Cherbourg</br>fare: 25.0</br>sibsp: 0.0</br>parch: 0.0</br>_original_yhat_: 0.29337875368633587</br>"
          ],
          [
           "</br>id: Henry</br>prediction: 0.301</br>age: 23.055000000023</br></br>gender: male</br>class: 1st</br>embarked: Cherbourg</br>fare: 25.0</br>sibsp: 0.0</br>parch: 0.0</br>_original_yhat_: 0.29337875368633587</br>"
          ],
          [
           "</br>id: Henry</br>prediction: 0.301</br>age: 23.793333333356</br></br>gender: male</br>class: 1st</br>embarked: Cherbourg</br>fare: 25.0</br>sibsp: 0.0</br>parch: 0.0</br>_original_yhat_: 0.29337875368633587</br>"
          ],
          [
           "</br>id: Henry</br>prediction: 0.301</br>age: 24.531666666689</br></br>gender: male</br>class: 1st</br>embarked: Cherbourg</br>fare: 25.0</br>sibsp: 0.0</br>parch: 0.0</br>_original_yhat_: 0.29337875368633587</br>"
          ],
          [
           "</br>id: Henry</br>prediction: 0.301</br>age: 25.270000000021998</br></br>gender: male</br>class: 1st</br>embarked: Cherbourg</br>fare: 25.0</br>sibsp: 0.0</br>parch: 0.0</br>_original_yhat_: 0.29337875368633587</br>"
          ],
          [
           "</br>id: Henry</br>prediction: 0.301</br>age: 26.008333333355</br></br>gender: male</br>class: 1st</br>embarked: Cherbourg</br>fare: 25.0</br>sibsp: 0.0</br>parch: 0.0</br>_original_yhat_: 0.29337875368633587</br>"
          ],
          [
           "</br>id: Henry</br>prediction: 0.301</br>age: 26.746666666688</br></br>gender: male</br>class: 1st</br>embarked: Cherbourg</br>fare: 25.0</br>sibsp: 0.0</br>parch: 0.0</br>_original_yhat_: 0.29337875368633587</br>"
          ],
          [
           "</br>id: Henry</br>prediction: 0.301</br>age: 27.485000000021</br></br>gender: male</br>class: 1st</br>embarked: Cherbourg</br>fare: 25.0</br>sibsp: 0.0</br>parch: 0.0</br>_original_yhat_: 0.29337875368633587</br>"
          ],
          [
           "</br>id: Henry</br>prediction: 0.301</br>age: 28.223333333354</br></br>gender: male</br>class: 1st</br>embarked: Cherbourg</br>fare: 25.0</br>sibsp: 0.0</br>parch: 0.0</br>_original_yhat_: 0.29337875368633587</br>"
          ],
          [
           "</br>id: Henry</br>prediction: 0.301</br>age: 28.961666666686998</br></br>gender: male</br>class: 1st</br>embarked: Cherbourg</br>fare: 25.0</br>sibsp: 0.0</br>parch: 0.0</br>_original_yhat_: 0.29337875368633587</br>"
          ],
          [
           "</br>id: Henry</br>prediction: 0.3</br>age: 29.70000000002</br></br>gender: male</br>class: 1st</br>embarked: Cherbourg</br>fare: 25.0</br>sibsp: 0.0</br>parch: 0.0</br>_original_yhat_: 0.29337875368633587</br>"
          ],
          [
           "</br>id: Henry</br>prediction: 0.3</br>age: 30.438333333353</br></br>gender: male</br>class: 1st</br>embarked: Cherbourg</br>fare: 25.0</br>sibsp: 0.0</br>parch: 0.0</br>_original_yhat_: 0.29337875368633587</br>"
          ],
          [
           "</br>id: Henry</br>prediction: 0.3</br>age: 31.176666666686</br></br>gender: male</br>class: 1st</br>embarked: Cherbourg</br>fare: 25.0</br>sibsp: 0.0</br>parch: 0.0</br>_original_yhat_: 0.29337875368633587</br>"
          ],
          [
           "</br>id: Henry</br>prediction: 0.3</br>age: 31.915000000019</br></br>gender: male</br>class: 1st</br>embarked: Cherbourg</br>fare: 25.0</br>sibsp: 0.0</br>parch: 0.0</br>_original_yhat_: 0.29337875368633587</br>"
          ],
          [
           "</br>id: Henry</br>prediction: 0.3</br>age: 32.653333333352</br></br>gender: male</br>class: 1st</br>embarked: Cherbourg</br>fare: 25.0</br>sibsp: 0.0</br>parch: 0.0</br>_original_yhat_: 0.29337875368633587</br>"
          ],
          [
           "</br>id: Henry</br>prediction: 0.3</br>age: 33.391666666685005</br></br>gender: male</br>class: 1st</br>embarked: Cherbourg</br>fare: 25.0</br>sibsp: 0.0</br>parch: 0.0</br>_original_yhat_: 0.29337875368633587</br>"
          ],
          [
           "</br>id: Henry</br>prediction: 0.3</br>age: 34.130000000018</br></br>gender: male</br>class: 1st</br>embarked: Cherbourg</br>fare: 25.0</br>sibsp: 0.0</br>parch: 0.0</br>_original_yhat_: 0.29337875368633587</br>"
          ],
          [
           "</br>id: Henry</br>prediction: 0.3</br>age: 34.868333333351</br></br>gender: male</br>class: 1st</br>embarked: Cherbourg</br>fare: 25.0</br>sibsp: 0.0</br>parch: 0.0</br>_original_yhat_: 0.29337875368633587</br>"
          ],
          [
           "</br>id: Henry</br>prediction: 0.296</br>age: 35.606666666684</br></br>gender: male</br>class: 1st</br>embarked: Cherbourg</br>fare: 25.0</br>sibsp: 0.0</br>parch: 0.0</br>_original_yhat_: 0.29337875368633587</br>"
          ],
          [
           "</br>id: Henry</br>prediction: 0.296</br>age: 36.345000000017</br></br>gender: male</br>class: 1st</br>embarked: Cherbourg</br>fare: 25.0</br>sibsp: 0.0</br>parch: 0.0</br>_original_yhat_: 0.29337875368633587</br>"
          ],
          [
           "</br>id: Henry</br>prediction: 0.295</br>age: 37.083333333350005</br></br>gender: male</br>class: 1st</br>embarked: Cherbourg</br>fare: 25.0</br>sibsp: 0.0</br>parch: 0.0</br>_original_yhat_: 0.29337875368633587</br>"
          ],
          [
           "</br>id: Henry</br>prediction: 0.295</br>age: 37.821666666683</br></br>gender: male</br>class: 1st</br>embarked: Cherbourg</br>fare: 25.0</br>sibsp: 0.0</br>parch: 0.0</br>_original_yhat_: 0.29337875368633587</br>"
          ],
          [
           "</br>id: Henry</br>prediction: 0.295</br>age: 38.560000000016004</br></br>gender: male</br>class: 1st</br>embarked: Cherbourg</br>fare: 25.0</br>sibsp: 0.0</br>parch: 0.0</br>_original_yhat_: 0.29337875368633587</br>"
          ],
          [
           "</br>id: Henry</br>prediction: 0.295</br>age: 39.298333333349</br></br>gender: male</br>class: 1st</br>embarked: Cherbourg</br>fare: 25.0</br>sibsp: 0.0</br>parch: 0.0</br>_original_yhat_: 0.29337875368633587</br>"
          ],
          [
           "</br>id: Henry</br>prediction: 0.294</br>age: 40.036666666682</br></br>gender: male</br>class: 1st</br>embarked: Cherbourg</br>fare: 25.0</br>sibsp: 0.0</br>parch: 0.0</br>_original_yhat_: 0.29337875368633587</br>"
          ],
          [
           "</br>id: Henry</br>prediction: 0.294</br>age: 40.775000000015005</br></br>gender: male</br>class: 1st</br>embarked: Cherbourg</br>fare: 25.0</br>sibsp: 0.0</br>parch: 0.0</br>_original_yhat_: 0.29337875368633587</br>"
          ],
          [
           "</br>id: Henry</br>prediction: 0.294</br>age: 41.513333333348</br></br>gender: male</br>class: 1st</br>embarked: Cherbourg</br>fare: 25.0</br>sibsp: 0.0</br>parch: 0.0</br>_original_yhat_: 0.29337875368633587</br>"
          ],
          [
           "</br>id: Henry</br>prediction: 0.294</br>age: 42.251666666681004</br></br>gender: male</br>class: 1st</br>embarked: Cherbourg</br>fare: 25.0</br>sibsp: 0.0</br>parch: 0.0</br>_original_yhat_: 0.29337875368633587</br>"
          ],
          [
           "</br>id: Henry</br>prediction: 0.294</br>age: 42.990000000014</br></br>gender: male</br>class: 1st</br>embarked: Cherbourg</br>fare: 25.0</br>sibsp: 0.0</br>parch: 0.0</br>_original_yhat_: 0.29337875368633587</br>"
          ],
          [
           "</br>id: Henry</br>prediction: 0.294</br>age: 43.728333333347</br></br>gender: male</br>class: 1st</br>embarked: Cherbourg</br>fare: 25.0</br>sibsp: 0.0</br>parch: 0.0</br>_original_yhat_: 0.29337875368633587</br>"
          ],
          [
           "</br>id: Henry</br>prediction: 0.294</br>age: 44.466666666680005</br></br>gender: male</br>class: 1st</br>embarked: Cherbourg</br>fare: 25.0</br>sibsp: 0.0</br>parch: 0.0</br>_original_yhat_: 0.29337875368633587</br>"
          ],
          [
           "</br>id: Henry</br>prediction: 0.294</br>age: 45.205000000013</br></br>gender: male</br>class: 1st</br>embarked: Cherbourg</br>fare: 25.0</br>sibsp: 0.0</br>parch: 0.0</br>_original_yhat_: 0.29337875368633587</br>"
          ],
          [
           "</br>id: Henry</br>prediction: 0.293</br>age: 45.943333333346004</br></br>gender: male</br>class: 1st</br>embarked: Cherbourg</br>fare: 25.0</br>sibsp: 0.0</br>parch: 0.0</br>_original_yhat_: 0.29337875368633587</br>"
          ],
          [
           "</br>id: Henry</br>prediction: 0.293</br>age: 46.681666666679</br></br>gender: male</br>class: 1st</br>embarked: Cherbourg</br>fare: 25.0</br>sibsp: 0.0</br>parch: 0.0</br>_original_yhat_: 0.29337875368633587</br>"
          ],
          [
           "</br>id: Henry</br>prediction: 0.293</br>age: 47.0</br></br>gender: male</br>class: 1st</br>embarked: Cherbourg</br>fare: 25.0</br>sibsp: 0.0</br>parch: 0.0</br>_original_yhat_: 0.29337875368633587</br>"
          ],
          [
           "</br>id: Henry</br>prediction: 0.293</br>age: 47.420000000012</br></br>gender: male</br>class: 1st</br>embarked: Cherbourg</br>fare: 25.0</br>sibsp: 0.0</br>parch: 0.0</br>_original_yhat_: 0.29337875368633587</br>"
          ],
          [
           "</br>id: Henry</br>prediction: 0.293</br>age: 48.158333333345006</br></br>gender: male</br>class: 1st</br>embarked: Cherbourg</br>fare: 25.0</br>sibsp: 0.0</br>parch: 0.0</br>_original_yhat_: 0.29337875368633587</br>"
          ],
          [
           "</br>id: Henry</br>prediction: 0.293</br>age: 48.896666666678</br></br>gender: male</br>class: 1st</br>embarked: Cherbourg</br>fare: 25.0</br>sibsp: 0.0</br>parch: 0.0</br>_original_yhat_: 0.29337875368633587</br>"
          ],
          [
           "</br>id: Henry</br>prediction: 0.293</br>age: 49.635000000011004</br></br>gender: male</br>class: 1st</br>embarked: Cherbourg</br>fare: 25.0</br>sibsp: 0.0</br>parch: 0.0</br>_original_yhat_: 0.29337875368633587</br>"
          ],
          [
           "</br>id: Henry</br>prediction: 0.293</br>age: 50.373333333344</br></br>gender: male</br>class: 1st</br>embarked: Cherbourg</br>fare: 25.0</br>sibsp: 0.0</br>parch: 0.0</br>_original_yhat_: 0.29337875368633587</br>"
          ],
          [
           "</br>id: Henry</br>prediction: 0.293</br>age: 51.111666666677</br></br>gender: male</br>class: 1st</br>embarked: Cherbourg</br>fare: 25.0</br>sibsp: 0.0</br>parch: 0.0</br>_original_yhat_: 0.29337875368633587</br>"
          ],
          [
           "</br>id: Henry</br>prediction: 0.293</br>age: 51.850000000010006</br></br>gender: male</br>class: 1st</br>embarked: Cherbourg</br>fare: 25.0</br>sibsp: 0.0</br>parch: 0.0</br>_original_yhat_: 0.29337875368633587</br>"
          ],
          [
           "</br>id: Henry</br>prediction: 0.293</br>age: 52.588333333343</br></br>gender: male</br>class: 1st</br>embarked: Cherbourg</br>fare: 25.0</br>sibsp: 0.0</br>parch: 0.0</br>_original_yhat_: 0.29337875368633587</br>"
          ],
          [
           "</br>id: Henry</br>prediction: 0.293</br>age: 53.326666666676005</br></br>gender: male</br>class: 1st</br>embarked: Cherbourg</br>fare: 25.0</br>sibsp: 0.0</br>parch: 0.0</br>_original_yhat_: 0.29337875368633587</br>"
          ],
          [
           "</br>id: Henry</br>prediction: 0.29</br>age: 54.065000000009</br></br>gender: male</br>class: 1st</br>embarked: Cherbourg</br>fare: 25.0</br>sibsp: 0.0</br>parch: 0.0</br>_original_yhat_: 0.29337875368633587</br>"
          ],
          [
           "</br>id: Henry</br>prediction: 0.281</br>age: 54.803333333342</br></br>gender: male</br>class: 1st</br>embarked: Cherbourg</br>fare: 25.0</br>sibsp: 0.0</br>parch: 0.0</br>_original_yhat_: 0.29337875368633587</br>"
          ],
          [
           "</br>id: Henry</br>prediction: 0.28</br>age: 55.541666666675006</br></br>gender: male</br>class: 1st</br>embarked: Cherbourg</br>fare: 25.0</br>sibsp: 0.0</br>parch: 0.0</br>_original_yhat_: 0.29337875368633587</br>"
          ],
          [
           "</br>id: Henry</br>prediction: 0.279</br>age: 56.280000000008</br></br>gender: male</br>class: 1st</br>embarked: Cherbourg</br>fare: 25.0</br>sibsp: 0.0</br>parch: 0.0</br>_original_yhat_: 0.29337875368633587</br>"
          ],
          [
           "</br>id: Henry</br>prediction: 0.277</br>age: 57.018333333341005</br></br>gender: male</br>class: 1st</br>embarked: Cherbourg</br>fare: 25.0</br>sibsp: 0.0</br>parch: 0.0</br>_original_yhat_: 0.29337875368633587</br>"
          ],
          [
           "</br>id: Henry</br>prediction: 0.277</br>age: 57.756666666674</br></br>gender: male</br>class: 1st</br>embarked: Cherbourg</br>fare: 25.0</br>sibsp: 0.0</br>parch: 0.0</br>_original_yhat_: 0.29337875368633587</br>"
          ],
          [
           "</br>id: Henry</br>prediction: 0.277</br>age: 58.495000000007</br></br>gender: male</br>class: 1st</br>embarked: Cherbourg</br>fare: 25.0</br>sibsp: 0.0</br>parch: 0.0</br>_original_yhat_: 0.29337875368633587</br>"
          ],
          [
           "</br>id: Henry</br>prediction: 0.275</br>age: 59.233333333340006</br></br>gender: male</br>class: 1st</br>embarked: Cherbourg</br>fare: 25.0</br>sibsp: 0.0</br>parch: 0.0</br>_original_yhat_: 0.29337875368633587</br>"
          ],
          [
           "</br>id: Henry</br>prediction: 0.275</br>age: 59.971666666673</br></br>gender: male</br>class: 1st</br>embarked: Cherbourg</br>fare: 25.0</br>sibsp: 0.0</br>parch: 0.0</br>_original_yhat_: 0.29337875368633587</br>"
          ],
          [
           "</br>id: Henry</br>prediction: 0.275</br>age: 60.710000000006005</br></br>gender: male</br>class: 1st</br>embarked: Cherbourg</br>fare: 25.0</br>sibsp: 0.0</br>parch: 0.0</br>_original_yhat_: 0.29337875368633587</br>"
          ],
          [
           "</br>id: Henry</br>prediction: 0.275</br>age: 61.448333333339</br></br>gender: male</br>class: 1st</br>embarked: Cherbourg</br>fare: 25.0</br>sibsp: 0.0</br>parch: 0.0</br>_original_yhat_: 0.29337875368633587</br>"
          ],
          [
           "</br>id: Henry</br>prediction: 0.274</br>age: 62.186666666672004</br></br>gender: male</br>class: 1st</br>embarked: Cherbourg</br>fare: 25.0</br>sibsp: 0.0</br>parch: 0.0</br>_original_yhat_: 0.29337875368633587</br>"
          ],
          [
           "</br>id: Henry</br>prediction: 0.274</br>age: 62.925000000005</br></br>gender: male</br>class: 1st</br>embarked: Cherbourg</br>fare: 25.0</br>sibsp: 0.0</br>parch: 0.0</br>_original_yhat_: 0.29337875368633587</br>"
          ],
          [
           "</br>id: Henry</br>prediction: 0.274</br>age: 63.663333333338</br></br>gender: male</br>class: 1st</br>embarked: Cherbourg</br>fare: 25.0</br>sibsp: 0.0</br>parch: 0.0</br>_original_yhat_: 0.29337875368633587</br>"
          ],
          [
           "</br>id: Henry</br>prediction: 0.274</br>age: 64.40166666667099</br></br>gender: male</br>class: 1st</br>embarked: Cherbourg</br>fare: 25.0</br>sibsp: 0.0</br>parch: 0.0</br>_original_yhat_: 0.29337875368633587</br>"
          ],
          [
           "</br>id: Henry</br>prediction: 0.274</br>age: 65.140000000004</br></br>gender: male</br>class: 1st</br>embarked: Cherbourg</br>fare: 25.0</br>sibsp: 0.0</br>parch: 0.0</br>_original_yhat_: 0.29337875368633587</br>"
          ],
          [
           "</br>id: Henry</br>prediction: 0.274</br>age: 65.878333333337</br></br>gender: male</br>class: 1st</br>embarked: Cherbourg</br>fare: 25.0</br>sibsp: 0.0</br>parch: 0.0</br>_original_yhat_: 0.29337875368633587</br>"
          ],
          [
           "</br>id: Henry</br>prediction: 0.274</br>age: 66.61666666667</br></br>gender: male</br>class: 1st</br>embarked: Cherbourg</br>fare: 25.0</br>sibsp: 0.0</br>parch: 0.0</br>_original_yhat_: 0.29337875368633587</br>"
          ],
          [
           "</br>id: Henry</br>prediction: 0.274</br>age: 67.355000000003</br></br>gender: male</br>class: 1st</br>embarked: Cherbourg</br>fare: 25.0</br>sibsp: 0.0</br>parch: 0.0</br>_original_yhat_: 0.29337875368633587</br>"
          ],
          [
           "</br>id: Henry</br>prediction: 0.274</br>age: 68.09333333333599</br></br>gender: male</br>class: 1st</br>embarked: Cherbourg</br>fare: 25.0</br>sibsp: 0.0</br>parch: 0.0</br>_original_yhat_: 0.29337875368633587</br>"
          ],
          [
           "</br>id: Henry</br>prediction: 0.274</br>age: 68.831666666669</br></br>gender: male</br>class: 1st</br>embarked: Cherbourg</br>fare: 25.0</br>sibsp: 0.0</br>parch: 0.0</br>_original_yhat_: 0.29337875368633587</br>"
          ],
          [
           "</br>id: Henry</br>prediction: 0.274</br>age: 69.570000000002</br></br>gender: male</br>class: 1st</br>embarked: Cherbourg</br>fare: 25.0</br>sibsp: 0.0</br>parch: 0.0</br>_original_yhat_: 0.29337875368633587</br>"
          ],
          [
           "</br>id: Henry</br>prediction: 0.274</br>age: 70.308333333335</br></br>gender: male</br>class: 1st</br>embarked: Cherbourg</br>fare: 25.0</br>sibsp: 0.0</br>parch: 0.0</br>_original_yhat_: 0.29337875368633587</br>"
          ],
          [
           "</br>id: Henry</br>prediction: 0.274</br>age: 71.04666666666799</br></br>gender: male</br>class: 1st</br>embarked: Cherbourg</br>fare: 25.0</br>sibsp: 0.0</br>parch: 0.0</br>_original_yhat_: 0.29337875368633587</br>"
          ],
          [
           "</br>id: Henry</br>prediction: 0.274</br>age: 71.78500000000099</br></br>gender: male</br>class: 1st</br>embarked: Cherbourg</br>fare: 25.0</br>sibsp: 0.0</br>parch: 0.0</br>_original_yhat_: 0.29337875368633587</br>"
          ],
          [
           "</br>id: Henry</br>prediction: 0.274</br>age: 72.523333333334</br></br>gender: male</br>class: 1st</br>embarked: Cherbourg</br>fare: 25.0</br>sibsp: 0.0</br>parch: 0.0</br>_original_yhat_: 0.29337875368633587</br>"
          ],
          [
           "</br>id: Henry</br>prediction: 0.274</br>age: 73.261666666667</br></br>gender: male</br>class: 1st</br>embarked: Cherbourg</br>fare: 25.0</br>sibsp: 0.0</br>parch: 0.0</br>_original_yhat_: 0.29337875368633587</br>"
          ],
          [
           "</br>id: Henry</br>prediction: 0.274</br>age: 74.0</br></br>gender: male</br>class: 1st</br>embarked: Cherbourg</br>fare: 25.0</br>sibsp: 0.0</br>parch: 0.0</br>_original_yhat_: 0.29337875368633587</br>"
          ]
         ],
         "hovertemplate": "%{customdata[0]}<extra></extra>",
         "legendgroup": "Titanic RF Pipeline",
         "line": {
          "color": "#46bac2",
          "dash": "solid",
          "width": 2
         },
         "marker": {
          "symbol": "circle"
         },
         "mode": "lines",
         "name": "Titanic RF Pipeline",
         "opacity": 1,
         "orientation": "v",
         "showlegend": true,
         "type": "scatter",
         "x": [
          0.1666666667,
          0.905000000033,
          1.643333333366,
          2.3816666666989996,
          3.120000000032,
          3.858333333365,
          4.596666666698,
          5.335000000031,
          6.073333333364,
          6.8116666666970005,
          7.550000000030001,
          8.288333333363,
          9.026666666695998,
          9.765000000029,
          10.503333333361999,
          11.241666666695,
          11.980000000028,
          12.718333333360999,
          13.456666666694,
          14.195000000027,
          14.93333333336,
          15.671666666693,
          16.410000000026,
          17.148333333359,
          17.886666666691998,
          18.625000000025,
          19.363333333358,
          20.101666666691,
          20.840000000024,
          21.578333333356998,
          22.31666666669,
          23.055000000023,
          23.793333333356,
          24.531666666689,
          25.270000000021998,
          26.008333333355,
          26.746666666688,
          27.485000000021,
          28.223333333354,
          28.961666666686998,
          29.70000000002,
          30.438333333353,
          31.176666666686,
          31.915000000019,
          32.653333333352,
          33.391666666685005,
          34.130000000018,
          34.868333333351,
          35.606666666684,
          36.345000000017,
          37.083333333350005,
          37.821666666683,
          38.560000000016004,
          39.298333333349,
          40.036666666682,
          40.775000000015005,
          41.513333333348,
          42.251666666681004,
          42.990000000014,
          43.728333333347,
          44.466666666680005,
          45.205000000013,
          45.943333333346004,
          46.681666666679,
          47,
          47.420000000012,
          48.158333333345006,
          48.896666666678,
          49.635000000011004,
          50.373333333344,
          51.111666666677,
          51.850000000010006,
          52.588333333343,
          53.326666666676005,
          54.065000000009,
          54.803333333342,
          55.541666666675006,
          56.280000000008,
          57.018333333341005,
          57.756666666674,
          58.495000000007,
          59.233333333340006,
          59.971666666673,
          60.710000000006005,
          61.448333333339,
          62.186666666672004,
          62.925000000005,
          63.663333333338,
          64.40166666667099,
          65.140000000004,
          65.878333333337,
          66.61666666667,
          67.355000000003,
          68.09333333333599,
          68.831666666669,
          69.570000000002,
          70.308333333335,
          71.04666666666799,
          71.78500000000099,
          72.523333333334,
          73.261666666667,
          74
         ],
         "xaxis": "x",
         "y": [
          0.42276230618067645,
          0.42276230618067645,
          0.42026737395640046,
          0.42026737395640046,
          0.42026737395640046,
          0.4147473501252094,
          0.38845950729586487,
          0.38845950729586487,
          0.3827955724975694,
          0.37658807047122184,
          0.37658807047122184,
          0.37658807047122184,
          0.3710748359994853,
          0.3408197643368283,
          0.33918532890326625,
          0.33918532890326625,
          0.33918532890326625,
          0.33684037390003607,
          0.33684037390003607,
          0.31622804985025055,
          0.3115007244221276,
          0.3083736672899877,
          0.3083736672899877,
          0.30251710396721676,
          0.3014183944357203,
          0.3014183944357203,
          0.3014183944357203,
          0.3016022095091506,
          0.30184065008298244,
          0.30184065008298244,
          0.30184065008298244,
          0.30075778257293045,
          0.30075778257293045,
          0.30075778257293045,
          0.30075778257293045,
          0.30075778257293045,
          0.30075778257293045,
          0.30075778257293045,
          0.30075778257293045,
          0.30075778257293045,
          0.2998684175554002,
          0.2998684175554002,
          0.2998684175554002,
          0.2998684175554002,
          0.2996571087323655,
          0.2996571087323655,
          0.2996571087323655,
          0.2996571087323655,
          0.29565648101956243,
          0.29565648101956243,
          0.29488426504655907,
          0.29488426504655907,
          0.29488426504655907,
          0.29488426504655907,
          0.2941428629301569,
          0.2939543587666138,
          0.2939543587666138,
          0.2939543587666138,
          0.2939543587666138,
          0.2939543587666138,
          0.2939543587666138,
          0.2939543587666138,
          0.29337875368633587,
          0.29337875368633587,
          0.29337875368633587,
          0.29337875368633587,
          0.29337875368633587,
          0.29337875368633587,
          0.29337875368633587,
          0.29337875368633587,
          0.29337875368633587,
          0.29337875368633587,
          0.29337875368633587,
          0.29337875368633587,
          0.2903447262899505,
          0.2814593535125166,
          0.28005512368002,
          0.27907374070129665,
          0.27677986090966705,
          0.27677986090966705,
          0.27677986090966705,
          0.27535502430835984,
          0.27535502430835984,
          0.27535502430835984,
          0.27535502430835984,
          0.27449050817932763,
          0.27449050817932763,
          0.27449050817932763,
          0.27449050817932763,
          0.27449050817932763,
          0.27449050817932763,
          0.27449050817932763,
          0.27449050817932763,
          0.27449050817932763,
          0.27449050817932763,
          0.27449050817932763,
          0.27449050817932763,
          0.27449050817932763,
          0.27449050817932763,
          0.27449050817932763,
          0.27449050817932763,
          0.27449050817932763
         ],
         "yaxis": "y"
        },
        {
         "customdata": [
          [
           "</br>id: Henry</br>prediction: 0.273</br>fare: 0.0</br></br>gender: male</br>age: 47.0</br>class: 1st</br>embarked: Cherbourg</br>sibsp: 0.0</br>parch: 0.0</br>_original_yhat_: 0.29337875368633587</br>"
          ],
          [
           "</br>id: Henry</br>prediction: 0.272</br>fare: 5.120607</br></br>gender: male</br>age: 47.0</br>class: 1st</br>embarked: Cherbourg</br>sibsp: 0.0</br>parch: 0.0</br>_original_yhat_: 0.29337875368633587</br>"
          ],
          [
           "</br>id: Henry</br>prediction: 0.276</br>fare: 10.241214</br></br>gender: male</br>age: 47.0</br>class: 1st</br>embarked: Cherbourg</br>sibsp: 0.0</br>parch: 0.0</br>_original_yhat_: 0.29337875368633587</br>"
          ],
          [
           "</br>id: Henry</br>prediction: 0.292</br>fare: 15.361820999999999</br></br>gender: male</br>age: 47.0</br>class: 1st</br>embarked: Cherbourg</br>sibsp: 0.0</br>parch: 0.0</br>_original_yhat_: 0.29337875368633587</br>"
          ],
          [
           "</br>id: Henry</br>prediction: 0.292</br>fare: 20.482428</br></br>gender: male</br>age: 47.0</br>class: 1st</br>embarked: Cherbourg</br>sibsp: 0.0</br>parch: 0.0</br>_original_yhat_: 0.29337875368633587</br>"
          ],
          [
           "</br>id: Henry</br>prediction: 0.293</br>fare: 25.0</br></br>gender: male</br>age: 47.0</br>class: 1st</br>embarked: Cherbourg</br>sibsp: 0.0</br>parch: 0.0</br>_original_yhat_: 0.29337875368633587</br>"
          ],
          [
           "</br>id: Henry</br>prediction: 0.294</br>fare: 25.603035</br></br>gender: male</br>age: 47.0</br>class: 1st</br>embarked: Cherbourg</br>sibsp: 0.0</br>parch: 0.0</br>_original_yhat_: 0.29337875368633587</br>"
          ],
          [
           "</br>id: Henry</br>prediction: 0.315</br>fare: 30.723641999999998</br></br>gender: male</br>age: 47.0</br>class: 1st</br>embarked: Cherbourg</br>sibsp: 0.0</br>parch: 0.0</br>_original_yhat_: 0.29337875368633587</br>"
          ],
          [
           "</br>id: Henry</br>prediction: 0.316</br>fare: 35.844249</br></br>gender: male</br>age: 47.0</br>class: 1st</br>embarked: Cherbourg</br>sibsp: 0.0</br>parch: 0.0</br>_original_yhat_: 0.29337875368633587</br>"
          ],
          [
           "</br>id: Henry</br>prediction: 0.316</br>fare: 40.964856</br></br>gender: male</br>age: 47.0</br>class: 1st</br>embarked: Cherbourg</br>sibsp: 0.0</br>parch: 0.0</br>_original_yhat_: 0.29337875368633587</br>"
          ],
          [
           "</br>id: Henry</br>prediction: 0.316</br>fare: 46.085463</br></br>gender: male</br>age: 47.0</br>class: 1st</br>embarked: Cherbourg</br>sibsp: 0.0</br>parch: 0.0</br>_original_yhat_: 0.29337875368633587</br>"
          ],
          [
           "</br>id: Henry</br>prediction: 0.319</br>fare: 51.20607</br></br>gender: male</br>age: 47.0</br>class: 1st</br>embarked: Cherbourg</br>sibsp: 0.0</br>parch: 0.0</br>_original_yhat_: 0.29337875368633587</br>"
          ],
          [
           "</br>id: Henry</br>prediction: 0.341</br>fare: 56.326677</br></br>gender: male</br>age: 47.0</br>class: 1st</br>embarked: Cherbourg</br>sibsp: 0.0</br>parch: 0.0</br>_original_yhat_: 0.29337875368633587</br>"
          ],
          [
           "</br>id: Henry</br>prediction: 0.338</br>fare: 61.447283999999996</br></br>gender: male</br>age: 47.0</br>class: 1st</br>embarked: Cherbourg</br>sibsp: 0.0</br>parch: 0.0</br>_original_yhat_: 0.29337875368633587</br>"
          ],
          [
           "</br>id: Henry</br>prediction: 0.338</br>fare: 66.567891</br></br>gender: male</br>age: 47.0</br>class: 1st</br>embarked: Cherbourg</br>sibsp: 0.0</br>parch: 0.0</br>_original_yhat_: 0.29337875368633587</br>"
          ],
          [
           "</br>id: Henry</br>prediction: 0.338</br>fare: 71.688498</br></br>gender: male</br>age: 47.0</br>class: 1st</br>embarked: Cherbourg</br>sibsp: 0.0</br>parch: 0.0</br>_original_yhat_: 0.29337875368633587</br>"
          ],
          [
           "</br>id: Henry</br>prediction: 0.34</br>fare: 76.80910499999999</br></br>gender: male</br>age: 47.0</br>class: 1st</br>embarked: Cherbourg</br>sibsp: 0.0</br>parch: 0.0</br>_original_yhat_: 0.29337875368633587</br>"
          ],
          [
           "</br>id: Henry</br>prediction: 0.34</br>fare: 81.929712</br></br>gender: male</br>age: 47.0</br>class: 1st</br>embarked: Cherbourg</br>sibsp: 0.0</br>parch: 0.0</br>_original_yhat_: 0.29337875368633587</br>"
          ],
          [
           "</br>id: Henry</br>prediction: 0.34</br>fare: 87.050319</br></br>gender: male</br>age: 47.0</br>class: 1st</br>embarked: Cherbourg</br>sibsp: 0.0</br>parch: 0.0</br>_original_yhat_: 0.29337875368633587</br>"
          ],
          [
           "</br>id: Henry</br>prediction: 0.341</br>fare: 92.170926</br></br>gender: male</br>age: 47.0</br>class: 1st</br>embarked: Cherbourg</br>sibsp: 0.0</br>parch: 0.0</br>_original_yhat_: 0.29337875368633587</br>"
          ],
          [
           "</br>id: Henry</br>prediction: 0.341</br>fare: 97.29153299999999</br></br>gender: male</br>age: 47.0</br>class: 1st</br>embarked: Cherbourg</br>sibsp: 0.0</br>parch: 0.0</br>_original_yhat_: 0.29337875368633587</br>"
          ],
          [
           "</br>id: Henry</br>prediction: 0.341</br>fare: 102.41214</br></br>gender: male</br>age: 47.0</br>class: 1st</br>embarked: Cherbourg</br>sibsp: 0.0</br>parch: 0.0</br>_original_yhat_: 0.29337875368633587</br>"
          ],
          [
           "</br>id: Henry</br>prediction: 0.341</br>fare: 107.532747</br></br>gender: male</br>age: 47.0</br>class: 1st</br>embarked: Cherbourg</br>sibsp: 0.0</br>parch: 0.0</br>_original_yhat_: 0.29337875368633587</br>"
          ],
          [
           "</br>id: Henry</br>prediction: 0.341</br>fare: 112.653354</br></br>gender: male</br>age: 47.0</br>class: 1st</br>embarked: Cherbourg</br>sibsp: 0.0</br>parch: 0.0</br>_original_yhat_: 0.29337875368633587</br>"
          ],
          [
           "</br>id: Henry</br>prediction: 0.341</br>fare: 117.77396099999999</br></br>gender: male</br>age: 47.0</br>class: 1st</br>embarked: Cherbourg</br>sibsp: 0.0</br>parch: 0.0</br>_original_yhat_: 0.29337875368633587</br>"
          ],
          [
           "</br>id: Henry</br>prediction: 0.341</br>fare: 122.89456799999999</br></br>gender: male</br>age: 47.0</br>class: 1st</br>embarked: Cherbourg</br>sibsp: 0.0</br>parch: 0.0</br>_original_yhat_: 0.29337875368633587</br>"
          ],
          [
           "</br>id: Henry</br>prediction: 0.341</br>fare: 128.015175</br></br>gender: male</br>age: 47.0</br>class: 1st</br>embarked: Cherbourg</br>sibsp: 0.0</br>parch: 0.0</br>_original_yhat_: 0.29337875368633587</br>"
          ],
          [
           "</br>id: Henry</br>prediction: 0.341</br>fare: 133.135782</br></br>gender: male</br>age: 47.0</br>class: 1st</br>embarked: Cherbourg</br>sibsp: 0.0</br>parch: 0.0</br>_original_yhat_: 0.29337875368633587</br>"
          ],
          [
           "</br>id: Henry</br>prediction: 0.341</br>fare: 138.25638899999998</br></br>gender: male</br>age: 47.0</br>class: 1st</br>embarked: Cherbourg</br>sibsp: 0.0</br>parch: 0.0</br>_original_yhat_: 0.29337875368633587</br>"
          ],
          [
           "</br>id: Henry</br>prediction: 0.341</br>fare: 143.376996</br></br>gender: male</br>age: 47.0</br>class: 1st</br>embarked: Cherbourg</br>sibsp: 0.0</br>parch: 0.0</br>_original_yhat_: 0.29337875368633587</br>"
          ],
          [
           "</br>id: Henry</br>prediction: 0.341</br>fare: 148.497603</br></br>gender: male</br>age: 47.0</br>class: 1st</br>embarked: Cherbourg</br>sibsp: 0.0</br>parch: 0.0</br>_original_yhat_: 0.29337875368633587</br>"
          ],
          [
           "</br>id: Henry</br>prediction: 0.341</br>fare: 153.61820999999998</br></br>gender: male</br>age: 47.0</br>class: 1st</br>embarked: Cherbourg</br>sibsp: 0.0</br>parch: 0.0</br>_original_yhat_: 0.29337875368633587</br>"
          ],
          [
           "</br>id: Henry</br>prediction: 0.341</br>fare: 158.73881699999998</br></br>gender: male</br>age: 47.0</br>class: 1st</br>embarked: Cherbourg</br>sibsp: 0.0</br>parch: 0.0</br>_original_yhat_: 0.29337875368633587</br>"
          ],
          [
           "</br>id: Henry</br>prediction: 0.341</br>fare: 163.859424</br></br>gender: male</br>age: 47.0</br>class: 1st</br>embarked: Cherbourg</br>sibsp: 0.0</br>parch: 0.0</br>_original_yhat_: 0.29337875368633587</br>"
          ],
          [
           "</br>id: Henry</br>prediction: 0.341</br>fare: 168.980031</br></br>gender: male</br>age: 47.0</br>class: 1st</br>embarked: Cherbourg</br>sibsp: 0.0</br>parch: 0.0</br>_original_yhat_: 0.29337875368633587</br>"
          ],
          [
           "</br>id: Henry</br>prediction: 0.341</br>fare: 174.100638</br></br>gender: male</br>age: 47.0</br>class: 1st</br>embarked: Cherbourg</br>sibsp: 0.0</br>parch: 0.0</br>_original_yhat_: 0.29337875368633587</br>"
          ],
          [
           "</br>id: Henry</br>prediction: 0.341</br>fare: 179.22124499999998</br></br>gender: male</br>age: 47.0</br>class: 1st</br>embarked: Cherbourg</br>sibsp: 0.0</br>parch: 0.0</br>_original_yhat_: 0.29337875368633587</br>"
          ],
          [
           "</br>id: Henry</br>prediction: 0.341</br>fare: 184.341852</br></br>gender: male</br>age: 47.0</br>class: 1st</br>embarked: Cherbourg</br>sibsp: 0.0</br>parch: 0.0</br>_original_yhat_: 0.29337875368633587</br>"
          ],
          [
           "</br>id: Henry</br>prediction: 0.341</br>fare: 189.462459</br></br>gender: male</br>age: 47.0</br>class: 1st</br>embarked: Cherbourg</br>sibsp: 0.0</br>parch: 0.0</br>_original_yhat_: 0.29337875368633587</br>"
          ],
          [
           "</br>id: Henry</br>prediction: 0.341</br>fare: 194.58306599999997</br></br>gender: male</br>age: 47.0</br>class: 1st</br>embarked: Cherbourg</br>sibsp: 0.0</br>parch: 0.0</br>_original_yhat_: 0.29337875368633587</br>"
          ],
          [
           "</br>id: Henry</br>prediction: 0.341</br>fare: 199.70367299999998</br></br>gender: male</br>age: 47.0</br>class: 1st</br>embarked: Cherbourg</br>sibsp: 0.0</br>parch: 0.0</br>_original_yhat_: 0.29337875368633587</br>"
          ],
          [
           "</br>id: Henry</br>prediction: 0.341</br>fare: 204.82428</br></br>gender: male</br>age: 47.0</br>class: 1st</br>embarked: Cherbourg</br>sibsp: 0.0</br>parch: 0.0</br>_original_yhat_: 0.29337875368633587</br>"
          ],
          [
           "</br>id: Henry</br>prediction: 0.341</br>fare: 209.944887</br></br>gender: male</br>age: 47.0</br>class: 1st</br>embarked: Cherbourg</br>sibsp: 0.0</br>parch: 0.0</br>_original_yhat_: 0.29337875368633587</br>"
          ],
          [
           "</br>id: Henry</br>prediction: 0.341</br>fare: 215.065494</br></br>gender: male</br>age: 47.0</br>class: 1st</br>embarked: Cherbourg</br>sibsp: 0.0</br>parch: 0.0</br>_original_yhat_: 0.29337875368633587</br>"
          ],
          [
           "</br>id: Henry</br>prediction: 0.341</br>fare: 220.18610099999998</br></br>gender: male</br>age: 47.0</br>class: 1st</br>embarked: Cherbourg</br>sibsp: 0.0</br>parch: 0.0</br>_original_yhat_: 0.29337875368633587</br>"
          ],
          [
           "</br>id: Henry</br>prediction: 0.341</br>fare: 225.306708</br></br>gender: male</br>age: 47.0</br>class: 1st</br>embarked: Cherbourg</br>sibsp: 0.0</br>parch: 0.0</br>_original_yhat_: 0.29337875368633587</br>"
          ],
          [
           "</br>id: Henry</br>prediction: 0.341</br>fare: 230.427315</br></br>gender: male</br>age: 47.0</br>class: 1st</br>embarked: Cherbourg</br>sibsp: 0.0</br>parch: 0.0</br>_original_yhat_: 0.29337875368633587</br>"
          ],
          [
           "</br>id: Henry</br>prediction: 0.341</br>fare: 235.54792199999997</br></br>gender: male</br>age: 47.0</br>class: 1st</br>embarked: Cherbourg</br>sibsp: 0.0</br>parch: 0.0</br>_original_yhat_: 0.29337875368633587</br>"
          ],
          [
           "</br>id: Henry</br>prediction: 0.341</br>fare: 240.66852899999998</br></br>gender: male</br>age: 47.0</br>class: 1st</br>embarked: Cherbourg</br>sibsp: 0.0</br>parch: 0.0</br>_original_yhat_: 0.29337875368633587</br>"
          ],
          [
           "</br>id: Henry</br>prediction: 0.341</br>fare: 245.78913599999998</br></br>gender: male</br>age: 47.0</br>class: 1st</br>embarked: Cherbourg</br>sibsp: 0.0</br>parch: 0.0</br>_original_yhat_: 0.29337875368633587</br>"
          ],
          [
           "</br>id: Henry</br>prediction: 0.341</br>fare: 250.909743</br></br>gender: male</br>age: 47.0</br>class: 1st</br>embarked: Cherbourg</br>sibsp: 0.0</br>parch: 0.0</br>_original_yhat_: 0.29337875368633587</br>"
          ],
          [
           "</br>id: Henry</br>prediction: 0.343</br>fare: 256.03035</br></br>gender: male</br>age: 47.0</br>class: 1st</br>embarked: Cherbourg</br>sibsp: 0.0</br>parch: 0.0</br>_original_yhat_: 0.29337875368633587</br>"
          ],
          [
           "</br>id: Henry</br>prediction: 0.343</br>fare: 261.150957</br></br>gender: male</br>age: 47.0</br>class: 1st</br>embarked: Cherbourg</br>sibsp: 0.0</br>parch: 0.0</br>_original_yhat_: 0.29337875368633587</br>"
          ],
          [
           "</br>id: Henry</br>prediction: 0.343</br>fare: 266.271564</br></br>gender: male</br>age: 47.0</br>class: 1st</br>embarked: Cherbourg</br>sibsp: 0.0</br>parch: 0.0</br>_original_yhat_: 0.29337875368633587</br>"
          ],
          [
           "</br>id: Henry</br>prediction: 0.343</br>fare: 271.39217099999996</br></br>gender: male</br>age: 47.0</br>class: 1st</br>embarked: Cherbourg</br>sibsp: 0.0</br>parch: 0.0</br>_original_yhat_: 0.29337875368633587</br>"
          ],
          [
           "</br>id: Henry</br>prediction: 0.343</br>fare: 276.51277799999997</br></br>gender: male</br>age: 47.0</br>class: 1st</br>embarked: Cherbourg</br>sibsp: 0.0</br>parch: 0.0</br>_original_yhat_: 0.29337875368633587</br>"
          ],
          [
           "</br>id: Henry</br>prediction: 0.343</br>fare: 281.633385</br></br>gender: male</br>age: 47.0</br>class: 1st</br>embarked: Cherbourg</br>sibsp: 0.0</br>parch: 0.0</br>_original_yhat_: 0.29337875368633587</br>"
          ],
          [
           "</br>id: Henry</br>prediction: 0.343</br>fare: 286.753992</br></br>gender: male</br>age: 47.0</br>class: 1st</br>embarked: Cherbourg</br>sibsp: 0.0</br>parch: 0.0</br>_original_yhat_: 0.29337875368633587</br>"
          ],
          [
           "</br>id: Henry</br>prediction: 0.343</br>fare: 291.874599</br></br>gender: male</br>age: 47.0</br>class: 1st</br>embarked: Cherbourg</br>sibsp: 0.0</br>parch: 0.0</br>_original_yhat_: 0.29337875368633587</br>"
          ],
          [
           "</br>id: Henry</br>prediction: 0.343</br>fare: 296.995206</br></br>gender: male</br>age: 47.0</br>class: 1st</br>embarked: Cherbourg</br>sibsp: 0.0</br>parch: 0.0</br>_original_yhat_: 0.29337875368633587</br>"
          ],
          [
           "</br>id: Henry</br>prediction: 0.343</br>fare: 302.115813</br></br>gender: male</br>age: 47.0</br>class: 1st</br>embarked: Cherbourg</br>sibsp: 0.0</br>parch: 0.0</br>_original_yhat_: 0.29337875368633587</br>"
          ],
          [
           "</br>id: Henry</br>prediction: 0.343</br>fare: 307.23641999999995</br></br>gender: male</br>age: 47.0</br>class: 1st</br>embarked: Cherbourg</br>sibsp: 0.0</br>parch: 0.0</br>_original_yhat_: 0.29337875368633587</br>"
          ],
          [
           "</br>id: Henry</br>prediction: 0.343</br>fare: 312.35702699999996</br></br>gender: male</br>age: 47.0</br>class: 1st</br>embarked: Cherbourg</br>sibsp: 0.0</br>parch: 0.0</br>_original_yhat_: 0.29337875368633587</br>"
          ],
          [
           "</br>id: Henry</br>prediction: 0.343</br>fare: 317.47763399999997</br></br>gender: male</br>age: 47.0</br>class: 1st</br>embarked: Cherbourg</br>sibsp: 0.0</br>parch: 0.0</br>_original_yhat_: 0.29337875368633587</br>"
          ],
          [
           "</br>id: Henry</br>prediction: 0.343</br>fare: 322.598241</br></br>gender: male</br>age: 47.0</br>class: 1st</br>embarked: Cherbourg</br>sibsp: 0.0</br>parch: 0.0</br>_original_yhat_: 0.29337875368633587</br>"
          ],
          [
           "</br>id: Henry</br>prediction: 0.343</br>fare: 327.718848</br></br>gender: male</br>age: 47.0</br>class: 1st</br>embarked: Cherbourg</br>sibsp: 0.0</br>parch: 0.0</br>_original_yhat_: 0.29337875368633587</br>"
          ],
          [
           "</br>id: Henry</br>prediction: 0.343</br>fare: 332.839455</br></br>gender: male</br>age: 47.0</br>class: 1st</br>embarked: Cherbourg</br>sibsp: 0.0</br>parch: 0.0</br>_original_yhat_: 0.29337875368633587</br>"
          ],
          [
           "</br>id: Henry</br>prediction: 0.343</br>fare: 337.960062</br></br>gender: male</br>age: 47.0</br>class: 1st</br>embarked: Cherbourg</br>sibsp: 0.0</br>parch: 0.0</br>_original_yhat_: 0.29337875368633587</br>"
          ],
          [
           "</br>id: Henry</br>prediction: 0.343</br>fare: 343.080669</br></br>gender: male</br>age: 47.0</br>class: 1st</br>embarked: Cherbourg</br>sibsp: 0.0</br>parch: 0.0</br>_original_yhat_: 0.29337875368633587</br>"
          ],
          [
           "</br>id: Henry</br>prediction: 0.343</br>fare: 348.201276</br></br>gender: male</br>age: 47.0</br>class: 1st</br>embarked: Cherbourg</br>sibsp: 0.0</br>parch: 0.0</br>_original_yhat_: 0.29337875368633587</br>"
          ],
          [
           "</br>id: Henry</br>prediction: 0.343</br>fare: 353.32188299999996</br></br>gender: male</br>age: 47.0</br>class: 1st</br>embarked: Cherbourg</br>sibsp: 0.0</br>parch: 0.0</br>_original_yhat_: 0.29337875368633587</br>"
          ],
          [
           "</br>id: Henry</br>prediction: 0.343</br>fare: 358.44248999999996</br></br>gender: male</br>age: 47.0</br>class: 1st</br>embarked: Cherbourg</br>sibsp: 0.0</br>parch: 0.0</br>_original_yhat_: 0.29337875368633587</br>"
          ],
          [
           "</br>id: Henry</br>prediction: 0.343</br>fare: 363.56309699999997</br></br>gender: male</br>age: 47.0</br>class: 1st</br>embarked: Cherbourg</br>sibsp: 0.0</br>parch: 0.0</br>_original_yhat_: 0.29337875368633587</br>"
          ],
          [
           "</br>id: Henry</br>prediction: 0.343</br>fare: 368.683704</br></br>gender: male</br>age: 47.0</br>class: 1st</br>embarked: Cherbourg</br>sibsp: 0.0</br>parch: 0.0</br>_original_yhat_: 0.29337875368633587</br>"
          ],
          [
           "</br>id: Henry</br>prediction: 0.343</br>fare: 373.804311</br></br>gender: male</br>age: 47.0</br>class: 1st</br>embarked: Cherbourg</br>sibsp: 0.0</br>parch: 0.0</br>_original_yhat_: 0.29337875368633587</br>"
          ],
          [
           "</br>id: Henry</br>prediction: 0.343</br>fare: 378.924918</br></br>gender: male</br>age: 47.0</br>class: 1st</br>embarked: Cherbourg</br>sibsp: 0.0</br>parch: 0.0</br>_original_yhat_: 0.29337875368633587</br>"
          ],
          [
           "</br>id: Henry</br>prediction: 0.343</br>fare: 384.045525</br></br>gender: male</br>age: 47.0</br>class: 1st</br>embarked: Cherbourg</br>sibsp: 0.0</br>parch: 0.0</br>_original_yhat_: 0.29337875368633587</br>"
          ],
          [
           "</br>id: Henry</br>prediction: 0.356</br>fare: 389.16613199999995</br></br>gender: male</br>age: 47.0</br>class: 1st</br>embarked: Cherbourg</br>sibsp: 0.0</br>parch: 0.0</br>_original_yhat_: 0.29337875368633587</br>"
          ],
          [
           "</br>id: Henry</br>prediction: 0.356</br>fare: 394.28673899999995</br></br>gender: male</br>age: 47.0</br>class: 1st</br>embarked: Cherbourg</br>sibsp: 0.0</br>parch: 0.0</br>_original_yhat_: 0.29337875368633587</br>"
          ],
          [
           "</br>id: Henry</br>prediction: 0.356</br>fare: 399.40734599999996</br></br>gender: male</br>age: 47.0</br>class: 1st</br>embarked: Cherbourg</br>sibsp: 0.0</br>parch: 0.0</br>_original_yhat_: 0.29337875368633587</br>"
          ],
          [
           "</br>id: Henry</br>prediction: 0.356</br>fare: 404.52795299999997</br></br>gender: male</br>age: 47.0</br>class: 1st</br>embarked: Cherbourg</br>sibsp: 0.0</br>parch: 0.0</br>_original_yhat_: 0.29337875368633587</br>"
          ],
          [
           "</br>id: Henry</br>prediction: 0.356</br>fare: 409.64856</br></br>gender: male</br>age: 47.0</br>class: 1st</br>embarked: Cherbourg</br>sibsp: 0.0</br>parch: 0.0</br>_original_yhat_: 0.29337875368633587</br>"
          ],
          [
           "</br>id: Henry</br>prediction: 0.356</br>fare: 414.769167</br></br>gender: male</br>age: 47.0</br>class: 1st</br>embarked: Cherbourg</br>sibsp: 0.0</br>parch: 0.0</br>_original_yhat_: 0.29337875368633587</br>"
          ],
          [
           "</br>id: Henry</br>prediction: 0.356</br>fare: 419.889774</br></br>gender: male</br>age: 47.0</br>class: 1st</br>embarked: Cherbourg</br>sibsp: 0.0</br>parch: 0.0</br>_original_yhat_: 0.29337875368633587</br>"
          ],
          [
           "</br>id: Henry</br>prediction: 0.356</br>fare: 425.010381</br></br>gender: male</br>age: 47.0</br>class: 1st</br>embarked: Cherbourg</br>sibsp: 0.0</br>parch: 0.0</br>_original_yhat_: 0.29337875368633587</br>"
          ],
          [
           "</br>id: Henry</br>prediction: 0.356</br>fare: 430.130988</br></br>gender: male</br>age: 47.0</br>class: 1st</br>embarked: Cherbourg</br>sibsp: 0.0</br>parch: 0.0</br>_original_yhat_: 0.29337875368633587</br>"
          ],
          [
           "</br>id: Henry</br>prediction: 0.356</br>fare: 435.25159499999995</br></br>gender: male</br>age: 47.0</br>class: 1st</br>embarked: Cherbourg</br>sibsp: 0.0</br>parch: 0.0</br>_original_yhat_: 0.29337875368633587</br>"
          ],
          [
           "</br>id: Henry</br>prediction: 0.356</br>fare: 440.37220199999996</br></br>gender: male</br>age: 47.0</br>class: 1st</br>embarked: Cherbourg</br>sibsp: 0.0</br>parch: 0.0</br>_original_yhat_: 0.29337875368633587</br>"
          ],
          [
           "</br>id: Henry</br>prediction: 0.356</br>fare: 445.49280899999997</br></br>gender: male</br>age: 47.0</br>class: 1st</br>embarked: Cherbourg</br>sibsp: 0.0</br>parch: 0.0</br>_original_yhat_: 0.29337875368633587</br>"
          ],
          [
           "</br>id: Henry</br>prediction: 0.356</br>fare: 450.613416</br></br>gender: male</br>age: 47.0</br>class: 1st</br>embarked: Cherbourg</br>sibsp: 0.0</br>parch: 0.0</br>_original_yhat_: 0.29337875368633587</br>"
          ],
          [
           "</br>id: Henry</br>prediction: 0.356</br>fare: 455.734023</br></br>gender: male</br>age: 47.0</br>class: 1st</br>embarked: Cherbourg</br>sibsp: 0.0</br>parch: 0.0</br>_original_yhat_: 0.29337875368633587</br>"
          ],
          [
           "</br>id: Henry</br>prediction: 0.356</br>fare: 460.85463</br></br>gender: male</br>age: 47.0</br>class: 1st</br>embarked: Cherbourg</br>sibsp: 0.0</br>parch: 0.0</br>_original_yhat_: 0.29337875368633587</br>"
          ],
          [
           "</br>id: Henry</br>prediction: 0.356</br>fare: 465.975237</br></br>gender: male</br>age: 47.0</br>class: 1st</br>embarked: Cherbourg</br>sibsp: 0.0</br>parch: 0.0</br>_original_yhat_: 0.29337875368633587</br>"
          ],
          [
           "</br>id: Henry</br>prediction: 0.356</br>fare: 471.09584399999994</br></br>gender: male</br>age: 47.0</br>class: 1st</br>embarked: Cherbourg</br>sibsp: 0.0</br>parch: 0.0</br>_original_yhat_: 0.29337875368633587</br>"
          ],
          [
           "</br>id: Henry</br>prediction: 0.356</br>fare: 476.21645099999995</br></br>gender: male</br>age: 47.0</br>class: 1st</br>embarked: Cherbourg</br>sibsp: 0.0</br>parch: 0.0</br>_original_yhat_: 0.29337875368633587</br>"
          ],
          [
           "</br>id: Henry</br>prediction: 0.356</br>fare: 481.33705799999996</br></br>gender: male</br>age: 47.0</br>class: 1st</br>embarked: Cherbourg</br>sibsp: 0.0</br>parch: 0.0</br>_original_yhat_: 0.29337875368633587</br>"
          ],
          [
           "</br>id: Henry</br>prediction: 0.356</br>fare: 486.45766499999996</br></br>gender: male</br>age: 47.0</br>class: 1st</br>embarked: Cherbourg</br>sibsp: 0.0</br>parch: 0.0</br>_original_yhat_: 0.29337875368633587</br>"
          ],
          [
           "</br>id: Henry</br>prediction: 0.356</br>fare: 491.57827199999997</br></br>gender: male</br>age: 47.0</br>class: 1st</br>embarked: Cherbourg</br>sibsp: 0.0</br>parch: 0.0</br>_original_yhat_: 0.29337875368633587</br>"
          ],
          [
           "</br>id: Henry</br>prediction: 0.356</br>fare: 496.698879</br></br>gender: male</br>age: 47.0</br>class: 1st</br>embarked: Cherbourg</br>sibsp: 0.0</br>parch: 0.0</br>_original_yhat_: 0.29337875368633587</br>"
          ],
          [
           "</br>id: Henry</br>prediction: 0.356</br>fare: 501.819486</br></br>gender: male</br>age: 47.0</br>class: 1st</br>embarked: Cherbourg</br>sibsp: 0.0</br>parch: 0.0</br>_original_yhat_: 0.29337875368633587</br>"
          ],
          [
           "</br>id: Henry</br>prediction: 0.356</br>fare: 506.940093</br></br>gender: male</br>age: 47.0</br>class: 1st</br>embarked: Cherbourg</br>sibsp: 0.0</br>parch: 0.0</br>_original_yhat_: 0.29337875368633587</br>"
          ],
          [
           "</br>id: Henry</br>prediction: 0.356</br>fare: 512.0607</br></br>gender: male</br>age: 47.0</br>class: 1st</br>embarked: Cherbourg</br>sibsp: 0.0</br>parch: 0.0</br>_original_yhat_: 0.29337875368633587</br>"
          ]
         ],
         "hovertemplate": "%{customdata[0]}<extra></extra>",
         "legendgroup": "Titanic RF Pipeline",
         "line": {
          "color": "#46bac2",
          "dash": "solid",
          "width": 2
         },
         "marker": {
          "symbol": "circle"
         },
         "mode": "lines",
         "name": "Titanic RF Pipeline",
         "opacity": 1,
         "orientation": "v",
         "showlegend": false,
         "type": "scatter",
         "x": [
          0,
          5.120607,
          10.241214,
          15.361820999999999,
          20.482428,
          25,
          25.603035,
          30.723641999999998,
          35.844249,
          40.964856,
          46.085463,
          51.20607,
          56.326677,
          61.447283999999996,
          66.567891,
          71.688498,
          76.80910499999999,
          81.929712,
          87.050319,
          92.170926,
          97.29153299999999,
          102.41214,
          107.532747,
          112.653354,
          117.77396099999999,
          122.89456799999999,
          128.015175,
          133.135782,
          138.25638899999998,
          143.376996,
          148.497603,
          153.61820999999998,
          158.73881699999998,
          163.859424,
          168.980031,
          174.100638,
          179.22124499999998,
          184.341852,
          189.462459,
          194.58306599999997,
          199.70367299999998,
          204.82428,
          209.944887,
          215.065494,
          220.18610099999998,
          225.306708,
          230.427315,
          235.54792199999997,
          240.66852899999998,
          245.78913599999998,
          250.909743,
          256.03035,
          261.150957,
          266.271564,
          271.39217099999996,
          276.51277799999997,
          281.633385,
          286.753992,
          291.874599,
          296.995206,
          302.115813,
          307.23641999999995,
          312.35702699999996,
          317.47763399999997,
          322.598241,
          327.718848,
          332.839455,
          337.960062,
          343.080669,
          348.201276,
          353.32188299999996,
          358.44248999999996,
          363.56309699999997,
          368.683704,
          373.804311,
          378.924918,
          384.045525,
          389.16613199999995,
          394.28673899999995,
          399.40734599999996,
          404.52795299999997,
          409.64856,
          414.769167,
          419.889774,
          425.010381,
          430.130988,
          435.25159499999995,
          440.37220199999996,
          445.49280899999997,
          450.613416,
          455.734023,
          460.85463,
          465.975237,
          471.09584399999994,
          476.21645099999995,
          481.33705799999996,
          486.45766499999996,
          491.57827199999997,
          496.698879,
          501.819486,
          506.940093,
          512.0607
         ],
         "xaxis": "x2",
         "y": [
          0.27296526832584245,
          0.2718875157456937,
          0.2757963452213723,
          0.2917904158561331,
          0.2917904158561331,
          0.29337875368633587,
          0.2937293094160173,
          0.3145460388551523,
          0.3159428215932936,
          0.31553881413756196,
          0.3162745043732522,
          0.31905460850931805,
          0.341346502465985,
          0.3378794927979345,
          0.3378794927979345,
          0.3378794927979345,
          0.3403679369485921,
          0.340041485042966,
          0.340041485042966,
          0.3409460903061239,
          0.3409460903061239,
          0.34145471099577906,
          0.34145471099577906,
          0.34145471099577906,
          0.34145471099577906,
          0.34145471099577906,
          0.34145471099577906,
          0.34145471099577906,
          0.34145471099577906,
          0.34145471099577906,
          0.34145471099577906,
          0.34145471099577906,
          0.34145471099577906,
          0.34145471099577906,
          0.34145471099577906,
          0.34145471099577906,
          0.34145471099577906,
          0.34145471099577906,
          0.34145471099577906,
          0.34145471099577906,
          0.34145471099577906,
          0.34145471099577906,
          0.34145471099577906,
          0.34145471099577906,
          0.34145471099577906,
          0.34145471099577906,
          0.34145471099577906,
          0.34145471099577906,
          0.34145471099577906,
          0.34145471099577906,
          0.34145471099577906,
          0.34299817159691637,
          0.34299817159691637,
          0.34299817159691637,
          0.34299817159691637,
          0.34299817159691637,
          0.34299817159691637,
          0.34299817159691637,
          0.34299817159691637,
          0.34299817159691637,
          0.34299817159691637,
          0.34299817159691637,
          0.34299817159691637,
          0.34299817159691637,
          0.34299817159691637,
          0.34299817159691637,
          0.34299817159691637,
          0.34299817159691637,
          0.34299817159691637,
          0.34299817159691637,
          0.34299817159691637,
          0.34299817159691637,
          0.34299817159691637,
          0.34299817159691637,
          0.34299817159691637,
          0.34299817159691637,
          0.34299817159691637,
          0.35635996381094504,
          0.35635996381094504,
          0.35635996381094504,
          0.35635996381094504,
          0.35635996381094504,
          0.35635996381094504,
          0.35635996381094504,
          0.35635996381094504,
          0.35635996381094504,
          0.35635996381094504,
          0.35635996381094504,
          0.35635996381094504,
          0.35635996381094504,
          0.35635996381094504,
          0.35635996381094504,
          0.35635996381094504,
          0.35635996381094504,
          0.35635996381094504,
          0.35635996381094504,
          0.35635996381094504,
          0.35635996381094504,
          0.35635996381094504,
          0.35635996381094504,
          0.35635996381094504,
          0.35635996381094504
         ],
         "yaxis": "y2"
        },
        {
         "customdata": [
          [
           "</br>id: Henry</br>prediction: 0.293</br>age: 47.0</br></br>gender: male</br>class: 1st</br>embarked: Cherbourg</br>fare: 25.0</br>sibsp: 0.0</br>parch: 0.0</br>_original_yhat_: 0.29337875368633587</br>"
          ]
         ],
         "hovertemplate": "%{customdata[0]}<extra></extra>",
         "legendgroup": "",
         "marker": {
          "color": "#371ea3",
          "size": 10,
          "symbol": "circle"
         },
         "mode": "markers",
         "name": "",
         "opacity": 1,
         "orientation": "v",
         "showlegend": false,
         "type": "scatter",
         "x": [
          47
         ],
         "xaxis": "x",
         "y": [
          0.29337875368633587
         ],
         "yaxis": "y"
        },
        {
         "customdata": [
          [
           "</br>id: Henry</br>prediction: 0.293</br>fare: 25.0</br></br>gender: male</br>age: 47.0</br>class: 1st</br>embarked: Cherbourg</br>sibsp: 0.0</br>parch: 0.0</br>_original_yhat_: 0.29337875368633587</br>"
          ]
         ],
         "hovertemplate": "%{customdata[0]}<extra></extra>",
         "legendgroup": "",
         "marker": {
          "color": "#371ea3",
          "size": 10,
          "symbol": "circle"
         },
         "mode": "markers",
         "name": "",
         "opacity": 1,
         "orientation": "v",
         "showlegend": false,
         "type": "scatter",
         "x": [
          25
         ],
         "xaxis": "x2",
         "y": [
          0.29337875368633587
         ],
         "yaxis": "y2"
        }
       ],
       "layout": {
        "annotations": [
         {
          "font": {
           "size": 13
          },
          "showarrow": false,
          "text": "age",
          "x": 0.2375,
          "xanchor": "center",
          "xref": "paper",
          "y": 1,
          "yanchor": "bottom",
          "yref": "paper"
         },
         {
          "font": {
           "size": 13
          },
          "showarrow": false,
          "text": "fare",
          "x": 0.7625,
          "xanchor": "center",
          "xref": "paper",
          "y": 1,
          "yanchor": "bottom",
          "yref": "paper"
         },
         {
          "font": {
           "size": 13
          },
          "showarrow": false,
          "text": "prediction",
          "textangle": -90,
          "x": -0.07,
          "xref": "paper",
          "y": 0.5,
          "yref": "paper"
         }
        ],
        "font": {
         "color": "#371ea3"
        },
        "height": 489,
        "hoverlabel": {
         "bgcolor": "rgba(0,0,0,0.8)"
        },
        "hovermode": "closest",
        "legend": {
         "font": {
          "size": 11
         },
         "itemsizing": "constant",
         "orientation": "h",
         "title": {
          "font": {
           "size": 12
          },
          "text": "label"
         },
         "tracegroupgap": 0,
         "x": 1,
         "xanchor": "right",
         "y": 1.0613496932515338,
         "yanchor": "bottom"
        },
        "margin": {
         "b": 71,
         "r": 30,
         "t": 78
        },
        "template": {
         "data": {
          "scatter": [
           {
            "type": "scatter"
           }
          ]
         }
        },
        "title": {
         "font": {
          "size": 16
         },
         "text": "Ceteris Paribus Profiles",
         "x": 0.15
        },
        "xaxis": {
         "anchor": "y",
         "automargin": true,
         "domain": [
          0,
          0.475
         ],
         "fixedrange": true,
         "gridwidth": 2,
         "showticklabels": true,
         "tickcolor": "white",
         "ticklen": 3,
         "ticks": "outside",
         "title": {
          "text": ""
         },
         "type": "linear",
         "zeroline": false
        },
        "xaxis2": {
         "anchor": "y2",
         "automargin": true,
         "domain": [
          0.525,
          1
         ],
         "fixedrange": true,
         "gridwidth": 2,
         "showticklabels": true,
         "tickcolor": "white",
         "ticklen": 3,
         "ticks": "outside",
         "title": {
          "text": ""
         },
         "type": "linear",
         "zeroline": false
        },
        "yaxis": {
         "anchor": "x",
         "automargin": true,
         "domain": [
          0,
          1
         ],
         "fixedrange": true,
         "gridwidth": 2,
         "range": [
          0.2568000367021954,
          0.4378497852241747
         ],
         "tickcolor": "white",
         "ticklen": 3,
         "ticks": "outside",
         "title": {
          "text": ""
         },
         "type": "linear",
         "zeroline": false
        },
        "yaxis2": {
         "anchor": "x2",
         "automargin": true,
         "domain": [
          0,
          1
         ],
         "fixedrange": true,
         "gridwidth": 2,
         "matches": "y",
         "range": [
          0.2568000367021954,
          0.4378497852241747
         ],
         "showticklabels": false,
         "tickcolor": "white",
         "ticklen": 3,
         "ticks": "outside",
         "title": {
          "text": ""
         },
         "type": "linear",
         "zeroline": false
        }
       }
      }
     },
     "metadata": {},
     "output_type": "display_data"
    }
   ],
   "source": [
    "import dalex as dx\n",
    "from sklearn.preprocessing import StandardScaler, OneHotEncoder\n",
    "from sklearn.pipeline import make_pipeline\n",
    "from sklearn.compose import make_column_transformer\n",
    "from sklearn.ensemble import RandomForestClassifier\n",
    "import pandas as pd\n",
    "\n",
    "titanic = dx.datasets.load_titanic()\n",
    "X = titanic.drop(columns='survived')\n",
    "y = titanic.survived\n",
    "\n",
    "preprocess = make_column_transformer(\n",
    "    (StandardScaler(), ['age', 'fare', 'parch', 'sibsp']),\n",
    "    (OneHotEncoder(), ['gender', 'class', 'embarked']))\n",
    "\n",
    "\n",
    "\n",
    "titanic_rf = make_pipeline(\n",
    "    preprocess,\n",
    "    RandomForestClassifier(max_depth = 3, n_estimators = 500))\n",
    "titanic_rf.fit(X, y)\n",
    "\n",
    "titanic_rf_exp = dx.Explainer(titanic_rf, \n",
    "                    X, y, label = \"Titanic RF Pipeline\")\n",
    "\n",
    "henry = pd.DataFrame({'gender'   : ['male'],\n",
    "                       'age'     : [47],\n",
    "                       'class'   : ['1st'],\n",
    "                       'embarked': ['Cherbourg'],\n",
    "                       'fare'    : [25],\n",
    "                       'sibsp'   : [0],\n",
    "                       'parch'   : [0]},\n",
    "                      index = ['Henry'])\n",
    "\n",
    "cp_henry = titanic_rf_exp.predict_profile(henry)\n",
    "cp_henry.result\n",
    "\n",
    "cp_henry.plot(variables = ['age', 'fare'])"
   ]
  },
  {
   "cell_type": "code",
   "execution_count": 13,
   "metadata": {},
   "outputs": [],
   "source": [
    "import sympy as sp\n",
    "df = cp_henry.result\n",
    "\n",
    "df = df.reset_index()\n",
    "df = df[['age', '_yhat_']]\n",
    "\n",
    "df = df.groupby('age', as_index=False).agg({'_yhat_': 'mean'})\n",
    "\n",
    "x = sp.symbols('x')\n",
    "# s = sp.interpolating_spline(1, x, df.age, df._yhat_)\n"
   ]
  },
  {
   "cell_type": "code",
   "execution_count": 14,
   "metadata": {},
   "outputs": [
    {
     "ename": "NameError",
     "evalue": "name 's' is not defined",
     "output_type": "error",
     "traceback": [
      "\u001b[1;31m---------------------------------------------------------------------------\u001b[0m",
      "\u001b[1;31mNameError\u001b[0m                                 Traceback (most recent call last)",
      "Cell \u001b[1;32mIn[14], line 1\u001b[0m\n\u001b[1;32m----> 1\u001b[0m s\n",
      "\u001b[1;31mNameError\u001b[0m: name 's' is not defined"
     ]
    }
   ],
   "source": [
    "s"
   ]
  },
  {
   "cell_type": "code",
   "execution_count": 16,
   "metadata": {},
   "outputs": [
    {
     "data": {
      "text/plain": [
       "[(0.1666666667, 0.42276230618067645),\n",
       " (0.905000000033, 0.42276230618067645),\n",
       " (1.643333333366, 0.42026737395640046),\n",
       " (2.3816666666989996, 0.42026737395640046),\n",
       " (3.120000000032, 0.42026737395640046),\n",
       " (3.858333333365, 0.4147473501252094),\n",
       " (4.596666666698, 0.38845950729586487),\n",
       " (5.335000000031, 0.38845950729586487),\n",
       " (6.073333333364, 0.3827955724975694),\n",
       " (6.8116666666970005, 0.37658807047122184),\n",
       " (7.550000000030001, 0.37658807047122184),\n",
       " (8.288333333363, 0.37658807047122184),\n",
       " (9.026666666695998, 0.3710748359994853),\n",
       " (9.765000000029, 0.3408197643368283),\n",
       " (10.503333333361999, 0.33918532890326625),\n",
       " (11.241666666695, 0.33918532890326625),\n",
       " (11.980000000028, 0.33918532890326625),\n",
       " (12.718333333360999, 0.33684037390003607),\n",
       " (13.456666666694, 0.33684037390003607),\n",
       " (14.195000000027, 0.31622804985025055),\n",
       " (14.93333333336, 0.3115007244221276),\n",
       " (15.671666666693, 0.3083736672899877),\n",
       " (16.410000000026, 0.3083736672899877),\n",
       " (17.148333333359, 0.30251710396721676),\n",
       " (17.886666666691998, 0.3014183944357203),\n",
       " (18.625000000025, 0.3014183944357203),\n",
       " (19.363333333358, 0.3014183944357203),\n",
       " (20.101666666691, 0.3016022095091506),\n",
       " (20.840000000024, 0.30184065008298244),\n",
       " (21.578333333356998, 0.30184065008298244),\n",
       " (22.31666666669, 0.30184065008298244),\n",
       " (23.055000000023, 0.30075778257293045),\n",
       " (23.793333333356, 0.30075778257293045),\n",
       " (24.531666666689, 0.30075778257293045),\n",
       " (25.270000000021998, 0.30075778257293045),\n",
       " (26.008333333355, 0.30075778257293045),\n",
       " (26.746666666688, 0.30075778257293045),\n",
       " (27.485000000021, 0.30075778257293045),\n",
       " (28.223333333354, 0.30075778257293045),\n",
       " (28.961666666686998, 0.30075778257293045),\n",
       " (29.70000000002, 0.2998684175554002),\n",
       " (30.438333333353, 0.2998684175554002),\n",
       " (31.176666666686, 0.2998684175554002),\n",
       " (31.915000000019, 0.2998684175554002),\n",
       " (32.653333333352, 0.2996571087323655),\n",
       " (33.391666666685005, 0.2996571087323655),\n",
       " (34.130000000018, 0.2996571087323655),\n",
       " (34.868333333351, 0.2996571087323655),\n",
       " (35.606666666684, 0.29565648101956243),\n",
       " (36.345000000017, 0.29565648101956243),\n",
       " (37.083333333350005, 0.29488426504655907),\n",
       " (37.821666666683, 0.29488426504655907),\n",
       " (38.560000000016004, 0.29488426504655907),\n",
       " (39.298333333349, 0.29488426504655907),\n",
       " (40.036666666682, 0.2941428629301569),\n",
       " (40.775000000015005, 0.2939543587666138),\n",
       " (41.513333333348, 0.2939543587666138),\n",
       " (42.251666666681004, 0.2939543587666138),\n",
       " (42.990000000014, 0.2939543587666138),\n",
       " (43.728333333347, 0.2939543587666138),\n",
       " (44.466666666680005, 0.2939543587666138),\n",
       " (45.205000000013, 0.2939543587666138),\n",
       " (45.943333333346004, 0.29337875368633587),\n",
       " (46.681666666679, 0.29337875368633587),\n",
       " (47.0, 0.32581168374185343),\n",
       " (47.420000000012, 0.29337875368633587),\n",
       " (48.158333333345006, 0.29337875368633587),\n",
       " (48.896666666678, 0.29337875368633587),\n",
       " (49.635000000011004, 0.29337875368633587),\n",
       " (50.373333333344, 0.29337875368633587),\n",
       " (51.111666666677, 0.29337875368633587),\n",
       " (51.850000000010006, 0.29337875368633587),\n",
       " (52.588333333343, 0.29337875368633587),\n",
       " (53.326666666676005, 0.29337875368633587),\n",
       " (54.065000000009, 0.2903447262899505),\n",
       " (54.803333333342, 0.2814593535125166),\n",
       " (55.541666666675006, 0.28005512368002),\n",
       " (56.280000000008, 0.27907374070129665),\n",
       " (57.018333333341005, 0.27677986090966705),\n",
       " (57.756666666674, 0.27677986090966705),\n",
       " (58.495000000007, 0.27677986090966705),\n",
       " (59.233333333340006, 0.27535502430835984),\n",
       " (59.971666666673, 0.27535502430835984),\n",
       " (60.710000000006005, 0.27535502430835984),\n",
       " (61.448333333339, 0.27535502430835984),\n",
       " (62.186666666672004, 0.27449050817932763),\n",
       " (62.925000000005, 0.27449050817932763),\n",
       " (63.663333333338, 0.27449050817932763),\n",
       " (64.40166666667099, 0.27449050817932763),\n",
       " (65.140000000004, 0.27449050817932763),\n",
       " (65.878333333337, 0.27449050817932763),\n",
       " (66.61666666667, 0.27449050817932763),\n",
       " (67.355000000003, 0.27449050817932763),\n",
       " (68.09333333333599, 0.27449050817932763),\n",
       " (68.831666666669, 0.27449050817932763),\n",
       " (69.570000000002, 0.27449050817932763),\n",
       " (70.308333333335, 0.27449050817932763),\n",
       " (71.04666666666799, 0.27449050817932763),\n",
       " (71.78500000000099, 0.27449050817932763),\n",
       " (72.523333333334, 0.27449050817932763),\n",
       " (73.261666666667, 0.27449050817932763),\n",
       " (74.0, 0.27449050817932763)]"
      ]
     },
     "execution_count": 16,
     "metadata": {},
     "output_type": "execute_result"
    }
   ],
   "source": [
    "punkty = list(zip(df['age'], df['_yhat_']))\n",
    "\n",
    "punkty"
   ]
  },
  {
   "cell_type": "code",
   "execution_count": 54,
   "metadata": {},
   "outputs": [
    {
     "data": {
      "image/png": "[encoded data removed]",
      "text/plain": [
       "<Figure size 640x480 with 1 Axes>"
      ]
     },
     "metadata": {},
     "output_type": "display_data"
    },
    {
     "data": {
      "text/plain": [
       "4.9833351002291755"
      ]
     },
     "execution_count": 54,
     "metadata": {},
     "output_type": "execute_result"
    }
   ],
   "source": [
    "import numpy as np\n",
    "import matplotlib.pyplot as plt\n",
    "\n",
    "p = np.polynomial.polynomial.Polynomial.fit(df['age'], df['_yhat_'], 4)\n",
    "\n",
    "x_vals = np.linspace(min(df['age'])-5, max(df['age'])+5, 100)\n",
    "# Evaluate the polynomial at the x values\n",
    "y_vals = p(x_vals)\n",
    "\n",
    "plt.scatter(df['age'], df['_yhat_'], color='red', label='Data Points')\n",
    "plt.plot(x_vals, y_vals, label='Polynomial Fit')\n",
    "plt.xlabel('Domain')\n",
    "plt.ylabel('Range')\n",
    "plt.legend()\n",
    "plt.title('Polynomial Fit')\n",
    "plt.show()\n",
    "\n",
    "p(150)"
   ]
  },
  {
   "cell_type": "code",
   "execution_count": 56,
   "metadata": {},
   "outputs": [
    {
     "ename": "ValueError",
     "evalue": "DataFrame.dtypes for data must be int, float, bool or category. When categorical type is supplied, the experimental DMatrix parameter`enable_categorical` must be set to `True`.  Invalid columns:gender: object, class: object, embarked: object",
     "output_type": "error",
     "traceback": [
      "\u001b[1;31m---------------------------------------------------------------------------\u001b[0m",
      "\u001b[1;31mValueError\u001b[0m                                Traceback (most recent call last)",
      "Cell \u001b[1;32mIn[56], line 3\u001b[0m\n\u001b[0;32m      1\u001b[0m \u001b[38;5;28;01mimport\u001b[39;00m \u001b[38;5;21;01mxgboost\u001b[39;00m \u001b[38;5;28;01mas\u001b[39;00m \u001b[38;5;21;01mxgb\u001b[39;00m\n\u001b[1;32m----> 3\u001b[0m dtrain \u001b[38;5;241m=\u001b[39m xgb\u001b[38;5;241m.\u001b[39mDMatrix(X, label\u001b[38;5;241m=\u001b[39my)\n",
      "File \u001b[1;32mc:\\Users\\kacpe\\anaconda3\\Lib\\site-packages\\xgboost\\core.py:726\u001b[0m, in \u001b[0;36mrequire_keyword_args.<locals>.throw_if.<locals>.inner_f\u001b[1;34m(*args, **kwargs)\u001b[0m\n\u001b[0;32m    724\u001b[0m \u001b[38;5;28;01mfor\u001b[39;00m k, arg \u001b[38;5;129;01min\u001b[39;00m \u001b[38;5;28mzip\u001b[39m(sig\u001b[38;5;241m.\u001b[39mparameters, args):\n\u001b[0;32m    725\u001b[0m     kwargs[k] \u001b[38;5;241m=\u001b[39m arg\n\u001b[1;32m--> 726\u001b[0m \u001b[38;5;28;01mreturn\u001b[39;00m func(\u001b[38;5;241m*\u001b[39m\u001b[38;5;241m*\u001b[39mkwargs)\n",
      "File \u001b[1;32mc:\\Users\\kacpe\\anaconda3\\Lib\\site-packages\\xgboost\\core.py:878\u001b[0m, in \u001b[0;36mDMatrix.__init__\u001b[1;34m(self, data, label, weight, base_margin, missing, silent, feature_names, feature_types, nthread, group, qid, label_lower_bound, label_upper_bound, feature_weights, enable_categorical, data_split_mode)\u001b[0m\n\u001b[0;32m    875\u001b[0m     \u001b[38;5;28;01massert\u001b[39;00m \u001b[38;5;28mself\u001b[39m\u001b[38;5;241m.\u001b[39mhandle \u001b[38;5;129;01mis\u001b[39;00m \u001b[38;5;129;01mnot\u001b[39;00m \u001b[38;5;28;01mNone\u001b[39;00m\n\u001b[0;32m    876\u001b[0m     \u001b[38;5;28;01mreturn\u001b[39;00m\n\u001b[1;32m--> 878\u001b[0m handle, feature_names, feature_types \u001b[38;5;241m=\u001b[39m dispatch_data_backend(\n\u001b[0;32m    879\u001b[0m     data,\n\u001b[0;32m    880\u001b[0m     missing\u001b[38;5;241m=\u001b[39m\u001b[38;5;28mself\u001b[39m\u001b[38;5;241m.\u001b[39mmissing,\n\u001b[0;32m    881\u001b[0m     threads\u001b[38;5;241m=\u001b[39m\u001b[38;5;28mself\u001b[39m\u001b[38;5;241m.\u001b[39mnthread,\n\u001b[0;32m    882\u001b[0m     feature_names\u001b[38;5;241m=\u001b[39mfeature_names,\n\u001b[0;32m    883\u001b[0m     feature_types\u001b[38;5;241m=\u001b[39mfeature_types,\n\u001b[0;32m    884\u001b[0m     enable_categorical\u001b[38;5;241m=\u001b[39menable_categorical,\n\u001b[0;32m    885\u001b[0m     data_split_mode\u001b[38;5;241m=\u001b[39mdata_split_mode,\n\u001b[0;32m    886\u001b[0m )\n\u001b[0;32m    887\u001b[0m \u001b[38;5;28;01massert\u001b[39;00m handle \u001b[38;5;129;01mis\u001b[39;00m \u001b[38;5;129;01mnot\u001b[39;00m \u001b[38;5;28;01mNone\u001b[39;00m\n\u001b[0;32m    888\u001b[0m \u001b[38;5;28mself\u001b[39m\u001b[38;5;241m.\u001b[39mhandle \u001b[38;5;241m=\u001b[39m handle\n",
      "File \u001b[1;32mc:\\Users\\kacpe\\anaconda3\\Lib\\site-packages\\xgboost\\data.py:1207\u001b[0m, in \u001b[0;36mdispatch_data_backend\u001b[1;34m(data, missing, threads, feature_names, feature_types, enable_categorical, data_split_mode)\u001b[0m\n\u001b[0;32m   1205\u001b[0m     data \u001b[38;5;241m=\u001b[39m pd\u001b[38;5;241m.\u001b[39mDataFrame(data)\n\u001b[0;32m   1206\u001b[0m \u001b[38;5;28;01mif\u001b[39;00m _is_pandas_df(data):\n\u001b[1;32m-> 1207\u001b[0m     \u001b[38;5;28;01mreturn\u001b[39;00m _from_pandas_df(\n\u001b[0;32m   1208\u001b[0m         data,\n\u001b[0;32m   1209\u001b[0m         enable_categorical,\n\u001b[0;32m   1210\u001b[0m         missing,\n\u001b[0;32m   1211\u001b[0m         threads,\n\u001b[0;32m   1212\u001b[0m         feature_names,\n\u001b[0;32m   1213\u001b[0m         feature_types,\n\u001b[0;32m   1214\u001b[0m         data_split_mode,\n\u001b[0;32m   1215\u001b[0m     )\n\u001b[0;32m   1216\u001b[0m \u001b[38;5;28;01mif\u001b[39;00m _is_cudf_df(data) \u001b[38;5;129;01mor\u001b[39;00m _is_cudf_ser(data):\n\u001b[0;32m   1217\u001b[0m     \u001b[38;5;28;01mreturn\u001b[39;00m _from_cudf_df(\n\u001b[0;32m   1218\u001b[0m         data, missing, threads, feature_names, feature_types, enable_categorical\n\u001b[0;32m   1219\u001b[0m     )\n",
      "File \u001b[1;32mc:\\Users\\kacpe\\anaconda3\\Lib\\site-packages\\xgboost\\data.py:640\u001b[0m, in \u001b[0;36m_from_pandas_df\u001b[1;34m(data, enable_categorical, missing, nthread, feature_names, feature_types, data_split_mode)\u001b[0m\n\u001b[0;32m    631\u001b[0m \u001b[38;5;28;01mdef\u001b[39;00m \u001b[38;5;21m_from_pandas_df\u001b[39m(\n\u001b[0;32m    632\u001b[0m     data: DataFrame,\n\u001b[0;32m    633\u001b[0m     enable_categorical: \u001b[38;5;28mbool\u001b[39m,\n\u001b[1;32m   (...)\u001b[0m\n\u001b[0;32m    638\u001b[0m     data_split_mode: DataSplitMode \u001b[38;5;241m=\u001b[39m DataSplitMode\u001b[38;5;241m.\u001b[39mROW,\n\u001b[0;32m    639\u001b[0m ) \u001b[38;5;241m-\u001b[39m\u001b[38;5;241m>\u001b[39m DispatchedDataBackendReturnType:\n\u001b[1;32m--> 640\u001b[0m     df, feature_names, feature_types \u001b[38;5;241m=\u001b[39m _transform_pandas_df(\n\u001b[0;32m    641\u001b[0m         data, enable_categorical, feature_names, feature_types\n\u001b[0;32m    642\u001b[0m     )\n\u001b[0;32m    644\u001b[0m     handle \u001b[38;5;241m=\u001b[39m ctypes\u001b[38;5;241m.\u001b[39mc_void_p()\n\u001b[0;32m    645\u001b[0m     _check_call(\n\u001b[0;32m    646\u001b[0m         _LIB\u001b[38;5;241m.\u001b[39mXGDMatrixCreateFromColumnar(\n\u001b[0;32m    647\u001b[0m             df\u001b[38;5;241m.\u001b[39marray_interface(),\n\u001b[1;32m   (...)\u001b[0m\n\u001b[0;32m    652\u001b[0m         )\n\u001b[0;32m    653\u001b[0m     )\n",
      "File \u001b[1;32mc:\\Users\\kacpe\\anaconda3\\Lib\\site-packages\\xgboost\\data.py:603\u001b[0m, in \u001b[0;36m_transform_pandas_df\u001b[1;34m(data, enable_categorical, feature_names, feature_types, meta)\u001b[0m\n\u001b[0;32m    596\u001b[0m \u001b[38;5;28;01mdef\u001b[39;00m \u001b[38;5;21m_transform_pandas_df\u001b[39m(\n\u001b[0;32m    597\u001b[0m     data: DataFrame,\n\u001b[0;32m    598\u001b[0m     enable_categorical: \u001b[38;5;28mbool\u001b[39m,\n\u001b[1;32m   (...)\u001b[0m\n\u001b[0;32m    601\u001b[0m     meta: Optional[\u001b[38;5;28mstr\u001b[39m] \u001b[38;5;241m=\u001b[39m \u001b[38;5;28;01mNone\u001b[39;00m,\n\u001b[0;32m    602\u001b[0m ) \u001b[38;5;241m-\u001b[39m\u001b[38;5;241m>\u001b[39m Tuple[PandasTransformed, Optional[FeatureNames], Optional[FeatureTypes]]:\n\u001b[1;32m--> 603\u001b[0m     pandas_check_dtypes(data, enable_categorical)\n\u001b[0;32m    604\u001b[0m     \u001b[38;5;28;01mif\u001b[39;00m meta \u001b[38;5;129;01mand\u001b[39;00m \u001b[38;5;28mlen\u001b[39m(data\u001b[38;5;241m.\u001b[39mcolumns) \u001b[38;5;241m>\u001b[39m \u001b[38;5;241m1\u001b[39m \u001b[38;5;129;01mand\u001b[39;00m meta \u001b[38;5;129;01mnot\u001b[39;00m \u001b[38;5;129;01min\u001b[39;00m _matrix_meta:\n\u001b[0;32m    605\u001b[0m         \u001b[38;5;28;01mraise\u001b[39;00m \u001b[38;5;167;01mValueError\u001b[39;00m(\u001b[38;5;124mf\u001b[39m\u001b[38;5;124m\"\u001b[39m\u001b[38;5;124mDataFrame for \u001b[39m\u001b[38;5;132;01m{\u001b[39;00mmeta\u001b[38;5;132;01m}\u001b[39;00m\u001b[38;5;124m cannot have multiple columns\u001b[39m\u001b[38;5;124m\"\u001b[39m)\n",
      "File \u001b[1;32mc:\\Users\\kacpe\\anaconda3\\Lib\\site-packages\\xgboost\\data.py:569\u001b[0m, in \u001b[0;36mpandas_check_dtypes\u001b[1;34m(data, enable_categorical)\u001b[0m\n\u001b[0;32m    562\u001b[0m \u001b[38;5;28;01mfor\u001b[39;00m dtype \u001b[38;5;129;01min\u001b[39;00m data\u001b[38;5;241m.\u001b[39mdtypes:\n\u001b[0;32m    563\u001b[0m     \u001b[38;5;28;01mif\u001b[39;00m \u001b[38;5;129;01mnot\u001b[39;00m (\n\u001b[0;32m    564\u001b[0m         (dtype\u001b[38;5;241m.\u001b[39mname \u001b[38;5;129;01min\u001b[39;00m _pandas_dtype_mapper)\n\u001b[0;32m    565\u001b[0m         \u001b[38;5;129;01mor\u001b[39;00m is_pd_sparse_dtype(dtype)\n\u001b[0;32m    566\u001b[0m         \u001b[38;5;129;01mor\u001b[39;00m (is_pd_cat_dtype(dtype) \u001b[38;5;129;01mand\u001b[39;00m enable_categorical)\n\u001b[0;32m    567\u001b[0m         \u001b[38;5;129;01mor\u001b[39;00m is_pa_ext_dtype(dtype)\n\u001b[0;32m    568\u001b[0m     ):\n\u001b[1;32m--> 569\u001b[0m         _invalid_dataframe_dtype(data)\n\u001b[0;32m    571\u001b[0m     \u001b[38;5;28;01mif\u001b[39;00m is_pd_sparse_dtype(dtype):\n\u001b[0;32m    572\u001b[0m         sparse_extension \u001b[38;5;241m=\u001b[39m \u001b[38;5;28;01mTrue\u001b[39;00m\n",
      "File \u001b[1;32mc:\\Users\\kacpe\\anaconda3\\Lib\\site-packages\\xgboost\\data.py:356\u001b[0m, in \u001b[0;36m_invalid_dataframe_dtype\u001b[1;34m(data)\u001b[0m\n\u001b[0;32m    354\u001b[0m type_err \u001b[38;5;241m=\u001b[39m \u001b[38;5;124m\"\u001b[39m\u001b[38;5;124mDataFrame.dtypes for data must be int, float, bool or category.\u001b[39m\u001b[38;5;124m\"\u001b[39m\n\u001b[0;32m    355\u001b[0m msg \u001b[38;5;241m=\u001b[39m \u001b[38;5;124mf\u001b[39m\u001b[38;5;124m\"\"\"\u001b[39m\u001b[38;5;132;01m{\u001b[39;00mtype_err\u001b[38;5;132;01m}\u001b[39;00m\u001b[38;5;124m \u001b[39m\u001b[38;5;132;01m{\u001b[39;00m_ENABLE_CAT_ERR\u001b[38;5;132;01m}\u001b[39;00m\u001b[38;5;124m \u001b[39m\u001b[38;5;132;01m{\u001b[39;00merr\u001b[38;5;132;01m}\u001b[39;00m\u001b[38;5;124m\"\"\"\u001b[39m\n\u001b[1;32m--> 356\u001b[0m \u001b[38;5;28;01mraise\u001b[39;00m \u001b[38;5;167;01mValueError\u001b[39;00m(msg)\n",
      "\u001b[1;31mValueError\u001b[0m: DataFrame.dtypes for data must be int, float, bool or category. When categorical type is supplied, the experimental DMatrix parameter`enable_categorical` must be set to `True`.  Invalid columns:gender: object, class: object, embarked: object"
     ]
    }
   ],
   "source": [
    "import xgboost as xgb\n",
    "\n",
    "dtrain = xgb.DMatrix(X, label=y)\n",
    "\n"
   ]
  },
  {
   "cell_type": "code",
   "execution_count": 55,
   "metadata": {},
   "outputs": [
    {
     "data": {
      "image/png": "[encoded data removed]",
      "text/plain": [
       "<Figure size 640x480 with 1 Axes>"
      ]
     },
     "metadata": {},
     "output_type": "display_data"
    }
   ],
   "source": [
    "import pandas as pd\n",
    "import numpy as np\n",
    "import matplotlib.pyplot as plt\n",
    "from scipy.interpolate import interp1d\n",
    "\n",
    "# Przykładowa ramka danych\n",
    "# data = {'x': [1, 2, 3, 4, 5], 'y': [2, 3, 5, 4, 6]}\n",
    "# df = pd.DataFrame(data)\n",
    "\n",
    "# Interpolacja liniowa\n",
    "f_liniowa = interp1d(df['age'], df['_yhat_'], kind='linear')\n",
    "\n",
    "# Generowanie nowych punktów\n",
    "x_new = np.linspace(df['age'].min(), df['age'].max(), 100)\n",
    "y_new = f_liniowa(x_new)\n",
    "\n",
    "# Wizualizacja\n",
    "plt.scatter(df['age'], df['_yhat_'], color='blue', label='Punkty')\n",
    "plt.plot(x_new, y_new, color='red', label='Aproksymacja liniowa')\n",
    "plt.legend()\n",
    "plt.show()\n"
   ]
  },
  {
   "cell_type": "code",
   "execution_count": 359,
   "metadata": {},
   "outputs": [
    {
     "data": {
      "image/png": "[encoded data removed]",
      "text/plain": [
       "<Figure size 640x480 with 1 Axes>"
      ]
     },
     "metadata": {},
     "output_type": "display_data"
    },
    {
     "data": {
      "text/latex": [
       "$\\displaystyle \\begin{cases} 0.000902934537246436 x + 0.431315329890357 & \\text{for}\\: x \\geq 0.1666666667 \\wedge x \\leq 0.905000000033 \\\\0.432888354721115 - 0.000835214446953114 x & \\text{for}\\: x \\geq 0.905000000033 \\wedge x \\leq 1.643333333366 \\\\0.431515818979928 & \\text{for}\\: x \\geq 1.643333333366 \\wedge x \\leq 2.381666666699 \\\\0.00050347962675934 x + 0.430316698335514 & \\text{for}\\: x \\geq 2.381666666699 \\wedge x \\leq 3.120000000032 \\\\0.450752547150095 - 0.00604647191630847 x & \\text{for}\\: x \\geq 3.120000000032 \\wedge x \\leq 3.858333333365 \\\\0.589970210670641 - 0.0421288037139942 x & \\text{for}\\: x \\geq 3.858333333365 \\wedge x \\leq 4.596666666698 \\\\0.396318142930661 & \\text{for}\\: x \\geq 4.596666666698 \\wedge x \\leq 5.335000000031 \\\\0.410501635971875 - 0.00265857414079329 x & \\text{for}\\: x \\geq 5.335000000031 \\wedge x \\leq 6.073333333364 \\\\0.420281903063131 - 0.00426893644999282 x & \\text{for}\\: x \\geq 6.073333333364 \\wedge x \\leq 6.811666666697 \\\\0.405864238336904 - 0.002152323081826 x & \\text{for}\\: x \\geq 6.811666666697 \\wedge x \\leq 7.55000000003 \\\\0.400200840949329 - 0.00140220422254766 x & \\text{for}\\: x \\geq 7.55000000003 \\wedge x \\leq 8.288333333363 \\\\0.479764335353279 - 0.0110016606155096 x & \\text{for}\\: x \\geq 8.288333333363 \\wedge x \\leq 9.026666666696 \\\\0.721553673181243 - 0.0377877763275307 x & \\text{for}\\: x \\geq 9.026666666696 \\wedge x \\leq 9.765000000029 \\\\0.403446083701465 - 0.00521147428156726 x & \\text{for}\\: x \\geq 9.765000000029 \\wedge x \\leq 10.503333333362 \\\\0.37043480716912 - 0.00206854093987369 x & \\text{for}\\: x \\geq 10.503333333362 \\wedge x \\leq 11.241666666695 \\\\0.347180959436648 & \\text{for}\\: x \\geq 11.241666666695 \\wedge x \\leq 11.980000000028 \\\\0.438491736530644 - 0.00762193464889671 x & \\text{for}\\: x \\geq 11.980000000028 \\wedge x \\leq 12.718333333361 \\\\0.368404899021884 - 0.00211124109560551 x & \\text{for}\\: x \\geq 12.718333333361 \\wedge x \\leq 13.456666666694 \\\\0.51881596048662 - 0.0132886794011119 x & \\text{for}\\: x \\geq 13.456666666694 \\wedge x \\leq 14.195000000027 \\\\0.509228354255319 - 0.0126132580392745 x & \\text{for}\\: x \\geq 14.195000000027 \\wedge x \\leq 14.93333333336 \\\\0.334586669655002 - 0.00091850237409552 x & \\text{for}\\: x \\geq 14.93333333336 \\wedge x \\leq 15.671666666693 \\\\0.32019220661561 & \\text{for}\\: x \\geq 15.671666666693 \\wedge x \\leq 16.410000000026 \\\\0.369735943496244 - 0.00301911863988752 x & \\text{for}\\: x \\geq 16.410000000026 \\wedge x \\leq 17.148333333359 \\\\0.349310706634706 - 0.00182802697724743 x & \\text{for}\\: x \\geq 17.148333333359 \\wedge x \\leq 17.886666666692 \\\\0.316613397434962 & \\text{for}\\: x \\geq 17.886666666692 \\wedge x \\leq 18.625000000025 \\\\0.316613397434961 & \\text{for}\\: x \\geq 18.625000000025 \\wedge x \\leq 19.363333333358 \\\\0.316613397434962 & \\text{for}\\: x \\geq 19.363333333358 \\wedge x \\leq 20.101666666691 \\\\0.000590967474665693 x + 0.304733966248376 & \\text{for}\\: x \\geq 20.101666666691 \\wedge x \\leq 20.840000000024 \\\\0.317049728420422 & \\text{for}\\: \\left(x \\geq 20.840000000024 \\vee x \\geq 21.578333333357\\right) \\wedge \\left(x \\geq 20.840000000024 \\vee x \\leq 22.31666666669\\right) \\wedge \\left(x \\geq 21.578333333357 \\vee x \\leq 21.578333333357\\right) \\wedge \\left(x \\leq 21.578333333357 \\vee x \\leq 22.31666666669\\right) \\\\0.335722178820124 - 0.00083670427481769 x & \\text{for}\\: x \\geq 22.31666666669 \\wedge x \\leq 23.055000000023 \\\\0.339286697783452 - 0.000991313642127456 x & \\text{for}\\: x \\geq 23.055000000023 \\wedge x \\leq 23.793333333356 \\\\0.315700041858447 - 1.49880108324396 \\cdot 10^{-15} x & \\text{for}\\: x \\geq 23.793333333356 \\wedge x \\leq 24.531666666689 \\\\0.315700041858411 & \\text{for}\\: \\left(x \\geq 24.531666666689 \\vee x \\geq 25.270000000022\\right) \\wedge \\left(x \\geq 24.531666666689 \\vee x \\leq 26.008333333355\\right) \\wedge \\left(x \\geq 25.270000000022 \\vee x \\leq 25.270000000022\\right) \\wedge \\left(x \\leq 25.270000000022 \\vee x \\leq 26.008333333355\\right) \\\\0.31570004185841 & \\text{for}\\: x \\geq 26.008333333355 \\wedge x \\leq 26.746666666688 \\\\0.315700041858411 & \\text{for}\\: x \\geq 26.746666666688 \\wedge x \\leq 27.485000000021 \\\\0.328709945732765 - 0.000473345602122754 x & \\text{for}\\: x \\geq 27.485000000021 \\wedge x \\leq 28.223333333354 \\\\0.315350555022176 & \\text{for}\\: x \\geq 28.223333333354 \\wedge x \\leq 28.961666666687 \\\\0.417329513994575 - 0.00352117024707349 x & \\text{for}\\: x \\geq 28.961666666687 \\wedge x \\leq 29.70000000002 \\\\0.312750757656422 & \\text{for}\\: \\left(x \\geq 29.70000000002 \\vee x \\geq 30.438333333353 \\vee x \\geq 31.176666666686\\right) \\wedge \\left(x \\geq 29.70000000002 \\vee x \\geq 30.438333333353 \\vee x \\leq 31.915000000019\\right) \\wedge \\left(x \\geq 29.70000000002 \\vee x \\geq 31.176666666686 \\vee x \\leq 31.176666666686\\right) \\wedge \\left(x \\geq 29.70000000002 \\vee x \\leq 31.176666666686 \\vee x \\leq 31.915000000019\\right) \\wedge \\left(x \\geq 30.438333333353 \\vee x \\geq 31.176666666686 \\vee x \\leq 30.438333333353\\right) \\wedge \\left(x \\geq 30.438333333353 \\vee x \\leq 30.438333333353 \\vee x \\leq 31.915000000019\\right) \\wedge \\left(x \\geq 31.176666666686 \\vee x \\leq 30.438333333353 \\vee x \\leq 31.176666666686\\right) \\wedge \\left(x \\leq 30.438333333353 \\vee x \\leq 31.176666666686 \\vee x \\leq 31.915000000019\\right) \\\\0.000141266445882526 x + 0.30824223903608 & \\text{for}\\: x \\geq 31.915000000019 \\wedge x \\leq 32.653333333352 \\\\0.312855059382299 & \\text{for}\\: \\left(x \\geq 32.653333333352 \\vee x \\geq 33.391666666685 \\vee x \\geq 34.130000000018\\right) \\wedge \\left(x \\geq 32.653333333352 \\vee x \\geq 33.391666666685 \\vee x \\leq 34.868333333351\\right) \\wedge \\left(x \\geq 32.653333333352 \\vee x \\geq 34.130000000018 \\vee x \\leq 34.130000000018\\right) \\wedge \\left(x \\geq 32.653333333352 \\vee x \\leq 34.130000000018 \\vee x \\leq 34.868333333351\\right) \\wedge \\left(x \\geq 33.391666666685 \\vee x \\geq 34.130000000018 \\vee x \\leq 33.391666666685\\right) \\wedge \\left(x \\geq 33.391666666685 \\vee x \\leq 33.391666666685 \\vee x \\leq 34.868333333351\\right) \\wedge \\left(x \\geq 34.130000000018 \\vee x \\leq 33.391666666685 \\vee x \\leq 34.130000000018\\right) \\wedge \\left(x \\leq 33.391666666685 \\vee x \\leq 34.130000000018 \\vee x \\leq 34.868333333351\\right) \\\\0.480524132788256 - 0.00480863457977743 x & \\text{for}\\: x \\geq 34.868333333351 \\wedge x \\leq 35.606666666684 \\\\0.309304684184232 & \\text{for}\\: x \\geq 35.606666666684 \\wedge x \\leq 36.345000000017 \\\\0.418008867793189 - 0.0029908978844107 x & \\text{for}\\: x \\geq 36.345000000017 \\wedge x \\leq 37.08333333335 \\\\0.307096404579575 & \\text{for}\\: x \\geq 37.08333333335 \\wedge x \\leq 37.821666666683 \\\\0.347002959767565 - 0.00105512418423226 x & \\text{for}\\: x \\geq 37.821666666683 \\wedge x \\leq 38.560000000016 \\\\0.306317371223553 & \\text{for}\\: \\left(x \\geq 38.560000000016 \\vee x \\geq 39.298333333349\\right) \\wedge \\left(x \\geq 38.560000000016 \\vee x \\leq 40.036666666682\\right) \\wedge \\left(x \\geq 39.298333333349 \\vee x \\leq 39.298333333349\\right) \\wedge \\left(x \\leq 39.298333333349 \\vee x \\leq 40.036666666682\\right) \\\\0.30631737122355 & \\text{for}\\: \\left(x \\geq 40.036666666682 \\vee x \\geq 40.775000000015\\right) \\wedge \\left(x \\geq 40.036666666682 \\vee x \\leq 41.513333333348\\right) \\wedge \\left(x \\geq 40.775000000015 \\vee x \\leq 40.775000000015\\right) \\wedge \\left(x \\leq 40.775000000015 \\vee x \\leq 41.513333333348\\right) \\\\0.306317371223553 & \\text{for}\\: x \\geq 41.513333333348 \\wedge x \\leq 42.251666666681 \\\\0.30631737122355 & \\text{for}\\: \\left(x \\geq 42.251666666681 \\vee x \\geq 42.990000000014\\right) \\wedge \\left(x \\geq 42.251666666681 \\vee x \\leq 43.728333333347\\right) \\wedge \\left(x \\geq 42.990000000014 \\vee x \\leq 42.990000000014\\right) \\wedge \\left(x \\leq 42.990000000014 \\vee x \\leq 43.728333333347\\right) \\\\0.306317371223553 & \\text{for}\\: x \\geq 43.728333333347 \\wedge x \\leq 44.46666666668 \\\\0.30631737122355 & \\text{for}\\: \\left(x \\geq 44.46666666668 \\vee x \\geq 45.205000000013 \\vee x \\geq 45.943333333346\\right) \\wedge \\left(x \\geq 44.46666666668 \\vee x \\geq 45.205000000013 \\vee x \\leq 46.681666666679\\right) \\wedge \\left(x \\geq 44.46666666668 \\vee x \\geq 45.943333333346 \\vee x \\leq 45.943333333346\\right) \\wedge \\left(x \\geq 44.46666666668 \\vee x \\leq 45.943333333346 \\vee x \\leq 46.681666666679\\right) \\wedge \\left(x \\geq 45.205000000013 \\vee x \\geq 45.943333333346 \\vee x \\leq 45.205000000013\\right) \\wedge \\left(x \\geq 45.205000000013 \\vee x \\leq 45.205000000013 \\vee x \\leq 46.681666666679\\right) \\wedge \\left(x \\geq 45.943333333346 \\vee x \\leq 45.205000000013 \\vee x \\leq 45.943333333346\\right) \\wedge \\left(x \\leq 45.205000000013 \\vee x \\leq 45.943333333346 \\vee x \\leq 46.681666666679\\right) \\\\0.0892408139931702 x - 3.85959256066872 & \\text{for}\\: x \\geq 46.681666666679 \\wedge x \\leq 47.0 \\\\3.51375263019581 - 0.0676388709188414 x & \\text{for}\\: x \\geq 47.0 \\wedge x \\leq 47.420000000012 \\\\0.30631737122355 & \\text{for}\\: x \\geq 47.420000000012 \\wedge x \\leq 48.158333333345 \\\\0.357680211573463 - 0.00106654106973314 x & \\text{for}\\: x \\geq 48.158333333345 \\wedge x \\leq 48.896666666678 \\\\0.305529908400398 & \\text{for}\\: \\left(x \\geq 48.896666666678 \\vee x \\geq 49.635000000011\\right) \\wedge \\left(x \\geq 48.896666666678 \\vee x \\leq 50.373333333344\\right) \\wedge \\left(x \\geq 49.635000000011 \\vee x \\leq 49.635000000011\\right) \\wedge \\left(x \\leq 49.635000000011 \\vee x \\leq 50.373333333344\\right) \\\\0.383935354672268 - 0.00155648715468204 x & \\text{for}\\: x \\geq 50.373333333344 \\wedge x \\leq 51.111666666677 \\\\0.304380702051191 & \\text{for}\\: \\left(x \\geq 51.111666666677 \\vee x \\geq 51.85000000001\\right) \\wedge \\left(x \\geq 51.111666666677 \\vee x \\leq 52.588333333343\\right) \\wedge \\left(x \\geq 51.85000000001 \\vee x \\leq 51.85000000001\\right) \\wedge \\left(x \\leq 51.85000000001 \\vee x \\leq 52.588333333343\\right) \\\\0.000348396439371457 x + 0.286059113965376 & \\text{for}\\: x \\geq 52.588333333343 \\wedge x \\leq 53.326666666676 \\\\0.584811178492632 - 0.00525390505820084 x & \\text{for}\\: x \\geq 53.326666666676 \\wedge x \\leq 54.065000000009 \\\\0.889220500947463 - 0.0108843373610729 x & \\text{for}\\: x \\geq 54.065000000009 \\wedge x \\leq 54.803333333342 \\\\0.41670927158173 - 0.00226239412102081 x & \\text{for}\\: x \\geq 54.803333333342 \\wedge x \\leq 55.541666666675 \\\\0.291052131443347 & \\text{for}\\: x \\geq 55.541666666675 \\wedge x \\leq 56.280000000008 \\\\0.459018345733494 - 0.00298447431219118 x & \\text{for}\\: x \\geq 56.280000000008 \\wedge x \\leq 57.018333333341 \\\\0.288848594576184 & \\text{for}\\: \\left(x \\geq 57.018333333341 \\vee x \\geq 57.756666666674 \\vee x \\geq 58.495000000007\\right) \\wedge \\left(x \\geq 57.018333333341 \\vee x \\geq 57.756666666674 \\vee x \\leq 59.23333333334\\right) \\wedge \\left(x \\geq 57.018333333341 \\vee x \\geq 58.495000000007 \\vee x \\leq 58.495000000007\\right) \\wedge \\left(x \\geq 57.018333333341 \\vee x \\leq 58.495000000007 \\vee x \\leq 59.23333333334\\right) \\wedge \\left(x \\geq 57.756666666674 \\vee x \\geq 58.495000000007 \\vee x \\leq 57.756666666674\\right) \\wedge \\left(x \\geq 57.756666666674 \\vee x \\leq 57.756666666674 \\vee x \\leq 59.23333333334\\right) \\wedge \\left(x \\geq 58.495000000007 \\vee x \\leq 57.756666666674 \\vee x \\leq 58.495000000007\\right) \\wedge \\left(x \\leq 57.756666666674 \\vee x \\leq 58.495000000007 \\vee x \\leq 59.23333333334\\right) \\\\0.359697294409116 - 0.00119609510128743 x & \\text{for}\\: x \\geq 59.23333333334 \\wedge x \\leq 59.971666666673 \\\\0.302567856773397 - 0.000243487965100153 x & \\text{for}\\: x \\geq 59.971666666673 \\wedge x \\leq 60.710000000006 \\\\0.287785702412169 & \\text{for}\\: x \\geq 60.710000000006 \\wedge x \\leq 61.448333333339 \\\\0.395713137810144 - 0.00175639320943827 x & \\text{for}\\: x \\geq 61.448333333339 \\wedge x \\leq 62.186666666672 \\\\0.500724088064022 - 0.00344503413333197 x & \\text{for}\\: x \\geq 62.186666666672 \\wedge x \\leq 62.925000000005 \\\\0.283945315224088 & \\text{for}\\: x \\geq 62.925000000005 \\wedge x \\leq 63.663333333338 \\\\0.283945315224091 & \\text{for}\\: \\left(x \\geq 63.663333333338 \\vee x \\geq 64.401666666671\\right) \\wedge \\left(x \\geq 63.663333333338 \\vee x \\leq 65.140000000004\\right) \\wedge \\left(x \\geq 64.401666666671 \\vee x \\leq 64.401666666671\\right) \\wedge \\left(x \\leq 64.401666666671 \\vee x \\leq 65.140000000004\\right) \\\\0.283945315224088 & \\text{for}\\: x \\geq 65.140000000004 \\wedge x \\leq 65.878333333337 \\\\0.283945315224091 & \\text{for}\\: \\left(x \\geq 65.878333333337 \\vee x \\geq 66.61666666667\\right) \\wedge \\left(x \\geq 65.878333333337 \\vee x \\leq 67.355000000003\\right) \\wedge \\left(x \\geq 66.61666666667 \\vee x \\leq 66.61666666667\\right) \\wedge \\left(x \\leq 66.61666666667 \\vee x \\leq 67.355000000003\\right) \\\\0.283945315224088 & \\text{for}\\: \\left(x \\geq 67.355000000003 \\vee x \\geq 68.093333333336\\right) \\wedge \\left(x \\geq 67.355000000003 \\vee x \\leq 68.831666666669\\right) \\wedge \\left(x \\geq 68.093333333336 \\vee x \\leq 68.093333333336\\right) \\wedge \\left(x \\leq 68.093333333336 \\vee x \\leq 68.831666666669\\right) \\\\0.283945315224091 & \\text{for}\\: \\left(x \\geq 68.831666666669 \\vee x \\geq 69.570000000002 \\vee x \\geq 70.308333333335 \\vee x \\geq 71.046666666668 \\vee x \\geq 71.785000000001 \\vee x \\geq 72.523333333334 \\vee x \\geq 73.261666666667\\right) \\wedge \\left(x \\geq 68.831666666669 \\vee x \\geq 69.570000000002 \\vee x \\geq 70.308333333335 \\vee x \\geq 71.046666666668 \\vee x \\geq 71.785000000001 \\vee x \\geq 72.523333333334 \\vee x \\leq 74.0\\right) \\wedge \\left(x \\geq 68.831666666669 \\vee x \\geq 69.570000000002 \\vee x \\geq 70.308333333335 \\vee x \\geq 71.046666666668 \\vee x \\geq 71.785000000001 \\vee x \\geq 73.261666666667 \\vee x \\leq 73.261666666667\\right) \\wedge \\left(x \\geq 68.831666666669 \\vee x \\geq 69.570000000002 \\vee x \\geq 70.308333333335 \\vee x \\geq 71.046666666668 \\vee x \\geq 71.785000000001 \\vee x \\leq 73.261666666667 \\vee x \\leq 74.0\\right) \\wedge \\left(x \\geq 68.831666666669 \\vee x \\geq 69.570000000002 \\vee x \\geq 70.308333333335 \\vee x \\geq 71.046666666668 \\vee x \\geq 72.523333333334 \\vee x \\geq 73.261666666667 \\vee x \\leq 72.523333333334\\right) \\wedge \\left(x \\geq 68.831666666669 \\vee x \\geq 69.570000000002 \\vee x \\geq 70.308333333335 \\vee x \\geq 71.046666666668 \\vee x \\geq 72.523333333334 \\vee x \\leq 72.523333333334 \\vee x \\leq 74.0\\right) \\wedge \\left(x \\geq 68.831666666669 \\vee x \\geq 69.570000000002 \\vee x \\geq 70.308333333335 \\vee x \\geq 71.046666666668 \\vee x \\geq 73.261666666667 \\vee x \\leq 72.523333333334 \\vee x \\leq 73.261666666667\\right) \\wedge \\left(x \\geq 68.831666666669 \\vee x \\geq 69.570000000002 \\vee x \\geq 70.308333333335 \\vee x \\geq 71.046666666668 \\vee x \\leq 72.523333333334 \\vee x \\leq 73.261666666667 \\vee x \\leq 74.0\\right) \\wedge \\left(x \\geq 68.831666666669 \\vee x \\geq 69.570000000002 \\vee x \\geq 70.308333333335 \\vee x \\geq 71.785000000001 \\vee x \\geq 72.523333333334 \\vee x \\geq 73.261666666667 \\vee x \\leq 71.785000000001\\right) \\wedge \\left(x \\geq 68.831666666669 \\vee x \\geq 69.570000000002 \\vee x \\geq 70.308333333335 \\vee x \\geq 71.785000000001 \\vee x \\geq 72.523333333334 \\vee x \\leq 71.785000000001 \\vee x \\leq 74.0\\right) \\wedge \\left(x \\geq 68.831666666669 \\vee x \\geq 69.570000000002 \\vee x \\geq 70.308333333335 \\vee x \\geq 71.785000000001 \\vee x \\geq 73.261666666667 \\vee x \\leq 71.785000000001 \\vee x \\leq 73.261666666667\\right) \\wedge \\left(x \\geq 68.831666666669 \\vee x \\geq 69.570000000002 \\vee x \\geq 70.308333333335 \\vee x \\geq 71.785000000001 \\vee x \\leq 71.785000000001 \\vee x \\leq 73.261666666667 \\vee x \\leq 74.0\\right) \\wedge \\left(x \\geq 68.831666666669 \\vee x \\geq 69.570000000002 \\vee x \\geq 70.308333333335 \\vee x \\geq 72.523333333334 \\vee x \\geq 73.261666666667 \\vee x \\leq 71.785000000001 \\vee x \\leq 72.523333333334\\right) \\wedge \\left(x \\geq 68.831666666669 \\vee x \\geq 69.570000000002 \\vee x \\geq 70.308333333335 \\vee x \\geq 72.523333333334 \\vee x \\leq 71.785000000001 \\vee x \\leq 72.523333333334 \\vee x \\leq 74.0\\right) \\wedge \\left(x \\geq 68.831666666669 \\vee x \\geq 69.570000000002 \\vee x \\geq 70.308333333335 \\vee x \\geq 73.261666666667 \\vee x \\leq 71.785000000001 \\vee x \\leq 72.523333333334 \\vee x \\leq 73.261666666667\\right) \\wedge \\left(x \\geq 68.831666666669 \\vee x \\geq 69.570000000002 \\vee x \\geq 70.308333333335 \\vee x \\leq 71.785000000001 \\vee x \\leq 72.523333333334 \\vee x \\leq 73.261666666667 \\vee x \\leq 74.0\\right) \\wedge \\left(x \\geq 68.831666666669 \\vee x \\geq 69.570000000002 \\vee x \\geq 71.046666666668 \\vee x \\geq 71.785000000001 \\vee x \\geq 72.523333333334 \\vee x \\geq 73.261666666667 \\vee x \\leq 71.046666666668\\right) \\wedge \\left(x \\geq 68.831666666669 \\vee x \\geq 69.570000000002 \\vee x \\geq 71.046666666668 \\vee x \\geq 71.785000000001 \\vee x \\geq 72.523333333334 \\vee x \\leq 71.046666666668 \\vee x \\leq 74.0\\right) \\wedge \\left(x \\geq 68.831666666669 \\vee x \\geq 69.570000000002 \\vee x \\geq 71.046666666668 \\vee x \\geq 71.785000000001 \\vee x \\geq 73.261666666667 \\vee x \\leq 71.046666666668 \\vee x \\leq 73.261666666667\\right) \\wedge \\left(x \\geq 68.831666666669 \\vee x \\geq 69.570000000002 \\vee x \\geq 71.046666666668 \\vee x \\geq 71.785000000001 \\vee x \\leq 71.046666666668 \\vee x \\leq 73.261666666667 \\vee x \\leq 74.0\\right) \\wedge \\left(x \\geq 68.831666666669 \\vee x \\geq 69.570000000002 \\vee x \\geq 71.046666666668 \\vee x \\geq 72.523333333334 \\vee x \\geq 73.261666666667 \\vee x \\leq 71.046666666668 \\vee x \\leq 72.523333333334\\right) \\wedge \\left(x \\geq 68.831666666669 \\vee x \\geq 69.570000000002 \\vee x \\geq 71.046666666668 \\vee x \\geq 72.523333333334 \\vee x \\leq 71.046666666668 \\vee x \\leq 72.523333333334 \\vee x \\leq 74.0\\right) \\wedge \\left(x \\geq 68.831666666669 \\vee x \\geq 69.570000000002 \\vee x \\geq 71.046666666668 \\vee x \\geq 73.261666666667 \\vee x \\leq 71.046666666668 \\vee x \\leq 72.523333333334 \\vee x \\leq 73.261666666667\\right) \\wedge \\left(x \\geq 68.831666666669 \\vee x \\geq 69.570000000002 \\vee x \\geq 71.046666666668 \\vee x \\leq 71.046666666668 \\vee x \\leq 72.523333333334 \\vee x \\leq 73.261666666667 \\vee x \\leq 74.0\\right) \\wedge \\left(x \\geq 68.831666666669 \\vee x \\geq 69.570000000002 \\vee x \\geq 71.785000000001 \\vee x \\geq 72.523333333334 \\vee x \\geq 73.261666666667 \\vee x \\leq 71.046666666668 \\vee x \\leq 71.785000000001\\right) \\wedge \\left(x \\geq 68.831666666669 \\vee x \\geq 69.570000000002 \\vee x \\geq 71.785000000001 \\vee x \\geq 72.523333333334 \\vee x \\leq 71.046666666668 \\vee x \\leq 71.785000000001 \\vee x \\leq 74.0\\right) \\wedge \\left(x \\geq 68.831666666669 \\vee x \\geq 69.570000000002 \\vee x \\geq 71.785000000001 \\vee x \\geq 73.261666666667 \\vee x \\leq 71.046666666668 \\vee x \\leq 71.785000000001 \\vee x \\leq 73.261666666667\\right) \\wedge \\left(x \\geq 68.831666666669 \\vee x \\geq 69.570000000002 \\vee x \\geq 71.785000000001 \\vee x \\leq 71.046666666668 \\vee x \\leq 71.785000000001 \\vee x \\leq 73.261666666667 \\vee x \\leq 74.0\\right) \\wedge \\left(x \\geq 68.831666666669 \\vee x \\geq 69.570000000002 \\vee x \\geq 72.523333333334 \\vee x \\geq 73.261666666667 \\vee x \\leq 71.046666666668 \\vee x \\leq 71.785000000001 \\vee x \\leq 72.523333333334\\right) \\wedge \\left(x \\geq 68.831666666669 \\vee x \\geq 69.570000000002 \\vee x \\geq 72.523333333334 \\vee x \\leq 71.046666666668 \\vee x \\leq 71.785000000001 \\vee x \\leq 72.523333333334 \\vee x \\leq 74.0\\right) \\wedge \\left(x \\geq 68.831666666669 \\vee x \\geq 69.570000000002 \\vee x \\geq 73.261666666667 \\vee x \\leq 71.046666666668 \\vee x \\leq 71.785000000001 \\vee x \\leq 72.523333333334 \\vee x \\leq 73.261666666667\\right) \\wedge \\left(x \\geq 68.831666666669 \\vee x \\geq 69.570000000002 \\vee x \\leq 71.046666666668 \\vee x \\leq 71.785000000001 \\vee x \\leq 72.523333333334 \\vee x \\leq 73.261666666667 \\vee x \\leq 74.0\\right) \\wedge \\left(x \\geq 68.831666666669 \\vee x \\geq 70.308333333335 \\vee x \\geq 71.046666666668 \\vee x \\geq 71.785000000001 \\vee x \\geq 72.523333333334 \\vee x \\geq 73.261666666667 \\vee x \\leq 70.308333333335\\right) \\wedge \\left(x \\geq 68.831666666669 \\vee x \\geq 70.308333333335 \\vee x \\geq 71.046666666668 \\vee x \\geq 71.785000000001 \\vee x \\geq 72.523333333334 \\vee x \\leq 70.308333333335 \\vee x \\leq 74.0\\right) \\wedge \\left(x \\geq 68.831666666669 \\vee x \\geq 70.308333333335 \\vee x \\geq 71.046666666668 \\vee x \\geq 71.785000000001 \\vee x \\geq 73.261666666667 \\vee x \\leq 70.308333333335 \\vee x \\leq 73.261666666667\\right) \\wedge \\left(x \\geq 68.831666666669 \\vee x \\geq 70.308333333335 \\vee x \\geq 71.046666666668 \\vee x \\geq 71.785000000001 \\vee x \\leq 70.308333333335 \\vee x \\leq 73.261666666667 \\vee x \\leq 74.0\\right) \\wedge \\left(x \\geq 68.831666666669 \\vee x \\geq 70.308333333335 \\vee x \\geq 71.046666666668 \\vee x \\geq 72.523333333334 \\vee x \\geq 73.261666666667 \\vee x \\leq 70.308333333335 \\vee x \\leq 72.523333333334\\right) \\wedge \\left(x \\geq 68.831666666669 \\vee x \\geq 70.308333333335 \\vee x \\geq 71.046666666668 \\vee x \\geq 72.523333333334 \\vee x \\leq 70.308333333335 \\vee x \\leq 72.523333333334 \\vee x \\leq 74.0\\right) \\wedge \\left(x \\geq 68.831666666669 \\vee x \\geq 70.308333333335 \\vee x \\geq 71.046666666668 \\vee x \\geq 73.261666666667 \\vee x \\leq 70.308333333335 \\vee x \\leq 72.523333333334 \\vee x \\leq 73.261666666667\\right) \\wedge \\left(x \\geq 68.831666666669 \\vee x \\geq 70.308333333335 \\vee x \\geq 71.046666666668 \\vee x \\leq 70.308333333335 \\vee x \\leq 72.523333333334 \\vee x \\leq 73.261666666667 \\vee x \\leq 74.0\\right) \\wedge \\left(x \\geq 68.831666666669 \\vee x \\geq 70.308333333335 \\vee x \\geq 71.785000000001 \\vee x \\geq 72.523333333334 \\vee x \\geq 73.261666666667 \\vee x \\leq 70.308333333335 \\vee x \\leq 71.785000000001\\right) \\wedge \\left(x \\geq 68.831666666669 \\vee x \\geq 70.308333333335 \\vee x \\geq 71.785000000001 \\vee x \\geq 72.523333333334 \\vee x \\leq 70.308333333335 \\vee x \\leq 71.785000000001 \\vee x \\leq 74.0\\right) \\wedge \\left(x \\geq 68.831666666669 \\vee x \\geq 70.308333333335 \\vee x \\geq 71.785000000001 \\vee x \\geq 73.261666666667 \\vee x \\leq 70.308333333335 \\vee x \\leq 71.785000000001 \\vee x \\leq 73.261666666667\\right) \\wedge \\left(x \\geq 68.831666666669 \\vee x \\geq 70.308333333335 \\vee x \\geq 71.785000000001 \\vee x \\leq 70.308333333335 \\vee x \\leq 71.785000000001 \\vee x \\leq 73.261666666667 \\vee x \\leq 74.0\\right) \\wedge \\left(x \\geq 68.831666666669 \\vee x \\geq 70.308333333335 \\vee x \\geq 72.523333333334 \\vee x \\geq 73.261666666667 \\vee x \\leq 70.308333333335 \\vee x \\leq 71.785000000001 \\vee x \\leq 72.523333333334\\right) \\wedge \\left(x \\geq 68.831666666669 \\vee x \\geq 70.308333333335 \\vee x \\geq 72.523333333334 \\vee x \\leq 70.308333333335 \\vee x \\leq 71.785000000001 \\vee x \\leq 72.523333333334 \\vee x \\leq 74.0\\right) \\wedge \\left(x \\geq 68.831666666669 \\vee x \\geq 70.308333333335 \\vee x \\geq 73.261666666667 \\vee x \\leq 70.308333333335 \\vee x \\leq 71.785000000001 \\vee x \\leq 72.523333333334 \\vee x \\leq 73.261666666667\\right) \\wedge \\left(x \\geq 68.831666666669 \\vee x \\geq 70.308333333335 \\vee x \\leq 70.308333333335 \\vee x \\leq 71.785000000001 \\vee x \\leq 72.523333333334 \\vee x \\leq 73.261666666667 \\vee x \\leq 74.0\\right) \\wedge \\left(x \\geq 68.831666666669 \\vee x \\geq 71.046666666668 \\vee x \\geq 71.785000000001 \\vee x \\geq 72.523333333334 \\vee x \\geq 73.261666666667 \\vee x \\leq 70.308333333335 \\vee x \\leq 71.046666666668\\right) \\wedge \\left(x \\geq 68.831666666669 \\vee x \\geq 71.046666666668 \\vee x \\geq 71.785000000001 \\vee x \\geq 72.523333333334 \\vee x \\leq 70.308333333335 \\vee x \\leq 71.046666666668 \\vee x \\leq 74.0\\right) \\wedge \\left(x \\geq 68.831666666669 \\vee x \\geq 71.046666666668 \\vee x \\geq 71.785000000001 \\vee x \\geq 73.261666666667 \\vee x \\leq 70.308333333335 \\vee x \\leq 71.046666666668 \\vee x \\leq 73.261666666667\\right) \\wedge \\left(x \\geq 68.831666666669 \\vee x \\geq 71.046666666668 \\vee x \\geq 71.785000000001 \\vee x \\leq 70.308333333335 \\vee x \\leq 71.046666666668 \\vee x \\leq 73.261666666667 \\vee x \\leq 74.0\\right) \\wedge \\left(x \\geq 68.831666666669 \\vee x \\geq 71.046666666668 \\vee x \\geq 72.523333333334 \\vee x \\geq 73.261666666667 \\vee x \\leq 70.308333333335 \\vee x \\leq 71.046666666668 \\vee x \\leq 72.523333333334\\right) \\wedge \\left(x \\geq 68.831666666669 \\vee x \\geq 71.046666666668 \\vee x \\geq 72.523333333334 \\vee x \\leq 70.308333333335 \\vee x \\leq 71.046666666668 \\vee x \\leq 72.523333333334 \\vee x \\leq 74.0\\right) \\wedge \\left(x \\geq 68.831666666669 \\vee x \\geq 71.046666666668 \\vee x \\geq 73.261666666667 \\vee x \\leq 70.308333333335 \\vee x \\leq 71.046666666668 \\vee x \\leq 72.523333333334 \\vee x \\leq 73.261666666667\\right) \\wedge \\left(x \\geq 68.831666666669 \\vee x \\geq 71.046666666668 \\vee x \\leq 70.308333333335 \\vee x \\leq 71.046666666668 \\vee x \\leq 72.523333333334 \\vee x \\leq 73.261666666667 \\vee x \\leq 74.0\\right) \\wedge \\left(x \\geq 68.831666666669 \\vee x \\geq 71.785000000001 \\vee x \\geq 72.523333333334 \\vee x \\geq 73.261666666667 \\vee x \\leq 70.308333333335 \\vee x \\leq 71.046666666668 \\vee x \\leq 71.785000000001\\right) \\wedge \\left(x \\geq 68.831666666669 \\vee x \\geq 71.785000000001 \\vee x \\geq 72.523333333334 \\vee x \\leq 70.308333333335 \\vee x \\leq 71.046666666668 \\vee x \\leq 71.785000000001 \\vee x \\leq 74.0\\right) \\wedge \\left(x \\geq 68.831666666669 \\vee x \\geq 71.785000000001 \\vee x \\geq 73.261666666667 \\vee x \\leq 70.308333333335 \\vee x \\leq 71.046666666668 \\vee x \\leq 71.785000000001 \\vee x \\leq 73.261666666667\\right) \\wedge \\left(x \\geq 68.831666666669 \\vee x \\geq 71.785000000001 \\vee x \\leq 70.308333333335 \\vee x \\leq 71.046666666668 \\vee x \\leq 71.785000000001 \\vee x \\leq 73.261666666667 \\vee x \\leq 74.0\\right) \\wedge \\left(x \\geq 68.831666666669 \\vee x \\geq 72.523333333334 \\vee x \\geq 73.261666666667 \\vee x \\leq 70.308333333335 \\vee x \\leq 71.046666666668 \\vee x \\leq 71.785000000001 \\vee x \\leq 72.523333333334\\right) \\wedge \\left(x \\geq 68.831666666669 \\vee x \\geq 72.523333333334 \\vee x \\leq 70.308333333335 \\vee x \\leq 71.046666666668 \\vee x \\leq 71.785000000001 \\vee x \\leq 72.523333333334 \\vee x \\leq 74.0\\right) \\wedge \\left(x \\geq 68.831666666669 \\vee x \\geq 73.261666666667 \\vee x \\leq 70.308333333335 \\vee x \\leq 71.046666666668 \\vee x \\leq 71.785000000001 \\vee x \\leq 72.523333333334 \\vee x \\leq 73.261666666667\\right) \\wedge \\left(x \\geq 68.831666666669 \\vee x \\leq 70.308333333335 \\vee x \\leq 71.046666666668 \\vee x \\leq 71.785000000001 \\vee x \\leq 72.523333333334 \\vee x \\leq 73.261666666667 \\vee x \\leq 74.0\\right) \\wedge \\left(x \\geq 69.570000000002 \\vee x \\geq 70.308333333335 \\vee x \\geq 71.046666666668 \\vee x \\geq 71.785000000001 \\vee x \\geq 72.523333333334 \\vee x \\geq 73.261666666667 \\vee x \\leq 69.570000000002\\right) \\wedge \\left(x \\geq 69.570000000002 \\vee x \\geq 70.308333333335 \\vee x \\geq 71.046666666668 \\vee x \\geq 71.785000000001 \\vee x \\geq 72.523333333334 \\vee x \\leq 69.570000000002 \\vee x \\leq 74.0\\right) \\wedge \\left(x \\geq 69.570000000002 \\vee x \\geq 70.308333333335 \\vee x \\geq 71.046666666668 \\vee x \\geq 71.785000000001 \\vee x \\geq 73.261666666667 \\vee x \\leq 69.570000000002 \\vee x \\leq 73.261666666667\\right) \\wedge \\left(x \\geq 69.570000000002 \\vee x \\geq 70.308333333335 \\vee x \\geq 71.046666666668 \\vee x \\geq 71.785000000001 \\vee x \\leq 69.570000000002 \\vee x \\leq 73.261666666667 \\vee x \\leq 74.0\\right) \\wedge \\left(x \\geq 69.570000000002 \\vee x \\geq 70.308333333335 \\vee x \\geq 71.046666666668 \\vee x \\geq 72.523333333334 \\vee x \\geq 73.261666666667 \\vee x \\leq 69.570000000002 \\vee x \\leq 72.523333333334\\right) \\wedge \\left(x \\geq 69.570000000002 \\vee x \\geq 70.308333333335 \\vee x \\geq 71.046666666668 \\vee x \\geq 72.523333333334 \\vee x \\leq 69.570000000002 \\vee x \\leq 72.523333333334 \\vee x \\leq 74.0\\right) \\wedge \\left(x \\geq 69.570000000002 \\vee x \\geq 70.308333333335 \\vee x \\geq 71.046666666668 \\vee x \\geq 73.261666666667 \\vee x \\leq 69.570000000002 \\vee x \\leq 72.523333333334 \\vee x \\leq 73.261666666667\\right) \\wedge \\left(x \\geq 69.570000000002 \\vee x \\geq 70.308333333335 \\vee x \\geq 71.046666666668 \\vee x \\leq 69.570000000002 \\vee x \\leq 72.523333333334 \\vee x \\leq 73.261666666667 \\vee x \\leq 74.0\\right) \\wedge \\left(x \\geq 69.570000000002 \\vee x \\geq 70.308333333335 \\vee x \\geq 71.785000000001 \\vee x \\geq 72.523333333334 \\vee x \\geq 73.261666666667 \\vee x \\leq 69.570000000002 \\vee x \\leq 71.785000000001\\right) \\wedge \\left(x \\geq 69.570000000002 \\vee x \\geq 70.308333333335 \\vee x \\geq 71.785000000001 \\vee x \\geq 72.523333333334 \\vee x \\leq 69.570000000002 \\vee x \\leq 71.785000000001 \\vee x \\leq 74.0\\right) \\wedge \\left(x \\geq 69.570000000002 \\vee x \\geq 70.308333333335 \\vee x \\geq 71.785000000001 \\vee x \\geq 73.261666666667 \\vee x \\leq 69.570000000002 \\vee x \\leq 71.785000000001 \\vee x \\leq 73.261666666667\\right) \\wedge \\left(x \\geq 69.570000000002 \\vee x \\geq 70.308333333335 \\vee x \\geq 71.785000000001 \\vee x \\leq 69.570000000002 \\vee x \\leq 71.785000000001 \\vee x \\leq 73.261666666667 \\vee x \\leq 74.0\\right) \\wedge \\left(x \\geq 69.570000000002 \\vee x \\geq 70.308333333335 \\vee x \\geq 72.523333333334 \\vee x \\geq 73.261666666667 \\vee x \\leq 69.570000000002 \\vee x \\leq 71.785000000001 \\vee x \\leq 72.523333333334\\right) \\wedge \\left(x \\geq 69.570000000002 \\vee x \\geq 70.308333333335 \\vee x \\geq 72.523333333334 \\vee x \\leq 69.570000000002 \\vee x \\leq 71.785000000001 \\vee x \\leq 72.523333333334 \\vee x \\leq 74.0\\right) \\wedge \\left(x \\geq 69.570000000002 \\vee x \\geq 70.308333333335 \\vee x \\geq 73.261666666667 \\vee x \\leq 69.570000000002 \\vee x \\leq 71.785000000001 \\vee x \\leq 72.523333333334 \\vee x \\leq 73.261666666667\\right) \\wedge \\left(x \\geq 69.570000000002 \\vee x \\geq 70.308333333335 \\vee x \\leq 69.570000000002 \\vee x \\leq 71.785000000001 \\vee x \\leq 72.523333333334 \\vee x \\leq 73.261666666667 \\vee x \\leq 74.0\\right) \\wedge \\left(x \\geq 69.570000000002 \\vee x \\geq 71.046666666668 \\vee x \\geq 71.785000000001 \\vee x \\geq 72.523333333334 \\vee x \\geq 73.261666666667 \\vee x \\leq 69.570000000002 \\vee x \\leq 71.046666666668\\right) \\wedge \\left(x \\geq 69.570000000002 \\vee x \\geq 71.046666666668 \\vee x \\geq 71.785000000001 \\vee x \\geq 72.523333333334 \\vee x \\leq 69.570000000002 \\vee x \\leq 71.046666666668 \\vee x \\leq 74.0\\right) \\wedge \\left(x \\geq 69.570000000002 \\vee x \\geq 71.046666666668 \\vee x \\geq 71.785000000001 \\vee x \\geq 73.261666666667 \\vee x \\leq 69.570000000002 \\vee x \\leq 71.046666666668 \\vee x \\leq 73.261666666667\\right) \\wedge \\left(x \\geq 69.570000000002 \\vee x \\geq 71.046666666668 \\vee x \\geq 71.785000000001 \\vee x \\leq 69.570000000002 \\vee x \\leq 71.046666666668 \\vee x \\leq 73.261666666667 \\vee x \\leq 74.0\\right) \\wedge \\left(x \\geq 69.570000000002 \\vee x \\geq 71.046666666668 \\vee x \\geq 72.523333333334 \\vee x \\geq 73.261666666667 \\vee x \\leq 69.570000000002 \\vee x \\leq 71.046666666668 \\vee x \\leq 72.523333333334\\right) \\wedge \\left(x \\geq 69.570000000002 \\vee x \\geq 71.046666666668 \\vee x \\geq 72.523333333334 \\vee x \\leq 69.570000000002 \\vee x \\leq 71.046666666668 \\vee x \\leq 72.523333333334 \\vee x \\leq 74.0\\right) \\wedge \\left(x \\geq 69.570000000002 \\vee x \\geq 71.046666666668 \\vee x \\geq 73.261666666667 \\vee x \\leq 69.570000000002 \\vee x \\leq 71.046666666668 \\vee x \\leq 72.523333333334 \\vee x \\leq 73.261666666667\\right) \\wedge \\left(x \\geq 69.570000000002 \\vee x \\geq 71.046666666668 \\vee x \\leq 69.570000000002 \\vee x \\leq 71.046666666668 \\vee x \\leq 72.523333333334 \\vee x \\leq 73.261666666667 \\vee x \\leq 74.0\\right) \\wedge \\left(x \\geq 69.570000000002 \\vee x \\geq 71.785000000001 \\vee x \\geq 72.523333333334 \\vee x \\geq 73.261666666667 \\vee x \\leq 69.570000000002 \\vee x \\leq 71.046666666668 \\vee x \\leq 71.785000000001\\right) \\wedge \\left(x \\geq 69.570000000002 \\vee x \\geq 71.785000000001 \\vee x \\geq 72.523333333334 \\vee x \\leq 69.570000000002 \\vee x \\leq 71.046666666668 \\vee x \\leq 71.785000000001 \\vee x \\leq 74.0\\right) \\wedge \\left(x \\geq 69.570000000002 \\vee x \\geq 71.785000000001 \\vee x \\geq 73.261666666667 \\vee x \\leq 69.570000000002 \\vee x \\leq 71.046666666668 \\vee x \\leq 71.785000000001 \\vee x \\leq 73.261666666667\\right) \\wedge \\left(x \\geq 69.570000000002 \\vee x \\geq 71.785000000001 \\vee x \\leq 69.570000000002 \\vee x \\leq 71.046666666668 \\vee x \\leq 71.785000000001 \\vee x \\leq 73.261666666667 \\vee x \\leq 74.0\\right) \\wedge \\left(x \\geq 69.570000000002 \\vee x \\geq 72.523333333334 \\vee x \\geq 73.261666666667 \\vee x \\leq 69.570000000002 \\vee x \\leq 71.046666666668 \\vee x \\leq 71.785000000001 \\vee x \\leq 72.523333333334\\right) \\wedge \\left(x \\geq 69.570000000002 \\vee x \\geq 72.523333333334 \\vee x \\leq 69.570000000002 \\vee x \\leq 71.046666666668 \\vee x \\leq 71.785000000001 \\vee x \\leq 72.523333333334 \\vee x \\leq 74.0\\right) \\wedge \\left(x \\geq 69.570000000002 \\vee x \\geq 73.261666666667 \\vee x \\leq 69.570000000002 \\vee x \\leq 71.046666666668 \\vee x \\leq 71.785000000001 \\vee x \\leq 72.523333333334 \\vee x \\leq 73.261666666667\\right) \\wedge \\left(x \\geq 69.570000000002 \\vee x \\leq 69.570000000002 \\vee x \\leq 71.046666666668 \\vee x \\leq 71.785000000001 \\vee x \\leq 72.523333333334 \\vee x \\leq 73.261666666667 \\vee x \\leq 74.0\\right) \\wedge \\left(x \\geq 70.308333333335 \\vee x \\geq 71.046666666668 \\vee x \\geq 71.785000000001 \\vee x \\geq 72.523333333334 \\vee x \\geq 73.261666666667 \\vee x \\leq 69.570000000002 \\vee x \\leq 70.308333333335\\right) \\wedge \\left(x \\geq 70.308333333335 \\vee x \\geq 71.046666666668 \\vee x \\geq 71.785000000001 \\vee x \\geq 72.523333333334 \\vee x \\leq 69.570000000002 \\vee x \\leq 70.308333333335 \\vee x \\leq 74.0\\right) \\wedge \\left(x \\geq 70.308333333335 \\vee x \\geq 71.046666666668 \\vee x \\geq 71.785000000001 \\vee x \\geq 73.261666666667 \\vee x \\leq 69.570000000002 \\vee x \\leq 70.308333333335 \\vee x \\leq 73.261666666667\\right) \\wedge \\left(x \\geq 70.308333333335 \\vee x \\geq 71.046666666668 \\vee x \\geq 71.785000000001 \\vee x \\leq 69.570000000002 \\vee x \\leq 70.308333333335 \\vee x \\leq 73.261666666667 \\vee x \\leq 74.0\\right) \\wedge \\left(x \\geq 70.308333333335 \\vee x \\geq 71.046666666668 \\vee x \\geq 72.523333333334 \\vee x \\geq 73.261666666667 \\vee x \\leq 69.570000000002 \\vee x \\leq 70.308333333335 \\vee x \\leq 72.523333333334\\right) \\wedge \\left(x \\geq 70.308333333335 \\vee x \\geq 71.046666666668 \\vee x \\geq 72.523333333334 \\vee x \\leq 69.570000000002 \\vee x \\leq 70.308333333335 \\vee x \\leq 72.523333333334 \\vee x \\leq 74.0\\right) \\wedge \\left(x \\geq 70.308333333335 \\vee x \\geq 71.046666666668 \\vee x \\geq 73.261666666667 \\vee x \\leq 69.570000000002 \\vee x \\leq 70.308333333335 \\vee x \\leq 72.523333333334 \\vee x \\leq 73.261666666667\\right) \\wedge \\left(x \\geq 70.308333333335 \\vee x \\geq 71.046666666668 \\vee x \\leq 69.570000000002 \\vee x \\leq 70.308333333335 \\vee x \\leq 72.523333333334 \\vee x \\leq 73.261666666667 \\vee x \\leq 74.0\\right) \\wedge \\left(x \\geq 70.308333333335 \\vee x \\geq 71.785000000001 \\vee x \\geq 72.523333333334 \\vee x \\geq 73.261666666667 \\vee x \\leq 69.570000000002 \\vee x \\leq 70.308333333335 \\vee x \\leq 71.785000000001\\right) \\wedge \\left(x \\geq 70.308333333335 \\vee x \\geq 71.785000000001 \\vee x \\geq 72.523333333334 \\vee x \\leq 69.570000000002 \\vee x \\leq 70.308333333335 \\vee x \\leq 71.785000000001 \\vee x \\leq 74.0\\right) \\wedge \\left(x \\geq 70.308333333335 \\vee x \\geq 71.785000000001 \\vee x \\geq 73.261666666667 \\vee x \\leq 69.570000000002 \\vee x \\leq 70.308333333335 \\vee x \\leq 71.785000000001 \\vee x \\leq 73.261666666667\\right) \\wedge \\left(x \\geq 70.308333333335 \\vee x \\geq 71.785000000001 \\vee x \\leq 69.570000000002 \\vee x \\leq 70.308333333335 \\vee x \\leq 71.785000000001 \\vee x \\leq 73.261666666667 \\vee x \\leq 74.0\\right) \\wedge \\left(x \\geq 70.308333333335 \\vee x \\geq 72.523333333334 \\vee x \\geq 73.261666666667 \\vee x \\leq 69.570000000002 \\vee x \\leq 70.308333333335 \\vee x \\leq 71.785000000001 \\vee x \\leq 72.523333333334\\right) \\wedge \\left(x \\geq 70.308333333335 \\vee x \\geq 72.523333333334 \\vee x \\leq 69.570000000002 \\vee x \\leq 70.308333333335 \\vee x \\leq 71.785000000001 \\vee x \\leq 72.523333333334 \\vee x \\leq 74.0\\right) \\wedge \\left(x \\geq 70.308333333335 \\vee x \\geq 73.261666666667 \\vee x \\leq 69.570000000002 \\vee x \\leq 70.308333333335 \\vee x \\leq 71.785000000001 \\vee x \\leq 72.523333333334 \\vee x \\leq 73.261666666667\\right) \\wedge \\left(x \\geq 70.308333333335 \\vee x \\leq 69.570000000002 \\vee x \\leq 70.308333333335 \\vee x \\leq 71.785000000001 \\vee x \\leq 72.523333333334 \\vee x \\leq 73.261666666667 \\vee x \\leq 74.0\\right) \\wedge \\left(x \\geq 71.046666666668 \\vee x \\geq 71.785000000001 \\vee x \\geq 72.523333333334 \\vee x \\geq 73.261666666667 \\vee x \\leq 69.570000000002 \\vee x \\leq 70.308333333335 \\vee x \\leq 71.046666666668\\right) \\wedge \\left(x \\geq 71.046666666668 \\vee x \\geq 71.785000000001 \\vee x \\geq 72.523333333334 \\vee x \\leq 69.570000000002 \\vee x \\leq 70.308333333335 \\vee x \\leq 71.046666666668 \\vee x \\leq 74.0\\right) \\wedge \\left(x \\geq 71.046666666668 \\vee x \\geq 71.785000000001 \\vee x \\geq 73.261666666667 \\vee x \\leq 69.570000000002 \\vee x \\leq 70.308333333335 \\vee x \\leq 71.046666666668 \\vee x \\leq 73.261666666667\\right) \\wedge \\left(x \\geq 71.046666666668 \\vee x \\geq 71.785000000001 \\vee x \\leq 69.570000000002 \\vee x \\leq 70.308333333335 \\vee x \\leq 71.046666666668 \\vee x \\leq 73.261666666667 \\vee x \\leq 74.0\\right) \\wedge \\left(x \\geq 71.046666666668 \\vee x \\geq 72.523333333334 \\vee x \\geq 73.261666666667 \\vee x \\leq 69.570000000002 \\vee x \\leq 70.308333333335 \\vee x \\leq 71.046666666668 \\vee x \\leq 72.523333333334\\right) \\wedge \\left(x \\geq 71.046666666668 \\vee x \\geq 72.523333333334 \\vee x \\leq 69.570000000002 \\vee x \\leq 70.308333333335 \\vee x \\leq 71.046666666668 \\vee x \\leq 72.523333333334 \\vee x \\leq 74.0\\right) \\wedge \\left(x \\geq 71.046666666668 \\vee x \\geq 73.261666666667 \\vee x \\leq 69.570000000002 \\vee x \\leq 70.308333333335 \\vee x \\leq 71.046666666668 \\vee x \\leq 72.523333333334 \\vee x \\leq 73.261666666667\\right) \\wedge \\left(x \\geq 71.046666666668 \\vee x \\leq 69.570000000002 \\vee x \\leq 70.308333333335 \\vee x \\leq 71.046666666668 \\vee x \\leq 72.523333333334 \\vee x \\leq 73.261666666667 \\vee x \\leq 74.0\\right) \\wedge \\left(x \\geq 71.785000000001 \\vee x \\geq 72.523333333334 \\vee x \\geq 73.261666666667 \\vee x \\leq 69.570000000002 \\vee x \\leq 70.308333333335 \\vee x \\leq 71.046666666668 \\vee x \\leq 71.785000000001\\right) \\wedge \\left(x \\geq 71.785000000001 \\vee x \\geq 72.523333333334 \\vee x \\leq 69.570000000002 \\vee x \\leq 70.308333333335 \\vee x \\leq 71.046666666668 \\vee x \\leq 71.785000000001 \\vee x \\leq 74.0\\right) \\wedge \\left(x \\geq 71.785000000001 \\vee x \\geq 73.261666666667 \\vee x \\leq 69.570000000002 \\vee x \\leq 70.308333333335 \\vee x \\leq 71.046666666668 \\vee x \\leq 71.785000000001 \\vee x \\leq 73.261666666667\\right) \\wedge \\left(x \\geq 71.785000000001 \\vee x \\leq 69.570000000002 \\vee x \\leq 70.308333333335 \\vee x \\leq 71.046666666668 \\vee x \\leq 71.785000000001 \\vee x \\leq 73.261666666667 \\vee x \\leq 74.0\\right) \\wedge \\left(x \\geq 72.523333333334 \\vee x \\geq 73.261666666667 \\vee x \\leq 69.570000000002 \\vee x \\leq 70.308333333335 \\vee x \\leq 71.046666666668 \\vee x \\leq 71.785000000001 \\vee x \\leq 72.523333333334\\right) \\wedge \\left(x \\geq 72.523333333334 \\vee x \\leq 69.570000000002 \\vee x \\leq 70.308333333335 \\vee x \\leq 71.046666666668 \\vee x \\leq 71.785000000001 \\vee x \\leq 72.523333333334 \\vee x \\leq 74.0\\right) \\wedge \\left(x \\geq 73.261666666667 \\vee x \\leq 69.570000000002 \\vee x \\leq 70.308333333335 \\vee x \\leq 71.046666666668 \\vee x \\leq 71.785000000001 \\vee x \\leq 72.523333333334 \\vee x \\leq 73.261666666667\\right) \\wedge \\left(x \\leq 69.570000000002 \\vee x \\leq 70.308333333335 \\vee x \\leq 71.046666666668 \\vee x \\leq 71.785000000001 \\vee x \\leq 72.523333333334 \\vee x \\leq 73.261666666667 \\vee x \\leq 74.0\\right) \\end{cases}$"
      ],
      "text/plain": [
       "Piecewise((0.000902934537246436*x + 0.431315329890357, (x >= 0.1666666667) & (x <= 0.905000000033)), (0.432888354721115 - 0.000835214446953114*x, (x >= 0.905000000033) & (x <= 1.643333333366)), (0.431515818979928, (x >= 1.643333333366) & (x <= 2.381666666699)), (0.00050347962675934*x + 0.430316698335514, (x >= 2.381666666699) & (x <= 3.120000000032)), (0.450752547150095 - 0.00604647191630847*x, (x >= 3.120000000032) & (x <= 3.858333333365)), (0.589970210670641 - 0.0421288037139942*x, (x >= 3.858333333365) & (x <= 4.596666666698)), (0.396318142930661, (x >= 4.596666666698) & (x <= 5.335000000031)), (0.410501635971875 - 0.00265857414079329*x, (x >= 5.335000000031) & (x <= 6.073333333364)), (0.420281903063131 - 0.00426893644999282*x, (x >= 6.073333333364) & (x <= 6.811666666697)), (0.405864238336904 - 0.002152323081826*x, (x >= 6.811666666697) & (x <= 7.55000000003)), (0.400200840949329 - 0.00140220422254766*x, (x >= 7.55000000003) & (x <= 8.288333333363)), (0.479764335353279 - 0.0110016606155096*x, (x >= 8.288333333363) & (x <= 9.026666666696)), (0.721553673181243 - 0.0377877763275307*x, (x >= 9.026666666696) & (x <= 9.765000000029)), (0.403446083701465 - 0.00521147428156726*x, (x >= 9.765000000029) & (x <= 10.503333333362)), (0.37043480716912 - 0.00206854093987369*x, (x >= 10.503333333362) & (x <= 11.241666666695)), (0.347180959436648, (x >= 11.241666666695) & (x <= 11.980000000028)), (0.438491736530644 - 0.00762193464889671*x, (x >= 11.980000000028) & (x <= 12.718333333361)), (0.368404899021884 - 0.00211124109560551*x, (x >= 12.718333333361) & (x <= 13.456666666694)), (0.51881596048662 - 0.0132886794011119*x, (x >= 13.456666666694) & (x <= 14.195000000027)), (0.509228354255319 - 0.0126132580392745*x, (x >= 14.195000000027) & (x <= 14.93333333336)), (0.334586669655002 - 0.00091850237409552*x, (x >= 14.93333333336) & (x <= 15.671666666693)), (0.32019220661561, (x >= 15.671666666693) & (x <= 16.410000000026)), (0.369735943496244 - 0.00301911863988752*x, (x >= 16.410000000026) & (x <= 17.148333333359)), (0.349310706634706 - 0.00182802697724743*x, (x >= 17.148333333359) & (x <= 17.886666666692)), (0.316613397434962, (x >= 17.886666666692) & (x <= 18.625000000025)), (0.316613397434961, (x >= 18.625000000025) & (x <= 19.363333333358)), (0.316613397434962, (x >= 19.363333333358) & (x <= 20.101666666691)), (0.000590967474665693*x + 0.304733966248376, (x >= 20.101666666691) & (x <= 20.840000000024)), (0.317049728420422, ((x >= 20.840000000024) | (x >= 21.578333333357)) & ((x >= 20.840000000024) | (x <= 22.31666666669)) & ((x >= 21.578333333357) | (x <= 21.578333333357)) & ((x <= 21.578333333357) | (x <= 22.31666666669))), (0.335722178820124 - 0.00083670427481769*x, (x >= 22.31666666669) & (x <= 23.055000000023)), (0.339286697783452 - 0.000991313642127456*x, (x >= 23.055000000023) & (x <= 23.793333333356)), (0.315700041858447 - 1.49880108324396e-15*x, (x >= 23.793333333356) & (x <= 24.531666666689)), (0.315700041858411, ((x >= 24.531666666689) | (x >= 25.270000000022)) & ((x >= 24.531666666689) | (x <= 26.008333333355)) & ((x >= 25.270000000022) | (x <= 25.270000000022)) & ((x <= 25.270000000022) | (x <= 26.008333333355))), (0.31570004185841, (x >= 26.008333333355) & (x <= 26.746666666688)), (0.315700041858411, (x >= 26.746666666688) & (x <= 27.485000000021)), (0.328709945732765 - 0.000473345602122754*x, (x >= 27.485000000021) & (x <= 28.223333333354)), (0.315350555022176, (x >= 28.223333333354) & (x <= 28.961666666687)), (0.417329513994575 - 0.00352117024707349*x, (x >= 28.961666666687) & (x <= 29.70000000002)), (0.312750757656422, ((x >= 29.70000000002) | (x >= 30.438333333353) | (x >= 31.176666666686)) & ((x >= 29.70000000002) | (x >= 30.438333333353) | (x <= 31.915000000019)) & ((x >= 29.70000000002) | (x >= 31.176666666686) | (x <= 31.176666666686)) & ((x >= 29.70000000002) | (x <= 31.176666666686) | (x <= 31.915000000019)) & ((x >= 30.438333333353) | (x >= 31.176666666686) | (x <= 30.438333333353)) & ((x >= 30.438333333353) | (x <= 30.438333333353) | (x <= 31.915000000019)) & ((x >= 31.176666666686) | (x <= 30.438333333353) | (x <= 31.176666666686)) & ((x <= 30.438333333353) | (x <= 31.176666666686) | (x <= 31.915000000019))), (0.000141266445882526*x + 0.30824223903608, (x >= 31.915000000019) & (x <= 32.653333333352)), (0.312855059382299, ((x >= 32.653333333352) | (x >= 33.391666666685) | (x >= 34.130000000018)) & ((x >= 32.653333333352) | (x >= 33.391666666685) | (x <= 34.868333333351)) & ((x >= 32.653333333352) | (x >= 34.130000000018) | (x <= 34.130000000018)) & ((x >= 32.653333333352) | (x <= 34.130000000018) | (x <= 34.868333333351)) & ((x >= 33.391666666685) | (x >= 34.130000000018) | (x <= 33.391666666685)) & ((x >= 33.391666666685) | (x <= 33.391666666685) | (x <= 34.868333333351)) & ((x >= 34.130000000018) | (x <= 33.391666666685) | (x <= 34.130000000018)) & ((x <= 33.391666666685) | (x <= 34.130000000018) | (x <= 34.868333333351))), (0.480524132788256 - 0.00480863457977743*x, (x >= 34.868333333351) & (x <= 35.606666666684)), (0.309304684184232, (x >= 35.606666666684) & (x <= 36.345000000017)), (0.418008867793189 - 0.0029908978844107*x, (x >= 36.345000000017) & (x <= 37.08333333335)), (0.307096404579575, (x >= 37.08333333335) & (x <= 37.821666666683)), (0.347002959767565 - 0.00105512418423226*x, (x >= 37.821666666683) & (x <= 38.560000000016)), (0.306317371223553, ((x >= 38.560000000016) | (x >= 39.298333333349)) & ((x >= 38.560000000016) | (x <= 40.036666666682)) & ((x >= 39.298333333349) | (x <= 39.298333333349)) & ((x <= 39.298333333349) | (x <= 40.036666666682))), (0.30631737122355, ((x >= 40.036666666682) | (x >= 40.775000000015)) & ((x >= 40.036666666682) | (x <= 41.513333333348)) & ((x >= 40.775000000015) | (x <= 40.775000000015)) & ((x <= 40.775000000015) | (x <= 41.513333333348))), (0.306317371223553, (x >= 41.513333333348) & (x <= 42.251666666681)), (0.30631737122355, ((x >= 42.251666666681) | (x >= 42.990000000014)) & ((x >= 42.251666666681) | (x <= 43.728333333347)) & ((x >= 42.990000000014) | (x <= 42.990000000014)) & ((x <= 42.990000000014) | (x <= 43.728333333347))), (0.306317371223553, (x >= 43.728333333347) & (x <= 44.46666666668)), (0.30631737122355, ((x >= 44.46666666668) | (x >= 45.205000000013) | (x >= 45.943333333346)) & ((x >= 44.46666666668) | (x >= 45.205000000013) | (x <= 46.681666666679)) & ((x >= 44.46666666668) | (x >= 45.943333333346) | (x <= 45.943333333346)) & ((x >= 44.46666666668) | (x <= 45.943333333346) | (x <= 46.681666666679)) & ((x >= 45.205000000013) | (x >= 45.943333333346) | (x <= 45.205000000013)) & ((x >= 45.205000000013) | (x <= 45.205000000013) | (x <= 46.681666666679)) & ((x >= 45.943333333346) | (x <= 45.205000000013) | (x <= 45.943333333346)) & ((x <= 45.205000000013) | (x <= 45.943333333346) | (x <= 46.681666666679))), (0.0892408139931702*x - 3.85959256066872, (x >= 46.681666666679) & (x <= 47.0)), (3.51375263019581 - 0.0676388709188414*x, (x >= 47.0) & (x <= 47.420000000012)), (0.30631737122355, (x >= 47.420000000012) & (x <= 48.158333333345)), (0.357680211573463 - 0.00106654106973314*x, (x >= 48.158333333345) & (x <= 48.896666666678)), (0.305529908400398, ((x >= 48.896666666678) | (x >= 49.635000000011)) & ((x >= 48.896666666678) | (x <= 50.373333333344)) & ((x >= 49.635000000011) | (x <= 49.635000000011)) & ((x <= 49.635000000011) | (x <= 50.373333333344))), (0.383935354672268 - 0.00155648715468204*x, (x >= 50.373333333344) & (x <= 51.111666666677)), (0.304380702051191, ((x >= 51.111666666677) | (x >= 51.85000000001)) & ((x >= 51.111666666677) | (x <= 52.588333333343)) & ((x >= 51.85000000001) | (x <= 51.85000000001)) & ((x <= 51.85000000001) | (x <= 52.588333333343))), (0.000348396439371457*x + 0.286059113965376, (x >= 52.588333333343) & (x <= 53.326666666676)), (0.584811178492632 - 0.00525390505820084*x, (x >= 53.326666666676) & (x <= 54.065000000009)), (0.889220500947463 - 0.0108843373610729*x, (x >= 54.065000000009) & (x <= 54.803333333342)), (0.41670927158173 - 0.00226239412102081*x, (x >= 54.803333333342) & (x <= 55.541666666675)), (0.291052131443347, (x >= 55.541666666675) & (x <= 56.280000000008)), (0.459018345733494 - 0.00298447431219118*x, (x >= 56.280000000008) & (x <= 57.018333333341)), (0.288848594576184, ((x >= 57.018333333341) | (x >= 57.756666666674) | (x >= 58.495000000007)) & ((x >= 57.018333333341) | (x >= 57.756666666674) | (x <= 59.23333333334)) & ((x >= 57.018333333341) | (x >= 58.495000000007) | (x <= 58.495000000007)) & ((x >= 57.018333333341) | (x <= 58.495000000007) | (x <= 59.23333333334)) & ((x >= 57.756666666674) | (x >= 58.495000000007) | (x <= 57.756666666674)) & ((x >= 57.756666666674) | (x <= 57.756666666674) | (x <= 59.23333333334)) & ((x >= 58.495000000007) | (x <= 57.756666666674) | (x <= 58.495000000007)) & ((x <= 57.756666666674) | (x <= 58.495000000007) | (x <= 59.23333333334))), (0.359697294409116 - 0.00119609510128743*x, (x >= 59.23333333334) & (x <= 59.971666666673)), (0.302567856773397 - 0.000243487965100153*x, (x >= 59.971666666673) & (x <= 60.710000000006)), (0.287785702412169, (x >= 60.710000000006) & (x <= 61.448333333339)), (0.395713137810144 - 0.00175639320943827*x, (x >= 61.448333333339) & (x <= 62.186666666672)), (0.500724088064022 - 0.00344503413333197*x, (x >= 62.186666666672) & (x <= 62.925000000005)), (0.283945315224088, (x >= 62.925000000005) & (x <= 63.663333333338)), (0.283945315224091, ((x >= 63.663333333338) | (x >= 64.401666666671)) & ((x >= 63.663333333338) | (x <= 65.140000000004)) & ((x >= 64.401666666671) | (x <= 64.401666666671)) & ((x <= 64.401666666671) | (x <= 65.140000000004))), (0.283945315224088, (x >= 65.140000000004) & (x <= 65.878333333337)), (0.283945315224091, ((x >= 65.878333333337) | (x >= 66.61666666667)) & ((x >= 65.878333333337) | (x <= 67.355000000003)) & ((x >= 66.61666666667) | (x <= 66.61666666667)) & ((x <= 66.61666666667) | (x <= 67.355000000003))), (0.283945315224088, ((x >= 67.355000000003) | (x >= 68.093333333336)) & ((x >= 67.355000000003) | (x <= 68.831666666669)) & ((x >= 68.093333333336) | (x <= 68.093333333336)) & ((x <= 68.093333333336) | (x <= 68.831666666669))), (0.283945315224091, ((x >= 68.831666666669) | (x >= 69.570000000002) | (x >= 70.308333333335) | (x >= 71.046666666668) | (x >= 71.785000000001) | (x >= 72.523333333334) | (x >= 73.261666666667)) & ((x >= 68.831666666669) | (x >= 69.570000000002) | (x >= 70.308333333335) | (x >= 71.046666666668) | (x >= 71.785000000001) | (x >= 72.523333333334) | (x <= 74.0)) & ((x >= 68.831666666669) | (x >= 69.570000000002) | (x >= 70.308333333335) | (x >= 71.046666666668) | (x >= 71.785000000001) | (x >= 73.261666666667) | (x <= 73.261666666667)) & ((x >= 68.831666666669) | (x >= 69.570000000002) | (x >= 70.308333333335) | (x >= 71.046666666668) | (x >= 71.785000000001) | (x <= 73.261666666667) | (x <= 74.0)) & ((x >= 68.831666666669) | (x >= 69.570000000002) | (x >= 70.308333333335) | (x >= 71.046666666668) | (x >= 72.523333333334) | (x >= 73.261666666667) | (x <= 72.523333333334)) & ((x >= 68.831666666669) | (x >= 69.570000000002) | (x >= 70.308333333335) | (x >= 71.046666666668) | (x >= 72.523333333334) | (x <= 72.523333333334) | (x <= 74.0)) & ((x >= 68.831666666669) | (x >= 69.570000000002) | (x >= 70.308333333335) | (x >= 71.046666666668) | (x >= 73.261666666667) | (x <= 72.523333333334) | (x <= 73.261666666667)) & ((x >= 68.831666666669) | (x >= 69.570000000002) | (x >= 70.308333333335) | (x >= 71.046666666668) | (x <= 72.523333333334) | (x <= 73.261666666667) | (x <= 74.0)) & ((x >= 68.831666666669) | (x >= 69.570000000002) | (x >= 70.308333333335) | (x >= 71.785000000001) | (x >= 72.523333333334) | (x >= 73.261666666667) | (x <= 71.785000000001)) & ((x >= 68.831666666669) | (x >= 69.570000000002) | (x >= 70.308333333335) | (x >= 71.785000000001) | (x >= 72.523333333334) | (x <= 71.785000000001) | (x <= 74.0)) & ((x >= 68.831666666669) | (x >= 69.570000000002) | (x >= 70.308333333335) | (x >= 71.785000000001) | (x >= 73.261666666667) | (x <= 71.785000000001) | (x <= 73.261666666667)) & ((x >= 68.831666666669) | (x >= 69.570000000002) | (x >= 70.308333333335) | (x >= 71.785000000001) | (x <= 71.785000000001) | (x <= 73.261666666667) | (x <= 74.0)) & ((x >= 68.831666666669) | (x >= 69.570000000002) | (x >= 70.308333333335) | (x >= 72.523333333334) | (x >= 73.261666666667) | (x <= 71.785000000001) | (x <= 72.523333333334)) & ((x >= 68.831666666669) | (x >= 69.570000000002) | (x >= 70.308333333335) | (x >= 72.523333333334) | (x <= 71.785000000001) | (x <= 72.523333333334) | (x <= 74.0)) & ((x >= 68.831666666669) | (x >= 69.570000000002) | (x >= 70.308333333335) | (x >= 73.261666666667) | (x <= 71.785000000001) | (x <= 72.523333333334) | (x <= 73.261666666667)) & ((x >= 68.831666666669) | (x >= 69.570000000002) | (x >= 70.308333333335) | (x <= 71.785000000001) | (x <= 72.523333333334) | (x <= 73.261666666667) | (x <= 74.0)) & ((x >= 68.831666666669) | (x >= 69.570000000002) | (x >= 71.046666666668) | (x >= 71.785000000001) | (x >= 72.523333333334) | (x >= 73.261666666667) | (x <= 71.046666666668)) & ((x >= 68.831666666669) | (x >= 69.570000000002) | (x >= 71.046666666668) | (x >= 71.785000000001) | (x >= 72.523333333334) | (x <= 71.046666666668) | (x <= 74.0)) & ((x >= 68.831666666669) | (x >= 69.570000000002) | (x >= 71.046666666668) | (x >= 71.785000000001) | (x >= 73.261666666667) | (x <= 71.046666666668) | (x <= 73.261666666667)) & ((x >= 68.831666666669) | (x >= 69.570000000002) | (x >= 71.046666666668) | (x >= 71.785000000001) | (x <= 71.046666666668) | (x <= 73.261666666667) | (x <= 74.0)) & ((x >= 68.831666666669) | (x >= 69.570000000002) | (x >= 71.046666666668) | (x >= 72.523333333334) | (x >= 73.261666666667) | (x <= 71.046666666668) | (x <= 72.523333333334)) & ((x >= 68.831666666669) | (x >= 69.570000000002) | (x >= 71.046666666668) | (x >= 72.523333333334) | (x <= 71.046666666668) | (x <= 72.523333333334) | (x <= 74.0)) & ((x >= 68.831666666669) | (x >= 69.570000000002) | (x >= 71.046666666668) | (x >= 73.261666666667) | (x <= 71.046666666668) | (x <= 72.523333333334) | (x <= 73.261666666667)) & ((x >= 68.831666666669) | (x >= 69.570000000002) | (x >= 71.046666666668) | (x <= 71.046666666668) | (x <= 72.523333333334) | (x <= 73.261666666667) | (x <= 74.0)) & ((x >= 68.831666666669) | (x >= 69.570000000002) | (x >= 71.785000000001) | (x >= 72.523333333334) | (x >= 73.261666666667) | (x <= 71.046666666668) | (x <= 71.785000000001)) & ((x >= 68.831666666669) | (x >= 69.570000000002) | (x >= 71.785000000001) | (x >= 72.523333333334) | (x <= 71.046666666668) | (x <= 71.785000000001) | (x <= 74.0)) & ((x >= 68.831666666669) | (x >= 69.570000000002) | (x >= 71.785000000001) | (x >= 73.261666666667) | (x <= 71.046666666668) | (x <= 71.785000000001) | (x <= 73.261666666667)) & ((x >= 68.831666666669) | (x >= 69.570000000002) | (x >= 71.785000000001) | (x <= 71.046666666668) | (x <= 71.785000000001) | (x <= 73.261666666667) | (x <= 74.0)) & ((x >= 68.831666666669) | (x >= 69.570000000002) | (x >= 72.523333333334) | (x >= 73.261666666667) | (x <= 71.046666666668) | (x <= 71.785000000001) | (x <= 72.523333333334)) & ((x >= 68.831666666669) | (x >= 69.570000000002) | (x >= 72.523333333334) | (x <= 71.046666666668) | (x <= 71.785000000001) | (x <= 72.523333333334) | (x <= 74.0)) & ((x >= 68.831666666669) | (x >= 69.570000000002) | (x >= 73.261666666667) | (x <= 71.046666666668) | (x <= 71.785000000001) | (x <= 72.523333333334) | (x <= 73.261666666667)) & ((x >= 68.831666666669) | (x >= 69.570000000002) | (x <= 71.046666666668) | (x <= 71.785000000001) | (x <= 72.523333333334) | (x <= 73.261666666667) | (x <= 74.0)) & ((x >= 68.831666666669) | (x >= 70.308333333335) | (x >= 71.046666666668) | (x >= 71.785000000001) | (x >= 72.523333333334) | (x >= 73.261666666667) | (x <= 70.308333333335)) & ((x >= 68.831666666669) | (x >= 70.308333333335) | (x >= 71.046666666668) | (x >= 71.785000000001) | (x >= 72.523333333334) | (x <= 70.308333333335) | (x <= 74.0)) & ((x >= 68.831666666669) | (x >= 70.308333333335) | (x >= 71.046666666668) | (x >= 71.785000000001) | (x >= 73.261666666667) | (x <= 70.308333333335) | (x <= 73.261666666667)) & ((x >= 68.831666666669) | (x >= 70.308333333335) | (x >= 71.046666666668) | (x >= 71.785000000001) | (x <= 70.308333333335) | (x <= 73.261666666667) | (x <= 74.0)) & ((x >= 68.831666666669) | (x >= 70.308333333335) | (x >= 71.046666666668) | (x >= 72.523333333334) | (x >= 73.261666666667) | (x <= 70.308333333335) | (x <= 72.523333333334)) & ((x >= 68.831666666669) | (x >= 70.308333333335) | (x >= 71.046666666668) | (x >= 72.523333333334) | (x <= 70.308333333335) | (x <= 72.523333333334) | (x <= 74.0)) & ((x >= 68.831666666669) | (x >= 70.308333333335) | (x >= 71.046666666668) | (x >= 73.261666666667) | (x <= 70.308333333335) | (x <= 72.523333333334) | (x <= 73.261666666667)) & ((x >= 68.831666666669) | (x >= 70.308333333335) | (x >= 71.046666666668) | (x <= 70.308333333335) | (x <= 72.523333333334) | (x <= 73.261666666667) | (x <= 74.0)) & ((x >= 68.831666666669) | (x >= 70.308333333335) | (x >= 71.785000000001) | (x >= 72.523333333334) | (x >= 73.261666666667) | (x <= 70.308333333335) | (x <= 71.785000000001)) & ((x >= 68.831666666669) | (x >= 70.308333333335) | (x >= 71.785000000001) | (x >= 72.523333333334) | (x <= 70.308333333335) | (x <= 71.785000000001) | (x <= 74.0)) & ((x >= 68.831666666669) | (x >= 70.308333333335) | (x >= 71.785000000001) | (x >= 73.261666666667) | (x <= 70.308333333335) | (x <= 71.785000000001) | (x <= 73.261666666667)) & ((x >= 68.831666666669) | (x >= 70.308333333335) | (x >= 71.785000000001) | (x <= 70.308333333335) | (x <= 71.785000000001) | (x <= 73.261666666667) | (x <= 74.0)) & ((x >= 68.831666666669) | (x >= 70.308333333335) | (x >= 72.523333333334) | (x >= 73.261666666667) | (x <= 70.308333333335) | (x <= 71.785000000001) | (x <= 72.523333333334)) & ((x >= 68.831666666669) | (x >= 70.308333333335) | (x >= 72.523333333334) | (x <= 70.308333333335) | (x <= 71.785000000001) | (x <= 72.523333333334) | (x <= 74.0)) & ((x >= 68.831666666669) | (x >= 70.308333333335) | (x >= 73.261666666667) | (x <= 70.308333333335) | (x <= 71.785000000001) | (x <= 72.523333333334) | (x <= 73.261666666667)) & ((x >= 68.831666666669) | (x >= 70.308333333335) | (x <= 70.308333333335) | (x <= 71.785000000001) | (x <= 72.523333333334) | (x <= 73.261666666667) | (x <= 74.0)) & ((x >= 68.831666666669) | (x >= 71.046666666668) | (x >= 71.785000000001) | (x >= 72.523333333334) | (x >= 73.261666666667) | (x <= 70.308333333335) | (x <= 71.046666666668)) & ((x >= 68.831666666669) | (x >= 71.046666666668) | (x >= 71.785000000001) | (x >= 72.523333333334) | (x <= 70.308333333335) | (x <= 71.046666666668) | (x <= 74.0)) & ((x >= 68.831666666669) | (x >= 71.046666666668) | (x >= 71.785000000001) | (x >= 73.261666666667) | (x <= 70.308333333335) | (x <= 71.046666666668) | (x <= 73.261666666667)) & ((x >= 68.831666666669) | (x >= 71.046666666668) | (x >= 71.785000000001) | (x <= 70.308333333335) | (x <= 71.046666666668) | (x <= 73.261666666667) | (x <= 74.0)) & ((x >= 68.831666666669) | (x >= 71.046666666668) | (x >= 72.523333333334) | (x >= 73.261666666667) | (x <= 70.308333333335) | (x <= 71.046666666668) | (x <= 72.523333333334)) & ((x >= 68.831666666669) | (x >= 71.046666666668) | (x >= 72.523333333334) | (x <= 70.308333333335) | (x <= 71.046666666668) | (x <= 72.523333333334) | (x <= 74.0)) & ((x >= 68.831666666669) | (x >= 71.046666666668) | (x >= 73.261666666667) | (x <= 70.308333333335) | (x <= 71.046666666668) | (x <= 72.523333333334) | (x <= 73.261666666667)) & ((x >= 68.831666666669) | (x >= 71.046666666668) | (x <= 70.308333333335) | (x <= 71.046666666668) | (x <= 72.523333333334) | (x <= 73.261666666667) | (x <= 74.0)) & ((x >= 68.831666666669) | (x >= 71.785000000001) | (x >= 72.523333333334) | (x >= 73.261666666667) | (x <= 70.308333333335) | (x <= 71.046666666668) | (x <= 71.785000000001)) & ((x >= 68.831666666669) | (x >= 71.785000000001) | (x >= 72.523333333334) | (x <= 70.308333333335) | (x <= 71.046666666668) | (x <= 71.785000000001) | (x <= 74.0)) & ((x >= 68.831666666669) | (x >= 71.785000000001) | (x >= 73.261666666667) | (x <= 70.308333333335) | (x <= 71.046666666668) | (x <= 71.785000000001) | (x <= 73.261666666667)) & ((x >= 68.831666666669) | (x >= 71.785000000001) | (x <= 70.308333333335) | (x <= 71.046666666668) | (x <= 71.785000000001) | (x <= 73.261666666667) | (x <= 74.0)) & ((x >= 68.831666666669) | (x >= 72.523333333334) | (x >= 73.261666666667) | (x <= 70.308333333335) | (x <= 71.046666666668) | (x <= 71.785000000001) | (x <= 72.523333333334)) & ((x >= 68.831666666669) | (x >= 72.523333333334) | (x <= 70.308333333335) | (x <= 71.046666666668) | (x <= 71.785000000001) | (x <= 72.523333333334) | (x <= 74.0)) & ((x >= 68.831666666669) | (x >= 73.261666666667) | (x <= 70.308333333335) | (x <= 71.046666666668) | (x <= 71.785000000001) | (x <= 72.523333333334) | (x <= 73.261666666667)) & ((x >= 68.831666666669) | (x <= 70.308333333335) | (x <= 71.046666666668) | (x <= 71.785000000001) | (x <= 72.523333333334) | (x <= 73.261666666667) | (x <= 74.0)) & ((x >= 69.570000000002) | (x >= 70.308333333335) | (x >= 71.046666666668) | (x >= 71.785000000001) | (x >= 72.523333333334) | (x >= 73.261666666667) | (x <= 69.570000000002)) & ((x >= 69.570000000002) | (x >= 70.308333333335) | (x >= 71.046666666668) | (x >= 71.785000000001) | (x >= 72.523333333334) | (x <= 69.570000000002) | (x <= 74.0)) & ((x >= 69.570000000002) | (x >= 70.308333333335) | (x >= 71.046666666668) | (x >= 71.785000000001) | (x >= 73.261666666667) | (x <= 69.570000000002) | (x <= 73.261666666667)) & ((x >= 69.570000000002) | (x >= 70.308333333335) | (x >= 71.046666666668) | (x >= 71.785000000001) | (x <= 69.570000000002) | (x <= 73.261666666667) | (x <= 74.0)) & ((x >= 69.570000000002) | (x >= 70.308333333335) | (x >= 71.046666666668) | (x >= 72.523333333334) | (x >= 73.261666666667) | (x <= 69.570000000002) | (x <= 72.523333333334)) & ((x >= 69.570000000002) | (x >= 70.308333333335) | (x >= 71.046666666668) | (x >= 72.523333333334) | (x <= 69.570000000002) | (x <= 72.523333333334) | (x <= 74.0)) & ((x >= 69.570000000002) | (x >= 70.308333333335) | (x >= 71.046666666668) | (x >= 73.261666666667) | (x <= 69.570000000002) | (x <= 72.523333333334) | (x <= 73.261666666667)) & ((x >= 69.570000000002) | (x >= 70.308333333335) | (x >= 71.046666666668) | (x <= 69.570000000002) | (x <= 72.523333333334) | (x <= 73.261666666667) | (x <= 74.0)) & ((x >= 69.570000000002) | (x >= 70.308333333335) | (x >= 71.785000000001) | (x >= 72.523333333334) | (x >= 73.261666666667) | (x <= 69.570000000002) | (x <= 71.785000000001)) & ((x >= 69.570000000002) | (x >= 70.308333333335) | (x >= 71.785000000001) | (x >= 72.523333333334) | (x <= 69.570000000002) | (x <= 71.785000000001) | (x <= 74.0)) & ((x >= 69.570000000002) | (x >= 70.308333333335) | (x >= 71.785000000001) | (x >= 73.261666666667) | (x <= 69.570000000002) | (x <= 71.785000000001) | (x <= 73.261666666667)) & ((x >= 69.570000000002) | (x >= 70.308333333335) | (x >= 71.785000000001) | (x <= 69.570000000002) | (x <= 71.785000000001) | (x <= 73.261666666667) | (x <= 74.0)) & ((x >= 69.570000000002) | (x >= 70.308333333335) | (x >= 72.523333333334) | (x >= 73.261666666667) | (x <= 69.570000000002) | (x <= 71.785000000001) | (x <= 72.523333333334)) & ((x >= 69.570000000002) | (x >= 70.308333333335) | (x >= 72.523333333334) | (x <= 69.570000000002) | (x <= 71.785000000001) | (x <= 72.523333333334) | (x <= 74.0)) & ((x >= 69.570000000002) | (x >= 70.308333333335) | (x >= 73.261666666667) | (x <= 69.570000000002) | (x <= 71.785000000001) | (x <= 72.523333333334) | (x <= 73.261666666667)) & ((x >= 69.570000000002) | (x >= 70.308333333335) | (x <= 69.570000000002) | (x <= 71.785000000001) | (x <= 72.523333333334) | (x <= 73.261666666667) | (x <= 74.0)) & ((x >= 69.570000000002) | (x >= 71.046666666668) | (x >= 71.785000000001) | (x >= 72.523333333334) | (x >= 73.261666666667) | (x <= 69.570000000002) | (x <= 71.046666666668)) & ((x >= 69.570000000002) | (x >= 71.046666666668) | (x >= 71.785000000001) | (x >= 72.523333333334) | (x <= 69.570000000002) | (x <= 71.046666666668) | (x <= 74.0)) & ((x >= 69.570000000002) | (x >= 71.046666666668) | (x >= 71.785000000001) | (x >= 73.261666666667) | (x <= 69.570000000002) | (x <= 71.046666666668) | (x <= 73.261666666667)) & ((x >= 69.570000000002) | (x >= 71.046666666668) | (x >= 71.785000000001) | (x <= 69.570000000002) | (x <= 71.046666666668) | (x <= 73.261666666667) | (x <= 74.0)) & ((x >= 69.570000000002) | (x >= 71.046666666668) | (x >= 72.523333333334) | (x >= 73.261666666667) | (x <= 69.570000000002) | (x <= 71.046666666668) | (x <= 72.523333333334)) & ((x >= 69.570000000002) | (x >= 71.046666666668) | (x >= 72.523333333334) | (x <= 69.570000000002) | (x <= 71.046666666668) | (x <= 72.523333333334) | (x <= 74.0)) & ((x >= 69.570000000002) | (x >= 71.046666666668) | (x >= 73.261666666667) | (x <= 69.570000000002) | (x <= 71.046666666668) | (x <= 72.523333333334) | (x <= 73.261666666667)) & ((x >= 69.570000000002) | (x >= 71.046666666668) | (x <= 69.570000000002) | (x <= 71.046666666668) | (x <= 72.523333333334) | (x <= 73.261666666667) | (x <= 74.0)) & ((x >= 69.570000000002) | (x >= 71.785000000001) | (x >= 72.523333333334) | (x >= 73.261666666667) | (x <= 69.570000000002) | (x <= 71.046666666668) | (x <= 71.785000000001)) & ((x >= 69.570000000002) | (x >= 71.785000000001) | (x >= 72.523333333334) | (x <= 69.570000000002) | (x <= 71.046666666668) | (x <= 71.785000000001) | (x <= 74.0)) & ((x >= 69.570000000002) | (x >= 71.785000000001) | (x >= 73.261666666667) | (x <= 69.570000000002) | (x <= 71.046666666668) | (x <= 71.785000000001) | (x <= 73.261666666667)) & ((x >= 69.570000000002) | (x >= 71.785000000001) | (x <= 69.570000000002) | (x <= 71.046666666668) | (x <= 71.785000000001) | (x <= 73.261666666667) | (x <= 74.0)) & ((x >= 69.570000000002) | (x >= 72.523333333334) | (x >= 73.261666666667) | (x <= 69.570000000002) | (x <= 71.046666666668) | (x <= 71.785000000001) | (x <= 72.523333333334)) & ((x >= 69.570000000002) | (x >= 72.523333333334) | (x <= 69.570000000002) | (x <= 71.046666666668) | (x <= 71.785000000001) | (x <= 72.523333333334) | (x <= 74.0)) & ((x >= 69.570000000002) | (x >= 73.261666666667) | (x <= 69.570000000002) | (x <= 71.046666666668) | (x <= 71.785000000001) | (x <= 72.523333333334) | (x <= 73.261666666667)) & ((x >= 69.570000000002) | (x <= 69.570000000002) | (x <= 71.046666666668) | (x <= 71.785000000001) | (x <= 72.523333333334) | (x <= 73.261666666667) | (x <= 74.0)) & ((x >= 70.308333333335) | (x >= 71.046666666668) | (x >= 71.785000000001) | (x >= 72.523333333334) | (x >= 73.261666666667) | (x <= 69.570000000002) | (x <= 70.308333333335)) & ((x >= 70.308333333335) | (x >= 71.046666666668) | (x >= 71.785000000001) | (x >= 72.523333333334) | (x <= 69.570000000002) | (x <= 70.308333333335) | (x <= 74.0)) & ((x >= 70.308333333335) | (x >= 71.046666666668) | (x >= 71.785000000001) | (x >= 73.261666666667) | (x <= 69.570000000002) | (x <= 70.308333333335) | (x <= 73.261666666667)) & ((x >= 70.308333333335) | (x >= 71.046666666668) | (x >= 71.785000000001) | (x <= 69.570000000002) | (x <= 70.308333333335) | (x <= 73.261666666667) | (x <= 74.0)) & ((x >= 70.308333333335) | (x >= 71.046666666668) | (x >= 72.523333333334) | (x >= 73.261666666667) | (x <= 69.570000000002) | (x <= 70.308333333335) | (x <= 72.523333333334)) & ((x >= 70.308333333335) | (x >= 71.046666666668) | (x >= 72.523333333334) | (x <= 69.570000000002) | (x <= 70.308333333335) | (x <= 72.523333333334) | (x <= 74.0)) & ((x >= 70.308333333335) | (x >= 71.046666666668) | (x >= 73.261666666667) | (x <= 69.570000000002) | (x <= 70.308333333335) | (x <= 72.523333333334) | (x <= 73.261666666667)) & ((x >= 70.308333333335) | (x >= 71.046666666668) | (x <= 69.570000000002) | (x <= 70.308333333335) | (x <= 72.523333333334) | (x <= 73.261666666667) | (x <= 74.0)) & ((x >= 70.308333333335) | (x >= 71.785000000001) | (x >= 72.523333333334) | (x >= 73.261666666667) | (x <= 69.570000000002) | (x <= 70.308333333335) | (x <= 71.785000000001)) & ((x >= 70.308333333335) | (x >= 71.785000000001) | (x >= 72.523333333334) | (x <= 69.570000000002) | (x <= 70.308333333335) | (x <= 71.785000000001) | (x <= 74.0)) & ((x >= 70.308333333335) | (x >= 71.785000000001) | (x >= 73.261666666667) | (x <= 69.570000000002) | (x <= 70.308333333335) | (x <= 71.785000000001) | (x <= 73.261666666667)) & ((x >= 70.308333333335) | (x >= 71.785000000001) | (x <= 69.570000000002) | (x <= 70.308333333335) | (x <= 71.785000000001) | (x <= 73.261666666667) | (x <= 74.0)) & ((x >= 70.308333333335) | (x >= 72.523333333334) | (x >= 73.261666666667) | (x <= 69.570000000002) | (x <= 70.308333333335) | (x <= 71.785000000001) | (x <= 72.523333333334)) & ((x >= 70.308333333335) | (x >= 72.523333333334) | (x <= 69.570000000002) | (x <= 70.308333333335) | (x <= 71.785000000001) | (x <= 72.523333333334) | (x <= 74.0)) & ((x >= 70.308333333335) | (x >= 73.261666666667) | (x <= 69.570000000002) | (x <= 70.308333333335) | (x <= 71.785000000001) | (x <= 72.523333333334) | (x <= 73.261666666667)) & ((x >= 70.308333333335) | (x <= 69.570000000002) | (x <= 70.308333333335) | (x <= 71.785000000001) | (x <= 72.523333333334) | (x <= 73.261666666667) | (x <= 74.0)) & ((x >= 71.046666666668) | (x >= 71.785000000001) | (x >= 72.523333333334) | (x >= 73.261666666667) | (x <= 69.570000000002) | (x <= 70.308333333335) | (x <= 71.046666666668)) & ((x >= 71.046666666668) | (x >= 71.785000000001) | (x >= 72.523333333334) | (x <= 69.570000000002) | (x <= 70.308333333335) | (x <= 71.046666666668) | (x <= 74.0)) & ((x >= 71.046666666668) | (x >= 71.785000000001) | (x >= 73.261666666667) | (x <= 69.570000000002) | (x <= 70.308333333335) | (x <= 71.046666666668) | (x <= 73.261666666667)) & ((x >= 71.046666666668) | (x >= 71.785000000001) | (x <= 69.570000000002) | (x <= 70.308333333335) | (x <= 71.046666666668) | (x <= 73.261666666667) | (x <= 74.0)) & ((x >= 71.046666666668) | (x >= 72.523333333334) | (x >= 73.261666666667) | (x <= 69.570000000002) | (x <= 70.308333333335) | (x <= 71.046666666668) | (x <= 72.523333333334)) & ((x >= 71.046666666668) | (x >= 72.523333333334) | (x <= 69.570000000002) | (x <= 70.308333333335) | (x <= 71.046666666668) | (x <= 72.523333333334) | (x <= 74.0)) & ((x >= 71.046666666668) | (x >= 73.261666666667) | (x <= 69.570000000002) | (x <= 70.308333333335) | (x <= 71.046666666668) | (x <= 72.523333333334) | (x <= 73.261666666667)) & ((x >= 71.046666666668) | (x <= 69.570000000002) | (x <= 70.308333333335) | (x <= 71.046666666668) | (x <= 72.523333333334) | (x <= 73.261666666667) | (x <= 74.0)) & ((x >= 71.785000000001) | (x >= 72.523333333334) | (x >= 73.261666666667) | (x <= 69.570000000002) | (x <= 70.308333333335) | (x <= 71.046666666668) | (x <= 71.785000000001)) & ((x >= 71.785000000001) | (x >= 72.523333333334) | (x <= 69.570000000002) | (x <= 70.308333333335) | (x <= 71.046666666668) | (x <= 71.785000000001) | (x <= 74.0)) & ((x >= 71.785000000001) | (x >= 73.261666666667) | (x <= 69.570000000002) | (x <= 70.308333333335) | (x <= 71.046666666668) | (x <= 71.785000000001) | (x <= 73.261666666667)) & ((x >= 71.785000000001) | (x <= 69.570000000002) | (x <= 70.308333333335) | (x <= 71.046666666668) | (x <= 71.785000000001) | (x <= 73.261666666667) | (x <= 74.0)) & ((x >= 72.523333333334) | (x >= 73.261666666667) | (x <= 69.570000000002) | (x <= 70.308333333335) | (x <= 71.046666666668) | (x <= 71.785000000001) | (x <= 72.523333333334)) & ((x >= 72.523333333334) | (x <= 69.570000000002) | (x <= 70.308333333335) | (x <= 71.046666666668) | (x <= 71.785000000001) | (x <= 72.523333333334) | (x <= 74.0)) & ((x >= 73.261666666667) | (x <= 69.570000000002) | (x <= 70.308333333335) | (x <= 71.046666666668) | (x <= 71.785000000001) | (x <= 72.523333333334) | (x <= 73.261666666667)) & ((x <= 69.570000000002) | (x <= 70.308333333335) | (x <= 71.046666666668) | (x <= 71.785000000001) | (x <= 72.523333333334) | (x <= 73.261666666667) | (x <= 74.0))))"
      ]
     },
     "metadata": {},
     "output_type": "display_data"
    }
   ],
   "source": [
    "import numpy as np\n",
    "\n",
    "import matplotlib.pyplot as plt\n",
    "\n",
    "# Define the data points\n",
    "DataPointsDomain = df.age\n",
    "DataPointsRange = df._yhat_\n",
    "\n",
    "# Define the symbol and the spline\n",
    "x = sp.symbols('x')\n",
    "s = sp.interpolating_spline(1, x, DataPointsDomain, DataPointsRange)\n",
    "\n",
    "# Generate x values for plotting\n",
    "x_vals = np.linspace(min(DataPointsDomain), max(DataPointsDomain), 100)\n",
    "# Evaluate the spline at the x values\n",
    "y_vals = [s.evalf(subs={x: val}) for val in x_vals]\n",
    "\n",
    "# Plot the data points and the spline\n",
    "plt.scatter(DataPointsDomain, DataPointsRange, color='red', label='Data Points')\n",
    "plt.plot(x_vals, y_vals, label='Interpolating Spline')\n",
    "plt.xlabel('Domain')\n",
    "plt.ylabel('Range')\n",
    "plt.legend()\n",
    "plt.title('Interpolating Spline')\n",
    "plt.show()\n",
    "\n",
    "display(s)"
   ]
  }
 ],
 "metadata": {
  "kernelspec": {
   "display_name": "base",
   "language": "python",
   "name": "python3"
  },
  "language_info": {
   "codemirror_mode": {
    "name": "ipython",
    "version": 3
   },
   "file_extension": ".py",
   "mimetype": "text/x-python",
   "name": "python",
   "nbconvert_exporter": "python",
   "pygments_lexer": "ipython3",
   "version": "3.11.10"
  }
 },
 "nbformat": 4,
 "nbformat_minor": 2
}
