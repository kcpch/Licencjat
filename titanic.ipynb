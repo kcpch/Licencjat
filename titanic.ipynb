{
 "cells": [
  {
   "cell_type": "code",
   "execution_count": null,
   "metadata": {},
   "outputs": [
    {
     "name": "stdout",
     "output_type": "stream",
     "text": [
      "Preparation of a new explainer is initiated\n",
      "\n",
      "  -> data              : 2207 rows 7 cols\n",
      "  -> target variable   : Parameter 'y' was a pandas.Series. Converted to a numpy.ndarray.\n",
      "  -> target variable   : 2207 values\n",
      "  -> model_class       : sklearn.ensemble._forest.RandomForestClassifier (default)\n",
      "  -> label             : Titanic RF Pipeline\n",
      "  -> predict function  : <function yhat_proba_default at 0x000002352B3D0F40> will be used (default)\n",
      "  -> predict function  : Accepts only pandas.DataFrame, numpy.ndarray causes problems.\n",
      "  -> predicted values  : min = 0.164, mean = 0.323, max = 0.894\n",
      "  -> model type        : classification will be used (default)\n",
      "  -> residual function : difference between y and yhat (default)\n",
      "  -> residuals         : min = -0.84, mean = -0.000479, max = 0.834\n",
      "  -> model_info        : package sklearn\n",
      "\n",
      "A new explainer has been created!\n"
     ]
    }
   ],
   "source": [
    "import pandas as pd\n",
    "import dalex as dx\n",
    "from sklearn.ensemble import RandomForestClassifier\n",
    "from sklearn.preprocessing import StandardScaler, OneHotEncoder\n",
    "from sklearn.compose import make_column_transformer\n",
    "from sklearn.pipeline import make_pipeline\n",
    "from sklearn.linear_model import LogisticRegression\n",
    "from sklearn.ensemble import RandomForestClassifier\n",
    "from sklearn.ensemble import GradientBoostingClassifier\n",
    "from sklearn.svm import SVC\n",
    "\n",
    "titanic = dx.datasets.load_titanic()\n",
    "X = titanic.drop(columns='survived')\n",
    "y = titanic.survived\n",
    "\n",
    "\n",
    "preprocess = make_column_transformer(\n",
    "    (StandardScaler(), ['age', 'fare', 'parch', 'sibsp']),\n",
    "    (OneHotEncoder(), ['gender', 'class', 'embarked']))\n",
    "\n",
    "titanic_rf = make_pipeline(\n",
    "    preprocess,\n",
    "    RandomForestClassifier(max_depth = 3, n_estimators = 500))\n",
    "titanic_rf.fit(X, y)\n",
    "\n",
    "titanic_lr = make_pipeline(\n",
    "    preprocess,\n",
    "    LogisticRegression(penalty = 'l2'))\n",
    "titanic_lr.fit(X, y)\n",
    "\n",
    "titanic_rf = make_pipeline(\n",
    "    preprocess,\n",
    "    RandomForestClassifier(max_depth = 3, n_estimators = 500))\n",
    "titanic_rf.fit(X, y)\n",
    "\n",
    "titanic_gbc = make_pipeline(\n",
    "    preprocess,\n",
    "    GradientBoostingClassifier(n_estimators = 100))\n",
    "titanic_gbc.fit(X, y)\n",
    "\n",
    "\n",
    "titanic_svm = make_pipeline(\n",
    "    preprocess,\n",
    "    SVC(probability = True))\n",
    "titanic_svm.fit(X, y)\n",
    "\n",
    "\n",
    "\n",
    "henry = pd.DataFrame({'gender'   : ['male'],\n",
    "                       'age'     : [47],\n",
    "                       'class'   : ['1st'],\n",
    "                       'embarked': ['Cherbourg'],\n",
    "                       'fare'    : [25],\n",
    "                       'sibsp'   : [0],\n",
    "                       'parch'   : [0]},\n",
    "                      index = ['Henry'])\n",
    "\n",
    "\n",
    "titanic_rf_exp = dx.Explainer(titanic_rf, X, y, \n",
    "                    label = \"Titanic RF Pipeline\")"
   ]
  },
  {
   "cell_type": "code",
   "execution_count": 8,
   "metadata": {},
   "outputs": [
    {
     "name": "stderr",
     "output_type": "stream",
     "text": [
      "Calculating ceteris paribus: 100%|██████████| 7/7 [00:00<00:00,  9.26it/s]\n"
     ]
    },
    {
     "data": {
      "text/html": [
       "<div>\n",
       "<style scoped>\n",
       "    .dataframe tbody tr th:only-of-type {\n",
       "        vertical-align: middle;\n",
       "    }\n",
       "\n",
       "    .dataframe tbody tr th {\n",
       "        vertical-align: top;\n",
       "    }\n",
       "\n",
       "    .dataframe thead th {\n",
       "        text-align: right;\n",
       "    }\n",
       "</style>\n",
       "<table border=\"1\" class=\"dataframe\">\n",
       "  <thead>\n",
       "    <tr style=\"text-align: right;\">\n",
       "      <th></th>\n",
       "      <th>gender</th>\n",
       "      <th>age</th>\n",
       "      <th>class</th>\n",
       "      <th>embarked</th>\n",
       "      <th>fare</th>\n",
       "      <th>sibsp</th>\n",
       "      <th>parch</th>\n",
       "      <th>_original_</th>\n",
       "      <th>_yhat_</th>\n",
       "      <th>_vname_</th>\n",
       "      <th>_ids_</th>\n",
       "      <th>_label_</th>\n",
       "    </tr>\n",
       "  </thead>\n",
       "  <tbody>\n",
       "    <tr>\n",
       "      <th>Henry</th>\n",
       "      <td>male</td>\n",
       "      <td>47.000000</td>\n",
       "      <td>1st</td>\n",
       "      <td>Cherbourg</td>\n",
       "      <td>25.0</td>\n",
       "      <td>0.0</td>\n",
       "      <td>0.00</td>\n",
       "      <td>male</td>\n",
       "      <td>0.301766</td>\n",
       "      <td>gender</td>\n",
       "      <td>Henry</td>\n",
       "      <td>Titanic RF Pipeline</td>\n",
       "    </tr>\n",
       "    <tr>\n",
       "      <th>Henry</th>\n",
       "      <td>female</td>\n",
       "      <td>47.000000</td>\n",
       "      <td>1st</td>\n",
       "      <td>Cherbourg</td>\n",
       "      <td>25.0</td>\n",
       "      <td>0.0</td>\n",
       "      <td>0.00</td>\n",
       "      <td>male</td>\n",
       "      <td>0.821350</td>\n",
       "      <td>gender</td>\n",
       "      <td>Henry</td>\n",
       "      <td>Titanic RF Pipeline</td>\n",
       "    </tr>\n",
       "    <tr>\n",
       "      <th>Henry</th>\n",
       "      <td>male</td>\n",
       "      <td>0.166667</td>\n",
       "      <td>1st</td>\n",
       "      <td>Cherbourg</td>\n",
       "      <td>25.0</td>\n",
       "      <td>0.0</td>\n",
       "      <td>0.00</td>\n",
       "      <td>47</td>\n",
       "      <td>0.433777</td>\n",
       "      <td>age</td>\n",
       "      <td>Henry</td>\n",
       "      <td>Titanic RF Pipeline</td>\n",
       "    </tr>\n",
       "    <tr>\n",
       "      <th>Henry</th>\n",
       "      <td>male</td>\n",
       "      <td>0.905000</td>\n",
       "      <td>1st</td>\n",
       "      <td>Cherbourg</td>\n",
       "      <td>25.0</td>\n",
       "      <td>0.0</td>\n",
       "      <td>0.00</td>\n",
       "      <td>47</td>\n",
       "      <td>0.436634</td>\n",
       "      <td>age</td>\n",
       "      <td>Henry</td>\n",
       "      <td>Titanic RF Pipeline</td>\n",
       "    </tr>\n",
       "    <tr>\n",
       "      <th>Henry</th>\n",
       "      <td>male</td>\n",
       "      <td>1.643333</td>\n",
       "      <td>1st</td>\n",
       "      <td>Cherbourg</td>\n",
       "      <td>25.0</td>\n",
       "      <td>0.0</td>\n",
       "      <td>0.00</td>\n",
       "      <td>47</td>\n",
       "      <td>0.432184</td>\n",
       "      <td>age</td>\n",
       "      <td>Henry</td>\n",
       "      <td>Titanic RF Pipeline</td>\n",
       "    </tr>\n",
       "    <tr>\n",
       "      <th>...</th>\n",
       "      <td>...</td>\n",
       "      <td>...</td>\n",
       "      <td>...</td>\n",
       "      <td>...</td>\n",
       "      <td>...</td>\n",
       "      <td>...</td>\n",
       "      <td>...</td>\n",
       "      <td>...</td>\n",
       "      <td>...</td>\n",
       "      <td>...</td>\n",
       "      <td>...</td>\n",
       "      <td>...</td>\n",
       "    </tr>\n",
       "    <tr>\n",
       "      <th>Henry</th>\n",
       "      <td>male</td>\n",
       "      <td>47.000000</td>\n",
       "      <td>1st</td>\n",
       "      <td>Cherbourg</td>\n",
       "      <td>25.0</td>\n",
       "      <td>0.0</td>\n",
       "      <td>8.64</td>\n",
       "      <td>0</td>\n",
       "      <td>0.350535</td>\n",
       "      <td>parch</td>\n",
       "      <td>Henry</td>\n",
       "      <td>Titanic RF Pipeline</td>\n",
       "    </tr>\n",
       "    <tr>\n",
       "      <th>Henry</th>\n",
       "      <td>male</td>\n",
       "      <td>47.000000</td>\n",
       "      <td>1st</td>\n",
       "      <td>Cherbourg</td>\n",
       "      <td>25.0</td>\n",
       "      <td>0.0</td>\n",
       "      <td>8.73</td>\n",
       "      <td>0</td>\n",
       "      <td>0.350535</td>\n",
       "      <td>parch</td>\n",
       "      <td>Henry</td>\n",
       "      <td>Titanic RF Pipeline</td>\n",
       "    </tr>\n",
       "    <tr>\n",
       "      <th>Henry</th>\n",
       "      <td>male</td>\n",
       "      <td>47.000000</td>\n",
       "      <td>1st</td>\n",
       "      <td>Cherbourg</td>\n",
       "      <td>25.0</td>\n",
       "      <td>0.0</td>\n",
       "      <td>8.82</td>\n",
       "      <td>0</td>\n",
       "      <td>0.350535</td>\n",
       "      <td>parch</td>\n",
       "      <td>Henry</td>\n",
       "      <td>Titanic RF Pipeline</td>\n",
       "    </tr>\n",
       "    <tr>\n",
       "      <th>Henry</th>\n",
       "      <td>male</td>\n",
       "      <td>47.000000</td>\n",
       "      <td>1st</td>\n",
       "      <td>Cherbourg</td>\n",
       "      <td>25.0</td>\n",
       "      <td>0.0</td>\n",
       "      <td>8.91</td>\n",
       "      <td>0</td>\n",
       "      <td>0.350535</td>\n",
       "      <td>parch</td>\n",
       "      <td>Henry</td>\n",
       "      <td>Titanic RF Pipeline</td>\n",
       "    </tr>\n",
       "    <tr>\n",
       "      <th>Henry</th>\n",
       "      <td>male</td>\n",
       "      <td>47.000000</td>\n",
       "      <td>1st</td>\n",
       "      <td>Cherbourg</td>\n",
       "      <td>25.0</td>\n",
       "      <td>0.0</td>\n",
       "      <td>9.00</td>\n",
       "      <td>0</td>\n",
       "      <td>0.350535</td>\n",
       "      <td>parch</td>\n",
       "      <td>Henry</td>\n",
       "      <td>Titanic RF Pipeline</td>\n",
       "    </tr>\n",
       "  </tbody>\n",
       "</table>\n",
       "<p>419 rows × 12 columns</p>\n",
       "</div>"
      ],
      "text/plain": [
       "       gender        age class   embarked  fare  sibsp  parch _original_  \\\n",
       "Henry    male  47.000000   1st  Cherbourg  25.0    0.0   0.00       male   \n",
       "Henry  female  47.000000   1st  Cherbourg  25.0    0.0   0.00       male   \n",
       "Henry    male   0.166667   1st  Cherbourg  25.0    0.0   0.00         47   \n",
       "Henry    male   0.905000   1st  Cherbourg  25.0    0.0   0.00         47   \n",
       "Henry    male   1.643333   1st  Cherbourg  25.0    0.0   0.00         47   \n",
       "...       ...        ...   ...        ...   ...    ...    ...        ...   \n",
       "Henry    male  47.000000   1st  Cherbourg  25.0    0.0   8.64          0   \n",
       "Henry    male  47.000000   1st  Cherbourg  25.0    0.0   8.73          0   \n",
       "Henry    male  47.000000   1st  Cherbourg  25.0    0.0   8.82          0   \n",
       "Henry    male  47.000000   1st  Cherbourg  25.0    0.0   8.91          0   \n",
       "Henry    male  47.000000   1st  Cherbourg  25.0    0.0   9.00          0   \n",
       "\n",
       "         _yhat_ _vname_  _ids_              _label_  \n",
       "Henry  0.301766  gender  Henry  Titanic RF Pipeline  \n",
       "Henry  0.821350  gender  Henry  Titanic RF Pipeline  \n",
       "Henry  0.433777     age  Henry  Titanic RF Pipeline  \n",
       "Henry  0.436634     age  Henry  Titanic RF Pipeline  \n",
       "Henry  0.432184     age  Henry  Titanic RF Pipeline  \n",
       "...         ...     ...    ...                  ...  \n",
       "Henry  0.350535   parch  Henry  Titanic RF Pipeline  \n",
       "Henry  0.350535   parch  Henry  Titanic RF Pipeline  \n",
       "Henry  0.350535   parch  Henry  Titanic RF Pipeline  \n",
       "Henry  0.350535   parch  Henry  Titanic RF Pipeline  \n",
       "Henry  0.350535   parch  Henry  Titanic RF Pipeline  \n",
       "\n",
       "[419 rows x 12 columns]"
      ]
     },
     "execution_count": 8,
     "metadata": {},
     "output_type": "execute_result"
    }
   ],
   "source": [
    "cp_henry = titanic_rf_exp.predict_profile(henry)\n",
    "cp_henry.result"
   ]
  },
  {
   "cell_type": "code",
   "execution_count": 9,
   "metadata": {},
   "outputs": [
    {
     "data": {
      "application/vnd.plotly.v1+json": {
       "config": {
        "displaylogo": false,
        "modeBarButtonsToRemove": [
         "sendDataToCloud",
         "lasso2d",
         "autoScale2d",
         "select2d",
         "zoom2d",
         "pan2d",
         "zoomIn2d",
         "zoomOut2d",
         "resetScale2d",
         "toggleSpikelines",
         "hoverCompareCartesian",
         "hoverClosestCartesian"
        ],
        "plotlyServerURL": "https://plot.ly",
        "staticPlot": false,
        "toImageButtonOptions": {
         "height": null,
         "width": null
        }
       },
       "data": [
        {
         "customdata": [
          [
           "</br>id: Henry</br>prediction: 0.434</br>age: 0.1666666667</br></br>gender: male</br>class: 1st</br>embarked: Cherbourg</br>fare: 25.0</br>sibsp: 0.0</br>parch: 0.0</br>_original_yhat_: 0.30176598983074654</br>"
          ],
          [
           "</br>id: Henry</br>prediction: 0.437</br>age: 0.905000000033</br></br>gender: male</br>class: 1st</br>embarked: Cherbourg</br>fare: 25.0</br>sibsp: 0.0</br>parch: 0.0</br>_original_yhat_: 0.30176598983074654</br>"
          ],
          [
           "</br>id: Henry</br>prediction: 0.432</br>age: 1.643333333366</br></br>gender: male</br>class: 1st</br>embarked: Cherbourg</br>fare: 25.0</br>sibsp: 0.0</br>parch: 0.0</br>_original_yhat_: 0.30176598983074654</br>"
          ],
          [
           "</br>id: Henry</br>prediction: 0.432</br>age: 2.3816666666989996</br></br>gender: male</br>class: 1st</br>embarked: Cherbourg</br>fare: 25.0</br>sibsp: 0.0</br>parch: 0.0</br>_original_yhat_: 0.30176598983074654</br>"
          ],
          [
           "</br>id: Henry</br>prediction: 0.432</br>age: 3.120000000032</br></br>gender: male</br>class: 1st</br>embarked: Cherbourg</br>fare: 25.0</br>sibsp: 0.0</br>parch: 0.0</br>_original_yhat_: 0.30176598983074654</br>"
          ],
          [
           "</br>id: Henry</br>prediction: 0.425</br>age: 3.858333333365</br></br>gender: male</br>class: 1st</br>embarked: Cherbourg</br>fare: 25.0</br>sibsp: 0.0</br>parch: 0.0</br>_original_yhat_: 0.30176598983074654</br>"
          ],
          [
           "</br>id: Henry</br>prediction: 0.384</br>age: 4.596666666698</br></br>gender: male</br>class: 1st</br>embarked: Cherbourg</br>fare: 25.0</br>sibsp: 0.0</br>parch: 0.0</br>_original_yhat_: 0.30176598983074654</br>"
          ],
          [
           "</br>id: Henry</br>prediction: 0.384</br>age: 5.335000000031</br></br>gender: male</br>class: 1st</br>embarked: Cherbourg</br>fare: 25.0</br>sibsp: 0.0</br>parch: 0.0</br>_original_yhat_: 0.30176598983074654</br>"
          ],
          [
           "</br>id: Henry</br>prediction: 0.376</br>age: 6.073333333364</br></br>gender: male</br>class: 1st</br>embarked: Cherbourg</br>fare: 25.0</br>sibsp: 0.0</br>parch: 0.0</br>_original_yhat_: 0.30176598983074654</br>"
          ],
          [
           "</br>id: Henry</br>prediction: 0.375</br>age: 6.8116666666970005</br></br>gender: male</br>class: 1st</br>embarked: Cherbourg</br>fare: 25.0</br>sibsp: 0.0</br>parch: 0.0</br>_original_yhat_: 0.30176598983074654</br>"
          ],
          [
           "</br>id: Henry</br>prediction: 0.374</br>age: 7.550000000030001</br></br>gender: male</br>class: 1st</br>embarked: Cherbourg</br>fare: 25.0</br>sibsp: 0.0</br>parch: 0.0</br>_original_yhat_: 0.30176598983074654</br>"
          ],
          [
           "</br>id: Henry</br>prediction: 0.374</br>age: 8.288333333363</br></br>gender: male</br>class: 1st</br>embarked: Cherbourg</br>fare: 25.0</br>sibsp: 0.0</br>parch: 0.0</br>_original_yhat_: 0.30176598983074654</br>"
          ],
          [
           "</br>id: Henry</br>prediction: 0.367</br>age: 9.026666666695998</br></br>gender: male</br>class: 1st</br>embarked: Cherbourg</br>fare: 25.0</br>sibsp: 0.0</br>parch: 0.0</br>_original_yhat_: 0.30176598983074654</br>"
          ],
          [
           "</br>id: Henry</br>prediction: 0.348</br>age: 9.765000000029</br></br>gender: male</br>class: 1st</br>embarked: Cherbourg</br>fare: 25.0</br>sibsp: 0.0</br>parch: 0.0</br>_original_yhat_: 0.30176598983074654</br>"
          ],
          [
           "</br>id: Henry</br>prediction: 0.348</br>age: 10.503333333361999</br></br>gender: male</br>class: 1st</br>embarked: Cherbourg</br>fare: 25.0</br>sibsp: 0.0</br>parch: 0.0</br>_original_yhat_: 0.30176598983074654</br>"
          ],
          [
           "</br>id: Henry</br>prediction: 0.348</br>age: 11.241666666695</br></br>gender: male</br>class: 1st</br>embarked: Cherbourg</br>fare: 25.0</br>sibsp: 0.0</br>parch: 0.0</br>_original_yhat_: 0.30176598983074654</br>"
          ],
          [
           "</br>id: Henry</br>prediction: 0.348</br>age: 11.980000000028</br></br>gender: male</br>class: 1st</br>embarked: Cherbourg</br>fare: 25.0</br>sibsp: 0.0</br>parch: 0.0</br>_original_yhat_: 0.30176598983074654</br>"
          ],
          [
           "</br>id: Henry</br>prediction: 0.345</br>age: 12.718333333360999</br></br>gender: male</br>class: 1st</br>embarked: Cherbourg</br>fare: 25.0</br>sibsp: 0.0</br>parch: 0.0</br>_original_yhat_: 0.30176598983074654</br>"
          ],
          [
           "</br>id: Henry</br>prediction: 0.343</br>age: 13.456666666694</br></br>gender: male</br>class: 1st</br>embarked: Cherbourg</br>fare: 25.0</br>sibsp: 0.0</br>parch: 0.0</br>_original_yhat_: 0.30176598983074654</br>"
          ],
          [
           "</br>id: Henry</br>prediction: 0.328</br>age: 14.195000000027</br></br>gender: male</br>class: 1st</br>embarked: Cherbourg</br>fare: 25.0</br>sibsp: 0.0</br>parch: 0.0</br>_original_yhat_: 0.30176598983074654</br>"
          ],
          [
           "</br>id: Henry</br>prediction: 0.319</br>age: 14.93333333336</br></br>gender: male</br>class: 1st</br>embarked: Cherbourg</br>fare: 25.0</br>sibsp: 0.0</br>parch: 0.0</br>_original_yhat_: 0.30176598983074654</br>"
          ],
          [
           "</br>id: Henry</br>prediction: 0.315</br>age: 15.671666666693</br></br>gender: male</br>class: 1st</br>embarked: Cherbourg</br>fare: 25.0</br>sibsp: 0.0</br>parch: 0.0</br>_original_yhat_: 0.30176598983074654</br>"
          ],
          [
           "</br>id: Henry</br>prediction: 0.315</br>age: 16.410000000026</br></br>gender: male</br>class: 1st</br>embarked: Cherbourg</br>fare: 25.0</br>sibsp: 0.0</br>parch: 0.0</br>_original_yhat_: 0.30176598983074654</br>"
          ],
          [
           "</br>id: Henry</br>prediction: 0.314</br>age: 17.148333333359</br></br>gender: male</br>class: 1st</br>embarked: Cherbourg</br>fare: 25.0</br>sibsp: 0.0</br>parch: 0.0</br>_original_yhat_: 0.30176598983074654</br>"
          ],
          [
           "</br>id: Henry</br>prediction: 0.314</br>age: 17.886666666691998</br></br>gender: male</br>class: 1st</br>embarked: Cherbourg</br>fare: 25.0</br>sibsp: 0.0</br>parch: 0.0</br>_original_yhat_: 0.30176598983074654</br>"
          ],
          [
           "</br>id: Henry</br>prediction: 0.314</br>age: 18.625000000025</br></br>gender: male</br>class: 1st</br>embarked: Cherbourg</br>fare: 25.0</br>sibsp: 0.0</br>parch: 0.0</br>_original_yhat_: 0.30176598983074654</br>"
          ],
          [
           "</br>id: Henry</br>prediction: 0.314</br>age: 19.363333333358</br></br>gender: male</br>class: 1st</br>embarked: Cherbourg</br>fare: 25.0</br>sibsp: 0.0</br>parch: 0.0</br>_original_yhat_: 0.30176598983074654</br>"
          ],
          [
           "</br>id: Henry</br>prediction: 0.314</br>age: 20.101666666691</br></br>gender: male</br>class: 1st</br>embarked: Cherbourg</br>fare: 25.0</br>sibsp: 0.0</br>parch: 0.0</br>_original_yhat_: 0.30176598983074654</br>"
          ],
          [
           "</br>id: Henry</br>prediction: 0.313</br>age: 20.840000000024</br></br>gender: male</br>class: 1st</br>embarked: Cherbourg</br>fare: 25.0</br>sibsp: 0.0</br>parch: 0.0</br>_original_yhat_: 0.30176598983074654</br>"
          ],
          [
           "</br>id: Henry</br>prediction: 0.313</br>age: 21.578333333356998</br></br>gender: male</br>class: 1st</br>embarked: Cherbourg</br>fare: 25.0</br>sibsp: 0.0</br>parch: 0.0</br>_original_yhat_: 0.30176598983074654</br>"
          ],
          [
           "</br>id: Henry</br>prediction: 0.313</br>age: 22.31666666669</br></br>gender: male</br>class: 1st</br>embarked: Cherbourg</br>fare: 25.0</br>sibsp: 0.0</br>parch: 0.0</br>_original_yhat_: 0.30176598983074654</br>"
          ],
          [
           "</br>id: Henry</br>prediction: 0.313</br>age: 23.055000000023</br></br>gender: male</br>class: 1st</br>embarked: Cherbourg</br>fare: 25.0</br>sibsp: 0.0</br>parch: 0.0</br>_original_yhat_: 0.30176598983074654</br>"
          ],
          [
           "</br>id: Henry</br>prediction: 0.312</br>age: 23.793333333356</br></br>gender: male</br>class: 1st</br>embarked: Cherbourg</br>fare: 25.0</br>sibsp: 0.0</br>parch: 0.0</br>_original_yhat_: 0.30176598983074654</br>"
          ],
          [
           "</br>id: Henry</br>prediction: 0.312</br>age: 24.531666666689</br></br>gender: male</br>class: 1st</br>embarked: Cherbourg</br>fare: 25.0</br>sibsp: 0.0</br>parch: 0.0</br>_original_yhat_: 0.30176598983074654</br>"
          ],
          [
           "</br>id: Henry</br>prediction: 0.312</br>age: 25.270000000021998</br></br>gender: male</br>class: 1st</br>embarked: Cherbourg</br>fare: 25.0</br>sibsp: 0.0</br>parch: 0.0</br>_original_yhat_: 0.30176598983074654</br>"
          ],
          [
           "</br>id: Henry</br>prediction: 0.312</br>age: 26.008333333355</br></br>gender: male</br>class: 1st</br>embarked: Cherbourg</br>fare: 25.0</br>sibsp: 0.0</br>parch: 0.0</br>_original_yhat_: 0.30176598983074654</br>"
          ],
          [
           "</br>id: Henry</br>prediction: 0.312</br>age: 26.746666666688</br></br>gender: male</br>class: 1st</br>embarked: Cherbourg</br>fare: 25.0</br>sibsp: 0.0</br>parch: 0.0</br>_original_yhat_: 0.30176598983074654</br>"
          ],
          [
           "</br>id: Henry</br>prediction: 0.312</br>age: 27.485000000021</br></br>gender: male</br>class: 1st</br>embarked: Cherbourg</br>fare: 25.0</br>sibsp: 0.0</br>parch: 0.0</br>_original_yhat_: 0.30176598983074654</br>"
          ],
          [
           "</br>id: Henry</br>prediction: 0.312</br>age: 28.223333333354</br></br>gender: male</br>class: 1st</br>embarked: Cherbourg</br>fare: 25.0</br>sibsp: 0.0</br>parch: 0.0</br>_original_yhat_: 0.30176598983074654</br>"
          ],
          [
           "</br>id: Henry</br>prediction: 0.312</br>age: 28.961666666686998</br></br>gender: male</br>class: 1st</br>embarked: Cherbourg</br>fare: 25.0</br>sibsp: 0.0</br>parch: 0.0</br>_original_yhat_: 0.30176598983074654</br>"
          ],
          [
           "</br>id: Henry</br>prediction: 0.312</br>age: 29.70000000002</br></br>gender: male</br>class: 1st</br>embarked: Cherbourg</br>fare: 25.0</br>sibsp: 0.0</br>parch: 0.0</br>_original_yhat_: 0.30176598983074654</br>"
          ],
          [
           "</br>id: Henry</br>prediction: 0.312</br>age: 30.438333333353</br></br>gender: male</br>class: 1st</br>embarked: Cherbourg</br>fare: 25.0</br>sibsp: 0.0</br>parch: 0.0</br>_original_yhat_: 0.30176598983074654</br>"
          ],
          [
           "</br>id: Henry</br>prediction: 0.312</br>age: 31.176666666686</br></br>gender: male</br>class: 1st</br>embarked: Cherbourg</br>fare: 25.0</br>sibsp: 0.0</br>parch: 0.0</br>_original_yhat_: 0.30176598983074654</br>"
          ],
          [
           "</br>id: Henry</br>prediction: 0.312</br>age: 31.915000000019</br></br>gender: male</br>class: 1st</br>embarked: Cherbourg</br>fare: 25.0</br>sibsp: 0.0</br>parch: 0.0</br>_original_yhat_: 0.30176598983074654</br>"
          ],
          [
           "</br>id: Henry</br>prediction: 0.311</br>age: 32.653333333352</br></br>gender: male</br>class: 1st</br>embarked: Cherbourg</br>fare: 25.0</br>sibsp: 0.0</br>parch: 0.0</br>_original_yhat_: 0.30176598983074654</br>"
          ],
          [
           "</br>id: Henry</br>prediction: 0.311</br>age: 33.391666666685005</br></br>gender: male</br>class: 1st</br>embarked: Cherbourg</br>fare: 25.0</br>sibsp: 0.0</br>parch: 0.0</br>_original_yhat_: 0.30176598983074654</br>"
          ],
          [
           "</br>id: Henry</br>prediction: 0.31</br>age: 34.130000000018</br></br>gender: male</br>class: 1st</br>embarked: Cherbourg</br>fare: 25.0</br>sibsp: 0.0</br>parch: 0.0</br>_original_yhat_: 0.30176598983074654</br>"
          ],
          [
           "</br>id: Henry</br>prediction: 0.31</br>age: 34.868333333351</br></br>gender: male</br>class: 1st</br>embarked: Cherbourg</br>fare: 25.0</br>sibsp: 0.0</br>parch: 0.0</br>_original_yhat_: 0.30176598983074654</br>"
          ],
          [
           "</br>id: Henry</br>prediction: 0.307</br>age: 35.606666666684</br></br>gender: male</br>class: 1st</br>embarked: Cherbourg</br>fare: 25.0</br>sibsp: 0.0</br>parch: 0.0</br>_original_yhat_: 0.30176598983074654</br>"
          ],
          [
           "</br>id: Henry</br>prediction: 0.307</br>age: 36.345000000017</br></br>gender: male</br>class: 1st</br>embarked: Cherbourg</br>fare: 25.0</br>sibsp: 0.0</br>parch: 0.0</br>_original_yhat_: 0.30176598983074654</br>"
          ],
          [
           "</br>id: Henry</br>prediction: 0.305</br>age: 37.083333333350005</br></br>gender: male</br>class: 1st</br>embarked: Cherbourg</br>fare: 25.0</br>sibsp: 0.0</br>parch: 0.0</br>_original_yhat_: 0.30176598983074654</br>"
          ],
          [
           "</br>id: Henry</br>prediction: 0.305</br>age: 37.821666666683</br></br>gender: male</br>class: 1st</br>embarked: Cherbourg</br>fare: 25.0</br>sibsp: 0.0</br>parch: 0.0</br>_original_yhat_: 0.30176598983074654</br>"
          ],
          [
           "</br>id: Henry</br>prediction: 0.304</br>age: 38.560000000016004</br></br>gender: male</br>class: 1st</br>embarked: Cherbourg</br>fare: 25.0</br>sibsp: 0.0</br>parch: 0.0</br>_original_yhat_: 0.30176598983074654</br>"
          ],
          [
           "</br>id: Henry</br>prediction: 0.304</br>age: 39.298333333349</br></br>gender: male</br>class: 1st</br>embarked: Cherbourg</br>fare: 25.0</br>sibsp: 0.0</br>parch: 0.0</br>_original_yhat_: 0.30176598983074654</br>"
          ],
          [
           "</br>id: Henry</br>prediction: 0.304</br>age: 40.036666666682</br></br>gender: male</br>class: 1st</br>embarked: Cherbourg</br>fare: 25.0</br>sibsp: 0.0</br>parch: 0.0</br>_original_yhat_: 0.30176598983074654</br>"
          ],
          [
           "</br>id: Henry</br>prediction: 0.303</br>age: 40.775000000015005</br></br>gender: male</br>class: 1st</br>embarked: Cherbourg</br>fare: 25.0</br>sibsp: 0.0</br>parch: 0.0</br>_original_yhat_: 0.30176598983074654</br>"
          ],
          [
           "</br>id: Henry</br>prediction: 0.303</br>age: 41.513333333348</br></br>gender: male</br>class: 1st</br>embarked: Cherbourg</br>fare: 25.0</br>sibsp: 0.0</br>parch: 0.0</br>_original_yhat_: 0.30176598983074654</br>"
          ],
          [
           "</br>id: Henry</br>prediction: 0.303</br>age: 42.251666666681004</br></br>gender: male</br>class: 1st</br>embarked: Cherbourg</br>fare: 25.0</br>sibsp: 0.0</br>parch: 0.0</br>_original_yhat_: 0.30176598983074654</br>"
          ],
          [
           "</br>id: Henry</br>prediction: 0.303</br>age: 42.990000000014</br></br>gender: male</br>class: 1st</br>embarked: Cherbourg</br>fare: 25.0</br>sibsp: 0.0</br>parch: 0.0</br>_original_yhat_: 0.30176598983074654</br>"
          ],
          [
           "</br>id: Henry</br>prediction: 0.303</br>age: 43.728333333347</br></br>gender: male</br>class: 1st</br>embarked: Cherbourg</br>fare: 25.0</br>sibsp: 0.0</br>parch: 0.0</br>_original_yhat_: 0.30176598983074654</br>"
          ],
          [
           "</br>id: Henry</br>prediction: 0.303</br>age: 44.466666666680005</br></br>gender: male</br>class: 1st</br>embarked: Cherbourg</br>fare: 25.0</br>sibsp: 0.0</br>parch: 0.0</br>_original_yhat_: 0.30176598983074654</br>"
          ],
          [
           "</br>id: Henry</br>prediction: 0.303</br>age: 45.205000000013</br></br>gender: male</br>class: 1st</br>embarked: Cherbourg</br>fare: 25.0</br>sibsp: 0.0</br>parch: 0.0</br>_original_yhat_: 0.30176598983074654</br>"
          ],
          [
           "</br>id: Henry</br>prediction: 0.302</br>age: 45.943333333346004</br></br>gender: male</br>class: 1st</br>embarked: Cherbourg</br>fare: 25.0</br>sibsp: 0.0</br>parch: 0.0</br>_original_yhat_: 0.30176598983074654</br>"
          ],
          [
           "</br>id: Henry</br>prediction: 0.302</br>age: 46.681666666679</br></br>gender: male</br>class: 1st</br>embarked: Cherbourg</br>fare: 25.0</br>sibsp: 0.0</br>parch: 0.0</br>_original_yhat_: 0.30176598983074654</br>"
          ],
          [
           "</br>id: Henry</br>prediction: 0.302</br>age: 47.0</br></br>gender: male</br>class: 1st</br>embarked: Cherbourg</br>fare: 25.0</br>sibsp: 0.0</br>parch: 0.0</br>_original_yhat_: 0.30176598983074654</br>"
          ],
          [
           "</br>id: Henry</br>prediction: 0.302</br>age: 47.420000000012</br></br>gender: male</br>class: 1st</br>embarked: Cherbourg</br>fare: 25.0</br>sibsp: 0.0</br>parch: 0.0</br>_original_yhat_: 0.30176598983074654</br>"
          ],
          [
           "</br>id: Henry</br>prediction: 0.302</br>age: 48.158333333345006</br></br>gender: male</br>class: 1st</br>embarked: Cherbourg</br>fare: 25.0</br>sibsp: 0.0</br>parch: 0.0</br>_original_yhat_: 0.30176598983074654</br>"
          ],
          [
           "</br>id: Henry</br>prediction: 0.302</br>age: 48.896666666678</br></br>gender: male</br>class: 1st</br>embarked: Cherbourg</br>fare: 25.0</br>sibsp: 0.0</br>parch: 0.0</br>_original_yhat_: 0.30176598983074654</br>"
          ],
          [
           "</br>id: Henry</br>prediction: 0.3</br>age: 49.635000000011004</br></br>gender: male</br>class: 1st</br>embarked: Cherbourg</br>fare: 25.0</br>sibsp: 0.0</br>parch: 0.0</br>_original_yhat_: 0.30176598983074654</br>"
          ],
          [
           "</br>id: Henry</br>prediction: 0.3</br>age: 50.373333333344</br></br>gender: male</br>class: 1st</br>embarked: Cherbourg</br>fare: 25.0</br>sibsp: 0.0</br>parch: 0.0</br>_original_yhat_: 0.30176598983074654</br>"
          ],
          [
           "</br>id: Henry</br>prediction: 0.3</br>age: 51.111666666677</br></br>gender: male</br>class: 1st</br>embarked: Cherbourg</br>fare: 25.0</br>sibsp: 0.0</br>parch: 0.0</br>_original_yhat_: 0.30176598983074654</br>"
          ],
          [
           "</br>id: Henry</br>prediction: 0.3</br>age: 51.850000000010006</br></br>gender: male</br>class: 1st</br>embarked: Cherbourg</br>fare: 25.0</br>sibsp: 0.0</br>parch: 0.0</br>_original_yhat_: 0.30176598983074654</br>"
          ],
          [
           "</br>id: Henry</br>prediction: 0.3</br>age: 52.588333333343</br></br>gender: male</br>class: 1st</br>embarked: Cherbourg</br>fare: 25.0</br>sibsp: 0.0</br>parch: 0.0</br>_original_yhat_: 0.30176598983074654</br>"
          ],
          [
           "</br>id: Henry</br>prediction: 0.3</br>age: 53.326666666676005</br></br>gender: male</br>class: 1st</br>embarked: Cherbourg</br>fare: 25.0</br>sibsp: 0.0</br>parch: 0.0</br>_original_yhat_: 0.30176598983074654</br>"
          ],
          [
           "</br>id: Henry</br>prediction: 0.299</br>age: 54.065000000009</br></br>gender: male</br>class: 1st</br>embarked: Cherbourg</br>fare: 25.0</br>sibsp: 0.0</br>parch: 0.0</br>_original_yhat_: 0.30176598983074654</br>"
          ],
          [
           "</br>id: Henry</br>prediction: 0.294</br>age: 54.803333333342</br></br>gender: male</br>class: 1st</br>embarked: Cherbourg</br>fare: 25.0</br>sibsp: 0.0</br>parch: 0.0</br>_original_yhat_: 0.30176598983074654</br>"
          ],
          [
           "</br>id: Henry</br>prediction: 0.293</br>age: 55.541666666675006</br></br>gender: male</br>class: 1st</br>embarked: Cherbourg</br>fare: 25.0</br>sibsp: 0.0</br>parch: 0.0</br>_original_yhat_: 0.30176598983074654</br>"
          ],
          [
           "</br>id: Henry</br>prediction: 0.293</br>age: 56.280000000008</br></br>gender: male</br>class: 1st</br>embarked: Cherbourg</br>fare: 25.0</br>sibsp: 0.0</br>parch: 0.0</br>_original_yhat_: 0.30176598983074654</br>"
          ],
          [
           "</br>id: Henry</br>prediction: 0.29</br>age: 57.018333333341005</br></br>gender: male</br>class: 1st</br>embarked: Cherbourg</br>fare: 25.0</br>sibsp: 0.0</br>parch: 0.0</br>_original_yhat_: 0.30176598983074654</br>"
          ],
          [
           "</br>id: Henry</br>prediction: 0.29</br>age: 57.756666666674</br></br>gender: male</br>class: 1st</br>embarked: Cherbourg</br>fare: 25.0</br>sibsp: 0.0</br>parch: 0.0</br>_original_yhat_: 0.30176598983074654</br>"
          ],
          [
           "</br>id: Henry</br>prediction: 0.29</br>age: 58.495000000007</br></br>gender: male</br>class: 1st</br>embarked: Cherbourg</br>fare: 25.0</br>sibsp: 0.0</br>parch: 0.0</br>_original_yhat_: 0.30176598983074654</br>"
          ],
          [
           "</br>id: Henry</br>prediction: 0.29</br>age: 59.233333333340006</br></br>gender: male</br>class: 1st</br>embarked: Cherbourg</br>fare: 25.0</br>sibsp: 0.0</br>parch: 0.0</br>_original_yhat_: 0.30176598983074654</br>"
          ],
          [
           "</br>id: Henry</br>prediction: 0.29</br>age: 59.971666666673</br></br>gender: male</br>class: 1st</br>embarked: Cherbourg</br>fare: 25.0</br>sibsp: 0.0</br>parch: 0.0</br>_original_yhat_: 0.30176598983074654</br>"
          ],
          [
           "</br>id: Henry</br>prediction: 0.289</br>age: 60.710000000006005</br></br>gender: male</br>class: 1st</br>embarked: Cherbourg</br>fare: 25.0</br>sibsp: 0.0</br>parch: 0.0</br>_original_yhat_: 0.30176598983074654</br>"
          ],
          [
           "</br>id: Henry</br>prediction: 0.289</br>age: 61.448333333339</br></br>gender: male</br>class: 1st</br>embarked: Cherbourg</br>fare: 25.0</br>sibsp: 0.0</br>parch: 0.0</br>_original_yhat_: 0.30176598983074654</br>"
          ],
          [
           "</br>id: Henry</br>prediction: 0.289</br>age: 62.186666666672004</br></br>gender: male</br>class: 1st</br>embarked: Cherbourg</br>fare: 25.0</br>sibsp: 0.0</br>parch: 0.0</br>_original_yhat_: 0.30176598983074654</br>"
          ],
          [
           "</br>id: Henry</br>prediction: 0.289</br>age: 62.925000000005</br></br>gender: male</br>class: 1st</br>embarked: Cherbourg</br>fare: 25.0</br>sibsp: 0.0</br>parch: 0.0</br>_original_yhat_: 0.30176598983074654</br>"
          ],
          [
           "</br>id: Henry</br>prediction: 0.289</br>age: 63.663333333338</br></br>gender: male</br>class: 1st</br>embarked: Cherbourg</br>fare: 25.0</br>sibsp: 0.0</br>parch: 0.0</br>_original_yhat_: 0.30176598983074654</br>"
          ],
          [
           "</br>id: Henry</br>prediction: 0.289</br>age: 64.40166666667099</br></br>gender: male</br>class: 1st</br>embarked: Cherbourg</br>fare: 25.0</br>sibsp: 0.0</br>parch: 0.0</br>_original_yhat_: 0.30176598983074654</br>"
          ],
          [
           "</br>id: Henry</br>prediction: 0.288</br>age: 65.140000000004</br></br>gender: male</br>class: 1st</br>embarked: Cherbourg</br>fare: 25.0</br>sibsp: 0.0</br>parch: 0.0</br>_original_yhat_: 0.30176598983074654</br>"
          ],
          [
           "</br>id: Henry</br>prediction: 0.288</br>age: 65.878333333337</br></br>gender: male</br>class: 1st</br>embarked: Cherbourg</br>fare: 25.0</br>sibsp: 0.0</br>parch: 0.0</br>_original_yhat_: 0.30176598983074654</br>"
          ],
          [
           "</br>id: Henry</br>prediction: 0.288</br>age: 66.61666666667</br></br>gender: male</br>class: 1st</br>embarked: Cherbourg</br>fare: 25.0</br>sibsp: 0.0</br>parch: 0.0</br>_original_yhat_: 0.30176598983074654</br>"
          ],
          [
           "</br>id: Henry</br>prediction: 0.288</br>age: 67.355000000003</br></br>gender: male</br>class: 1st</br>embarked: Cherbourg</br>fare: 25.0</br>sibsp: 0.0</br>parch: 0.0</br>_original_yhat_: 0.30176598983074654</br>"
          ],
          [
           "</br>id: Henry</br>prediction: 0.288</br>age: 68.09333333333599</br></br>gender: male</br>class: 1st</br>embarked: Cherbourg</br>fare: 25.0</br>sibsp: 0.0</br>parch: 0.0</br>_original_yhat_: 0.30176598983074654</br>"
          ],
          [
           "</br>id: Henry</br>prediction: 0.288</br>age: 68.831666666669</br></br>gender: male</br>class: 1st</br>embarked: Cherbourg</br>fare: 25.0</br>sibsp: 0.0</br>parch: 0.0</br>_original_yhat_: 0.30176598983074654</br>"
          ],
          [
           "</br>id: Henry</br>prediction: 0.288</br>age: 69.570000000002</br></br>gender: male</br>class: 1st</br>embarked: Cherbourg</br>fare: 25.0</br>sibsp: 0.0</br>parch: 0.0</br>_original_yhat_: 0.30176598983074654</br>"
          ],
          [
           "</br>id: Henry</br>prediction: 0.288</br>age: 70.308333333335</br></br>gender: male</br>class: 1st</br>embarked: Cherbourg</br>fare: 25.0</br>sibsp: 0.0</br>parch: 0.0</br>_original_yhat_: 0.30176598983074654</br>"
          ],
          [
           "</br>id: Henry</br>prediction: 0.288</br>age: 71.04666666666799</br></br>gender: male</br>class: 1st</br>embarked: Cherbourg</br>fare: 25.0</br>sibsp: 0.0</br>parch: 0.0</br>_original_yhat_: 0.30176598983074654</br>"
          ],
          [
           "</br>id: Henry</br>prediction: 0.288</br>age: 71.78500000000099</br></br>gender: male</br>class: 1st</br>embarked: Cherbourg</br>fare: 25.0</br>sibsp: 0.0</br>parch: 0.0</br>_original_yhat_: 0.30176598983074654</br>"
          ],
          [
           "</br>id: Henry</br>prediction: 0.288</br>age: 72.523333333334</br></br>gender: male</br>class: 1st</br>embarked: Cherbourg</br>fare: 25.0</br>sibsp: 0.0</br>parch: 0.0</br>_original_yhat_: 0.30176598983074654</br>"
          ],
          [
           "</br>id: Henry</br>prediction: 0.288</br>age: 73.261666666667</br></br>gender: male</br>class: 1st</br>embarked: Cherbourg</br>fare: 25.0</br>sibsp: 0.0</br>parch: 0.0</br>_original_yhat_: 0.30176598983074654</br>"
          ],
          [
           "</br>id: Henry</br>prediction: 0.288</br>age: 74.0</br></br>gender: male</br>class: 1st</br>embarked: Cherbourg</br>fare: 25.0</br>sibsp: 0.0</br>parch: 0.0</br>_original_yhat_: 0.30176598983074654</br>"
          ]
         ],
         "hovertemplate": "%{customdata[0]}<extra></extra>",
         "legendgroup": "Titanic RF Pipeline",
         "line": {
          "color": "#46bac2",
          "dash": "solid",
          "width": 2
         },
         "marker": {
          "symbol": "circle"
         },
         "mode": "lines",
         "name": "Titanic RF Pipeline",
         "opacity": 1,
         "orientation": "v",
         "showlegend": true,
         "type": "scatter",
         "x": [
          0.1666666667,
          0.905000000033,
          1.643333333366,
          2.3816666666989996,
          3.120000000032,
          3.858333333365,
          4.596666666698,
          5.335000000031,
          6.073333333364,
          6.8116666666970005,
          7.550000000030001,
          8.288333333363,
          9.026666666695998,
          9.765000000029,
          10.503333333361999,
          11.241666666695,
          11.980000000028,
          12.718333333360999,
          13.456666666694,
          14.195000000027,
          14.93333333336,
          15.671666666693,
          16.410000000026,
          17.148333333359,
          17.886666666691998,
          18.625000000025,
          19.363333333358,
          20.101666666691,
          20.840000000024,
          21.578333333356998,
          22.31666666669,
          23.055000000023,
          23.793333333356,
          24.531666666689,
          25.270000000021998,
          26.008333333355,
          26.746666666688,
          27.485000000021,
          28.223333333354,
          28.961666666686998,
          29.70000000002,
          30.438333333353,
          31.176666666686,
          31.915000000019,
          32.653333333352,
          33.391666666685005,
          34.130000000018,
          34.868333333351,
          35.606666666684,
          36.345000000017,
          37.083333333350005,
          37.821666666683,
          38.560000000016004,
          39.298333333349,
          40.036666666682,
          40.775000000015005,
          41.513333333348,
          42.251666666681004,
          42.990000000014,
          43.728333333347,
          44.466666666680005,
          45.205000000013,
          45.943333333346004,
          46.681666666679,
          47,
          47.420000000012,
          48.158333333345006,
          48.896666666678,
          49.635000000011004,
          50.373333333344,
          51.111666666677,
          51.850000000010006,
          52.588333333343,
          53.326666666676005,
          54.065000000009,
          54.803333333342,
          55.541666666675006,
          56.280000000008,
          57.018333333341005,
          57.756666666674,
          58.495000000007,
          59.233333333340006,
          59.971666666673,
          60.710000000006005,
          61.448333333339,
          62.186666666672004,
          62.925000000005,
          63.663333333338,
          64.40166666667099,
          65.140000000004,
          65.878333333337,
          66.61666666667,
          67.355000000003,
          68.09333333333599,
          68.831666666669,
          69.570000000002,
          70.308333333335,
          71.04666666666799,
          71.78500000000099,
          72.523333333334,
          73.261666666667,
          74
         ],
         "xaxis": "x",
         "y": [
          0.43377719003783727,
          0.43663433289498005,
          0.4321840446372289,
          0.4321840446372289,
          0.4322602351134194,
          0.4250991425627999,
          0.3844167858876524,
          0.3844167858876524,
          0.3762459328793461,
          0.3746932798181216,
          0.37359345757095164,
          0.37359345757095164,
          0.3671532564915691,
          0.34762905100983293,
          0.34762905100983293,
          0.34762905100983293,
          0.34762905100983293,
          0.3445896431206441,
          0.34347411517033355,
          0.3281750031188632,
          0.318911649266149,
          0.3150349293830597,
          0.3150349293830597,
          0.31441373394205463,
          0.31441373394205463,
          0.3138146448677078,
          0.3138146448677078,
          0.31403457237658045,
          0.31335671296962847,
          0.3125188751317906,
          0.3125188751317906,
          0.3125188751317906,
          0.3120194033008047,
          0.3120194033008047,
          0.3120194033008047,
          0.3120194033008047,
          0.3120194033008047,
          0.3120194033008047,
          0.3120194033008047,
          0.3120194033008047,
          0.3118192031006045,
          0.3118192031006045,
          0.3118192031006045,
          0.3118192031006045,
          0.3106167388981403,
          0.3106167388981403,
          0.3104578449833258,
          0.3104578449833258,
          0.30654354300193065,
          0.30654354300193065,
          0.30546720107901343,
          0.30546720107901343,
          0.3041402717010919,
          0.3041402717010919,
          0.3041402717010919,
          0.30273302950744196,
          0.30273302950744196,
          0.30273302950744196,
          0.30273302950744196,
          0.30273302950744196,
          0.30273302950744196,
          0.30273302950744196,
          0.30176598983074654,
          0.30176598983074654,
          0.30176598983074654,
          0.30176598983074654,
          0.30176598983074654,
          0.30176598983074654,
          0.30006538801435534,
          0.30006538801435534,
          0.30006538801435534,
          0.30006538801435534,
          0.30006538801435534,
          0.30006538801435534,
          0.29880920531168753,
          0.29435373794968983,
          0.2934439800626759,
          0.2934439800626759,
          0.29034576610927276,
          0.29034576610927276,
          0.29034576610927276,
          0.29034576610927276,
          0.29034576610927276,
          0.2891370940225519,
          0.2891370940225519,
          0.2891370940225519,
          0.2891370940225519,
          0.2891370940225519,
          0.2891370940225519,
          0.28767946690390783,
          0.28767946690390783,
          0.28767946690390783,
          0.28767946690390783,
          0.28767946690390783,
          0.28767946690390783,
          0.28767946690390783,
          0.28767946690390783,
          0.28767946690390783,
          0.28767946690390783,
          0.28767946690390783,
          0.28767946690390783,
          0.28767946690390783
         ],
         "yaxis": "y"
        },
        {
         "customdata": [
          [
           "</br>id: Henry</br>prediction: 0.278</br>fare: 0.0</br></br>gender: male</br>age: 47.0</br>class: 1st</br>embarked: Cherbourg</br>sibsp: 0.0</br>parch: 0.0</br>_original_yhat_: 0.30176598983074654</br>"
          ],
          [
           "</br>id: Henry</br>prediction: 0.277</br>fare: 5.120607</br></br>gender: male</br>age: 47.0</br>class: 1st</br>embarked: Cherbourg</br>sibsp: 0.0</br>parch: 0.0</br>_original_yhat_: 0.30176598983074654</br>"
          ],
          [
           "</br>id: Henry</br>prediction: 0.284</br>fare: 10.241214</br></br>gender: male</br>age: 47.0</br>class: 1st</br>embarked: Cherbourg</br>sibsp: 0.0</br>parch: 0.0</br>_original_yhat_: 0.30176598983074654</br>"
          ],
          [
           "</br>id: Henry</br>prediction: 0.299</br>fare: 15.361820999999999</br></br>gender: male</br>age: 47.0</br>class: 1st</br>embarked: Cherbourg</br>sibsp: 0.0</br>parch: 0.0</br>_original_yhat_: 0.30176598983074654</br>"
          ],
          [
           "</br>id: Henry</br>prediction: 0.3</br>fare: 20.482428</br></br>gender: male</br>age: 47.0</br>class: 1st</br>embarked: Cherbourg</br>sibsp: 0.0</br>parch: 0.0</br>_original_yhat_: 0.30176598983074654</br>"
          ],
          [
           "</br>id: Henry</br>prediction: 0.302</br>fare: 25.0</br></br>gender: male</br>age: 47.0</br>class: 1st</br>embarked: Cherbourg</br>sibsp: 0.0</br>parch: 0.0</br>_original_yhat_: 0.30176598983074654</br>"
          ],
          [
           "</br>id: Henry</br>prediction: 0.303</br>fare: 25.603035</br></br>gender: male</br>age: 47.0</br>class: 1st</br>embarked: Cherbourg</br>sibsp: 0.0</br>parch: 0.0</br>_original_yhat_: 0.30176598983074654</br>"
          ],
          [
           "</br>id: Henry</br>prediction: 0.319</br>fare: 30.723641999999998</br></br>gender: male</br>age: 47.0</br>class: 1st</br>embarked: Cherbourg</br>sibsp: 0.0</br>parch: 0.0</br>_original_yhat_: 0.30176598983074654</br>"
          ],
          [
           "</br>id: Henry</br>prediction: 0.32</br>fare: 35.844249</br></br>gender: male</br>age: 47.0</br>class: 1st</br>embarked: Cherbourg</br>sibsp: 0.0</br>parch: 0.0</br>_original_yhat_: 0.30176598983074654</br>"
          ],
          [
           "</br>id: Henry</br>prediction: 0.32</br>fare: 40.964856</br></br>gender: male</br>age: 47.0</br>class: 1st</br>embarked: Cherbourg</br>sibsp: 0.0</br>parch: 0.0</br>_original_yhat_: 0.30176598983074654</br>"
          ],
          [
           "</br>id: Henry</br>prediction: 0.32</br>fare: 46.085463</br></br>gender: male</br>age: 47.0</br>class: 1st</br>embarked: Cherbourg</br>sibsp: 0.0</br>parch: 0.0</br>_original_yhat_: 0.30176598983074654</br>"
          ],
          [
           "</br>id: Henry</br>prediction: 0.328</br>fare: 51.20607</br></br>gender: male</br>age: 47.0</br>class: 1st</br>embarked: Cherbourg</br>sibsp: 0.0</br>parch: 0.0</br>_original_yhat_: 0.30176598983074654</br>"
          ],
          [
           "</br>id: Henry</br>prediction: 0.347</br>fare: 56.326677</br></br>gender: male</br>age: 47.0</br>class: 1st</br>embarked: Cherbourg</br>sibsp: 0.0</br>parch: 0.0</br>_original_yhat_: 0.30176598983074654</br>"
          ],
          [
           "</br>id: Henry</br>prediction: 0.342</br>fare: 61.447283999999996</br></br>gender: male</br>age: 47.0</br>class: 1st</br>embarked: Cherbourg</br>sibsp: 0.0</br>parch: 0.0</br>_original_yhat_: 0.30176598983074654</br>"
          ],
          [
           "</br>id: Henry</br>prediction: 0.342</br>fare: 66.567891</br></br>gender: male</br>age: 47.0</br>class: 1st</br>embarked: Cherbourg</br>sibsp: 0.0</br>parch: 0.0</br>_original_yhat_: 0.30176598983074654</br>"
          ],
          [
           "</br>id: Henry</br>prediction: 0.342</br>fare: 71.688498</br></br>gender: male</br>age: 47.0</br>class: 1st</br>embarked: Cherbourg</br>sibsp: 0.0</br>parch: 0.0</br>_original_yhat_: 0.30176598983074654</br>"
          ],
          [
           "</br>id: Henry</br>prediction: 0.344</br>fare: 76.80910499999999</br></br>gender: male</br>age: 47.0</br>class: 1st</br>embarked: Cherbourg</br>sibsp: 0.0</br>parch: 0.0</br>_original_yhat_: 0.30176598983074654</br>"
          ],
          [
           "</br>id: Henry</br>prediction: 0.345</br>fare: 81.929712</br></br>gender: male</br>age: 47.0</br>class: 1st</br>embarked: Cherbourg</br>sibsp: 0.0</br>parch: 0.0</br>_original_yhat_: 0.30176598983074654</br>"
          ],
          [
           "</br>id: Henry</br>prediction: 0.345</br>fare: 87.050319</br></br>gender: male</br>age: 47.0</br>class: 1st</br>embarked: Cherbourg</br>sibsp: 0.0</br>parch: 0.0</br>_original_yhat_: 0.30176598983074654</br>"
          ],
          [
           "</br>id: Henry</br>prediction: 0.347</br>fare: 92.170926</br></br>gender: male</br>age: 47.0</br>class: 1st</br>embarked: Cherbourg</br>sibsp: 0.0</br>parch: 0.0</br>_original_yhat_: 0.30176598983074654</br>"
          ],
          [
           "</br>id: Henry</br>prediction: 0.347</br>fare: 97.29153299999999</br></br>gender: male</br>age: 47.0</br>class: 1st</br>embarked: Cherbourg</br>sibsp: 0.0</br>parch: 0.0</br>_original_yhat_: 0.30176598983074654</br>"
          ],
          [
           "</br>id: Henry</br>prediction: 0.347</br>fare: 102.41214</br></br>gender: male</br>age: 47.0</br>class: 1st</br>embarked: Cherbourg</br>sibsp: 0.0</br>parch: 0.0</br>_original_yhat_: 0.30176598983074654</br>"
          ],
          [
           "</br>id: Henry</br>prediction: 0.347</br>fare: 107.532747</br></br>gender: male</br>age: 47.0</br>class: 1st</br>embarked: Cherbourg</br>sibsp: 0.0</br>parch: 0.0</br>_original_yhat_: 0.30176598983074654</br>"
          ],
          [
           "</br>id: Henry</br>prediction: 0.347</br>fare: 112.653354</br></br>gender: male</br>age: 47.0</br>class: 1st</br>embarked: Cherbourg</br>sibsp: 0.0</br>parch: 0.0</br>_original_yhat_: 0.30176598983074654</br>"
          ],
          [
           "</br>id: Henry</br>prediction: 0.348</br>fare: 117.77396099999999</br></br>gender: male</br>age: 47.0</br>class: 1st</br>embarked: Cherbourg</br>sibsp: 0.0</br>parch: 0.0</br>_original_yhat_: 0.30176598983074654</br>"
          ],
          [
           "</br>id: Henry</br>prediction: 0.348</br>fare: 122.89456799999999</br></br>gender: male</br>age: 47.0</br>class: 1st</br>embarked: Cherbourg</br>sibsp: 0.0</br>parch: 0.0</br>_original_yhat_: 0.30176598983074654</br>"
          ],
          [
           "</br>id: Henry</br>prediction: 0.348</br>fare: 128.015175</br></br>gender: male</br>age: 47.0</br>class: 1st</br>embarked: Cherbourg</br>sibsp: 0.0</br>parch: 0.0</br>_original_yhat_: 0.30176598983074654</br>"
          ],
          [
           "</br>id: Henry</br>prediction: 0.348</br>fare: 133.135782</br></br>gender: male</br>age: 47.0</br>class: 1st</br>embarked: Cherbourg</br>sibsp: 0.0</br>parch: 0.0</br>_original_yhat_: 0.30176598983074654</br>"
          ],
          [
           "</br>id: Henry</br>prediction: 0.348</br>fare: 138.25638899999998</br></br>gender: male</br>age: 47.0</br>class: 1st</br>embarked: Cherbourg</br>sibsp: 0.0</br>parch: 0.0</br>_original_yhat_: 0.30176598983074654</br>"
          ],
          [
           "</br>id: Henry</br>prediction: 0.347</br>fare: 143.376996</br></br>gender: male</br>age: 47.0</br>class: 1st</br>embarked: Cherbourg</br>sibsp: 0.0</br>parch: 0.0</br>_original_yhat_: 0.30176598983074654</br>"
          ],
          [
           "</br>id: Henry</br>prediction: 0.347</br>fare: 148.497603</br></br>gender: male</br>age: 47.0</br>class: 1st</br>embarked: Cherbourg</br>sibsp: 0.0</br>parch: 0.0</br>_original_yhat_: 0.30176598983074654</br>"
          ],
          [
           "</br>id: Henry</br>prediction: 0.347</br>fare: 153.61820999999998</br></br>gender: male</br>age: 47.0</br>class: 1st</br>embarked: Cherbourg</br>sibsp: 0.0</br>parch: 0.0</br>_original_yhat_: 0.30176598983074654</br>"
          ],
          [
           "</br>id: Henry</br>prediction: 0.347</br>fare: 158.73881699999998</br></br>gender: male</br>age: 47.0</br>class: 1st</br>embarked: Cherbourg</br>sibsp: 0.0</br>parch: 0.0</br>_original_yhat_: 0.30176598983074654</br>"
          ],
          [
           "</br>id: Henry</br>prediction: 0.347</br>fare: 163.859424</br></br>gender: male</br>age: 47.0</br>class: 1st</br>embarked: Cherbourg</br>sibsp: 0.0</br>parch: 0.0</br>_original_yhat_: 0.30176598983074654</br>"
          ],
          [
           "</br>id: Henry</br>prediction: 0.347</br>fare: 168.980031</br></br>gender: male</br>age: 47.0</br>class: 1st</br>embarked: Cherbourg</br>sibsp: 0.0</br>parch: 0.0</br>_original_yhat_: 0.30176598983074654</br>"
          ],
          [
           "</br>id: Henry</br>prediction: 0.347</br>fare: 174.100638</br></br>gender: male</br>age: 47.0</br>class: 1st</br>embarked: Cherbourg</br>sibsp: 0.0</br>parch: 0.0</br>_original_yhat_: 0.30176598983074654</br>"
          ],
          [
           "</br>id: Henry</br>prediction: 0.347</br>fare: 179.22124499999998</br></br>gender: male</br>age: 47.0</br>class: 1st</br>embarked: Cherbourg</br>sibsp: 0.0</br>parch: 0.0</br>_original_yhat_: 0.30176598983074654</br>"
          ],
          [
           "</br>id: Henry</br>prediction: 0.347</br>fare: 184.341852</br></br>gender: male</br>age: 47.0</br>class: 1st</br>embarked: Cherbourg</br>sibsp: 0.0</br>parch: 0.0</br>_original_yhat_: 0.30176598983074654</br>"
          ],
          [
           "</br>id: Henry</br>prediction: 0.347</br>fare: 189.462459</br></br>gender: male</br>age: 47.0</br>class: 1st</br>embarked: Cherbourg</br>sibsp: 0.0</br>parch: 0.0</br>_original_yhat_: 0.30176598983074654</br>"
          ],
          [
           "</br>id: Henry</br>prediction: 0.347</br>fare: 194.58306599999997</br></br>gender: male</br>age: 47.0</br>class: 1st</br>embarked: Cherbourg</br>sibsp: 0.0</br>parch: 0.0</br>_original_yhat_: 0.30176598983074654</br>"
          ],
          [
           "</br>id: Henry</br>prediction: 0.347</br>fare: 199.70367299999998</br></br>gender: male</br>age: 47.0</br>class: 1st</br>embarked: Cherbourg</br>sibsp: 0.0</br>parch: 0.0</br>_original_yhat_: 0.30176598983074654</br>"
          ],
          [
           "</br>id: Henry</br>prediction: 0.347</br>fare: 204.82428</br></br>gender: male</br>age: 47.0</br>class: 1st</br>embarked: Cherbourg</br>sibsp: 0.0</br>parch: 0.0</br>_original_yhat_: 0.30176598983074654</br>"
          ],
          [
           "</br>id: Henry</br>prediction: 0.347</br>fare: 209.944887</br></br>gender: male</br>age: 47.0</br>class: 1st</br>embarked: Cherbourg</br>sibsp: 0.0</br>parch: 0.0</br>_original_yhat_: 0.30176598983074654</br>"
          ],
          [
           "</br>id: Henry</br>prediction: 0.347</br>fare: 215.065494</br></br>gender: male</br>age: 47.0</br>class: 1st</br>embarked: Cherbourg</br>sibsp: 0.0</br>parch: 0.0</br>_original_yhat_: 0.30176598983074654</br>"
          ],
          [
           "</br>id: Henry</br>prediction: 0.347</br>fare: 220.18610099999998</br></br>gender: male</br>age: 47.0</br>class: 1st</br>embarked: Cherbourg</br>sibsp: 0.0</br>parch: 0.0</br>_original_yhat_: 0.30176598983074654</br>"
          ],
          [
           "</br>id: Henry</br>prediction: 0.347</br>fare: 225.306708</br></br>gender: male</br>age: 47.0</br>class: 1st</br>embarked: Cherbourg</br>sibsp: 0.0</br>parch: 0.0</br>_original_yhat_: 0.30176598983074654</br>"
          ],
          [
           "</br>id: Henry</br>prediction: 0.347</br>fare: 230.427315</br></br>gender: male</br>age: 47.0</br>class: 1st</br>embarked: Cherbourg</br>sibsp: 0.0</br>parch: 0.0</br>_original_yhat_: 0.30176598983074654</br>"
          ],
          [
           "</br>id: Henry</br>prediction: 0.347</br>fare: 235.54792199999997</br></br>gender: male</br>age: 47.0</br>class: 1st</br>embarked: Cherbourg</br>sibsp: 0.0</br>parch: 0.0</br>_original_yhat_: 0.30176598983074654</br>"
          ],
          [
           "</br>id: Henry</br>prediction: 0.347</br>fare: 240.66852899999998</br></br>gender: male</br>age: 47.0</br>class: 1st</br>embarked: Cherbourg</br>sibsp: 0.0</br>parch: 0.0</br>_original_yhat_: 0.30176598983074654</br>"
          ],
          [
           "</br>id: Henry</br>prediction: 0.347</br>fare: 245.78913599999998</br></br>gender: male</br>age: 47.0</br>class: 1st</br>embarked: Cherbourg</br>sibsp: 0.0</br>parch: 0.0</br>_original_yhat_: 0.30176598983074654</br>"
          ],
          [
           "</br>id: Henry</br>prediction: 0.347</br>fare: 250.909743</br></br>gender: male</br>age: 47.0</br>class: 1st</br>embarked: Cherbourg</br>sibsp: 0.0</br>parch: 0.0</br>_original_yhat_: 0.30176598983074654</br>"
          ],
          [
           "</br>id: Henry</br>prediction: 0.347</br>fare: 256.03035</br></br>gender: male</br>age: 47.0</br>class: 1st</br>embarked: Cherbourg</br>sibsp: 0.0</br>parch: 0.0</br>_original_yhat_: 0.30176598983074654</br>"
          ],
          [
           "</br>id: Henry</br>prediction: 0.347</br>fare: 261.150957</br></br>gender: male</br>age: 47.0</br>class: 1st</br>embarked: Cherbourg</br>sibsp: 0.0</br>parch: 0.0</br>_original_yhat_: 0.30176598983074654</br>"
          ],
          [
           "</br>id: Henry</br>prediction: 0.347</br>fare: 266.271564</br></br>gender: male</br>age: 47.0</br>class: 1st</br>embarked: Cherbourg</br>sibsp: 0.0</br>parch: 0.0</br>_original_yhat_: 0.30176598983074654</br>"
          ],
          [
           "</br>id: Henry</br>prediction: 0.347</br>fare: 271.39217099999996</br></br>gender: male</br>age: 47.0</br>class: 1st</br>embarked: Cherbourg</br>sibsp: 0.0</br>parch: 0.0</br>_original_yhat_: 0.30176598983074654</br>"
          ],
          [
           "</br>id: Henry</br>prediction: 0.347</br>fare: 276.51277799999997</br></br>gender: male</br>age: 47.0</br>class: 1st</br>embarked: Cherbourg</br>sibsp: 0.0</br>parch: 0.0</br>_original_yhat_: 0.30176598983074654</br>"
          ],
          [
           "</br>id: Henry</br>prediction: 0.347</br>fare: 281.633385</br></br>gender: male</br>age: 47.0</br>class: 1st</br>embarked: Cherbourg</br>sibsp: 0.0</br>parch: 0.0</br>_original_yhat_: 0.30176598983074654</br>"
          ],
          [
           "</br>id: Henry</br>prediction: 0.347</br>fare: 286.753992</br></br>gender: male</br>age: 47.0</br>class: 1st</br>embarked: Cherbourg</br>sibsp: 0.0</br>parch: 0.0</br>_original_yhat_: 0.30176598983074654</br>"
          ],
          [
           "</br>id: Henry</br>prediction: 0.347</br>fare: 291.874599</br></br>gender: male</br>age: 47.0</br>class: 1st</br>embarked: Cherbourg</br>sibsp: 0.0</br>parch: 0.0</br>_original_yhat_: 0.30176598983074654</br>"
          ],
          [
           "</br>id: Henry</br>prediction: 0.347</br>fare: 296.995206</br></br>gender: male</br>age: 47.0</br>class: 1st</br>embarked: Cherbourg</br>sibsp: 0.0</br>parch: 0.0</br>_original_yhat_: 0.30176598983074654</br>"
          ],
          [
           "</br>id: Henry</br>prediction: 0.347</br>fare: 302.115813</br></br>gender: male</br>age: 47.0</br>class: 1st</br>embarked: Cherbourg</br>sibsp: 0.0</br>parch: 0.0</br>_original_yhat_: 0.30176598983074654</br>"
          ],
          [
           "</br>id: Henry</br>prediction: 0.347</br>fare: 307.23641999999995</br></br>gender: male</br>age: 47.0</br>class: 1st</br>embarked: Cherbourg</br>sibsp: 0.0</br>parch: 0.0</br>_original_yhat_: 0.30176598983074654</br>"
          ],
          [
           "</br>id: Henry</br>prediction: 0.347</br>fare: 312.35702699999996</br></br>gender: male</br>age: 47.0</br>class: 1st</br>embarked: Cherbourg</br>sibsp: 0.0</br>parch: 0.0</br>_original_yhat_: 0.30176598983074654</br>"
          ],
          [
           "</br>id: Henry</br>prediction: 0.347</br>fare: 317.47763399999997</br></br>gender: male</br>age: 47.0</br>class: 1st</br>embarked: Cherbourg</br>sibsp: 0.0</br>parch: 0.0</br>_original_yhat_: 0.30176598983074654</br>"
          ],
          [
           "</br>id: Henry</br>prediction: 0.347</br>fare: 322.598241</br></br>gender: male</br>age: 47.0</br>class: 1st</br>embarked: Cherbourg</br>sibsp: 0.0</br>parch: 0.0</br>_original_yhat_: 0.30176598983074654</br>"
          ],
          [
           "</br>id: Henry</br>prediction: 0.347</br>fare: 327.718848</br></br>gender: male</br>age: 47.0</br>class: 1st</br>embarked: Cherbourg</br>sibsp: 0.0</br>parch: 0.0</br>_original_yhat_: 0.30176598983074654</br>"
          ],
          [
           "</br>id: Henry</br>prediction: 0.347</br>fare: 332.839455</br></br>gender: male</br>age: 47.0</br>class: 1st</br>embarked: Cherbourg</br>sibsp: 0.0</br>parch: 0.0</br>_original_yhat_: 0.30176598983074654</br>"
          ],
          [
           "</br>id: Henry</br>prediction: 0.347</br>fare: 337.960062</br></br>gender: male</br>age: 47.0</br>class: 1st</br>embarked: Cherbourg</br>sibsp: 0.0</br>parch: 0.0</br>_original_yhat_: 0.30176598983074654</br>"
          ],
          [
           "</br>id: Henry</br>prediction: 0.347</br>fare: 343.080669</br></br>gender: male</br>age: 47.0</br>class: 1st</br>embarked: Cherbourg</br>sibsp: 0.0</br>parch: 0.0</br>_original_yhat_: 0.30176598983074654</br>"
          ],
          [
           "</br>id: Henry</br>prediction: 0.347</br>fare: 348.201276</br></br>gender: male</br>age: 47.0</br>class: 1st</br>embarked: Cherbourg</br>sibsp: 0.0</br>parch: 0.0</br>_original_yhat_: 0.30176598983074654</br>"
          ],
          [
           "</br>id: Henry</br>prediction: 0.347</br>fare: 353.32188299999996</br></br>gender: male</br>age: 47.0</br>class: 1st</br>embarked: Cherbourg</br>sibsp: 0.0</br>parch: 0.0</br>_original_yhat_: 0.30176598983074654</br>"
          ],
          [
           "</br>id: Henry</br>prediction: 0.347</br>fare: 358.44248999999996</br></br>gender: male</br>age: 47.0</br>class: 1st</br>embarked: Cherbourg</br>sibsp: 0.0</br>parch: 0.0</br>_original_yhat_: 0.30176598983074654</br>"
          ],
          [
           "</br>id: Henry</br>prediction: 0.347</br>fare: 363.56309699999997</br></br>gender: male</br>age: 47.0</br>class: 1st</br>embarked: Cherbourg</br>sibsp: 0.0</br>parch: 0.0</br>_original_yhat_: 0.30176598983074654</br>"
          ],
          [
           "</br>id: Henry</br>prediction: 0.347</br>fare: 368.683704</br></br>gender: male</br>age: 47.0</br>class: 1st</br>embarked: Cherbourg</br>sibsp: 0.0</br>parch: 0.0</br>_original_yhat_: 0.30176598983074654</br>"
          ],
          [
           "</br>id: Henry</br>prediction: 0.347</br>fare: 373.804311</br></br>gender: male</br>age: 47.0</br>class: 1st</br>embarked: Cherbourg</br>sibsp: 0.0</br>parch: 0.0</br>_original_yhat_: 0.30176598983074654</br>"
          ],
          [
           "</br>id: Henry</br>prediction: 0.347</br>fare: 378.924918</br></br>gender: male</br>age: 47.0</br>class: 1st</br>embarked: Cherbourg</br>sibsp: 0.0</br>parch: 0.0</br>_original_yhat_: 0.30176598983074654</br>"
          ],
          [
           "</br>id: Henry</br>prediction: 0.347</br>fare: 384.045525</br></br>gender: male</br>age: 47.0</br>class: 1st</br>embarked: Cherbourg</br>sibsp: 0.0</br>parch: 0.0</br>_original_yhat_: 0.30176598983074654</br>"
          ],
          [
           "</br>id: Henry</br>prediction: 0.358</br>fare: 389.16613199999995</br></br>gender: male</br>age: 47.0</br>class: 1st</br>embarked: Cherbourg</br>sibsp: 0.0</br>parch: 0.0</br>_original_yhat_: 0.30176598983074654</br>"
          ],
          [
           "</br>id: Henry</br>prediction: 0.358</br>fare: 394.28673899999995</br></br>gender: male</br>age: 47.0</br>class: 1st</br>embarked: Cherbourg</br>sibsp: 0.0</br>parch: 0.0</br>_original_yhat_: 0.30176598983074654</br>"
          ],
          [
           "</br>id: Henry</br>prediction: 0.358</br>fare: 399.40734599999996</br></br>gender: male</br>age: 47.0</br>class: 1st</br>embarked: Cherbourg</br>sibsp: 0.0</br>parch: 0.0</br>_original_yhat_: 0.30176598983074654</br>"
          ],
          [
           "</br>id: Henry</br>prediction: 0.358</br>fare: 404.52795299999997</br></br>gender: male</br>age: 47.0</br>class: 1st</br>embarked: Cherbourg</br>sibsp: 0.0</br>parch: 0.0</br>_original_yhat_: 0.30176598983074654</br>"
          ],
          [
           "</br>id: Henry</br>prediction: 0.358</br>fare: 409.64856</br></br>gender: male</br>age: 47.0</br>class: 1st</br>embarked: Cherbourg</br>sibsp: 0.0</br>parch: 0.0</br>_original_yhat_: 0.30176598983074654</br>"
          ],
          [
           "</br>id: Henry</br>prediction: 0.358</br>fare: 414.769167</br></br>gender: male</br>age: 47.0</br>class: 1st</br>embarked: Cherbourg</br>sibsp: 0.0</br>parch: 0.0</br>_original_yhat_: 0.30176598983074654</br>"
          ],
          [
           "</br>id: Henry</br>prediction: 0.358</br>fare: 419.889774</br></br>gender: male</br>age: 47.0</br>class: 1st</br>embarked: Cherbourg</br>sibsp: 0.0</br>parch: 0.0</br>_original_yhat_: 0.30176598983074654</br>"
          ],
          [
           "</br>id: Henry</br>prediction: 0.358</br>fare: 425.010381</br></br>gender: male</br>age: 47.0</br>class: 1st</br>embarked: Cherbourg</br>sibsp: 0.0</br>parch: 0.0</br>_original_yhat_: 0.30176598983074654</br>"
          ],
          [
           "</br>id: Henry</br>prediction: 0.358</br>fare: 430.130988</br></br>gender: male</br>age: 47.0</br>class: 1st</br>embarked: Cherbourg</br>sibsp: 0.0</br>parch: 0.0</br>_original_yhat_: 0.30176598983074654</br>"
          ],
          [
           "</br>id: Henry</br>prediction: 0.358</br>fare: 435.25159499999995</br></br>gender: male</br>age: 47.0</br>class: 1st</br>embarked: Cherbourg</br>sibsp: 0.0</br>parch: 0.0</br>_original_yhat_: 0.30176598983074654</br>"
          ],
          [
           "</br>id: Henry</br>prediction: 0.358</br>fare: 440.37220199999996</br></br>gender: male</br>age: 47.0</br>class: 1st</br>embarked: Cherbourg</br>sibsp: 0.0</br>parch: 0.0</br>_original_yhat_: 0.30176598983074654</br>"
          ],
          [
           "</br>id: Henry</br>prediction: 0.358</br>fare: 445.49280899999997</br></br>gender: male</br>age: 47.0</br>class: 1st</br>embarked: Cherbourg</br>sibsp: 0.0</br>parch: 0.0</br>_original_yhat_: 0.30176598983074654</br>"
          ],
          [
           "</br>id: Henry</br>prediction: 0.358</br>fare: 450.613416</br></br>gender: male</br>age: 47.0</br>class: 1st</br>embarked: Cherbourg</br>sibsp: 0.0</br>parch: 0.0</br>_original_yhat_: 0.30176598983074654</br>"
          ],
          [
           "</br>id: Henry</br>prediction: 0.358</br>fare: 455.734023</br></br>gender: male</br>age: 47.0</br>class: 1st</br>embarked: Cherbourg</br>sibsp: 0.0</br>parch: 0.0</br>_original_yhat_: 0.30176598983074654</br>"
          ],
          [
           "</br>id: Henry</br>prediction: 0.358</br>fare: 460.85463</br></br>gender: male</br>age: 47.0</br>class: 1st</br>embarked: Cherbourg</br>sibsp: 0.0</br>parch: 0.0</br>_original_yhat_: 0.30176598983074654</br>"
          ],
          [
           "</br>id: Henry</br>prediction: 0.358</br>fare: 465.975237</br></br>gender: male</br>age: 47.0</br>class: 1st</br>embarked: Cherbourg</br>sibsp: 0.0</br>parch: 0.0</br>_original_yhat_: 0.30176598983074654</br>"
          ],
          [
           "</br>id: Henry</br>prediction: 0.358</br>fare: 471.09584399999994</br></br>gender: male</br>age: 47.0</br>class: 1st</br>embarked: Cherbourg</br>sibsp: 0.0</br>parch: 0.0</br>_original_yhat_: 0.30176598983074654</br>"
          ],
          [
           "</br>id: Henry</br>prediction: 0.358</br>fare: 476.21645099999995</br></br>gender: male</br>age: 47.0</br>class: 1st</br>embarked: Cherbourg</br>sibsp: 0.0</br>parch: 0.0</br>_original_yhat_: 0.30176598983074654</br>"
          ],
          [
           "</br>id: Henry</br>prediction: 0.358</br>fare: 481.33705799999996</br></br>gender: male</br>age: 47.0</br>class: 1st</br>embarked: Cherbourg</br>sibsp: 0.0</br>parch: 0.0</br>_original_yhat_: 0.30176598983074654</br>"
          ],
          [
           "</br>id: Henry</br>prediction: 0.358</br>fare: 486.45766499999996</br></br>gender: male</br>age: 47.0</br>class: 1st</br>embarked: Cherbourg</br>sibsp: 0.0</br>parch: 0.0</br>_original_yhat_: 0.30176598983074654</br>"
          ],
          [
           "</br>id: Henry</br>prediction: 0.358</br>fare: 491.57827199999997</br></br>gender: male</br>age: 47.0</br>class: 1st</br>embarked: Cherbourg</br>sibsp: 0.0</br>parch: 0.0</br>_original_yhat_: 0.30176598983074654</br>"
          ],
          [
           "</br>id: Henry</br>prediction: 0.358</br>fare: 496.698879</br></br>gender: male</br>age: 47.0</br>class: 1st</br>embarked: Cherbourg</br>sibsp: 0.0</br>parch: 0.0</br>_original_yhat_: 0.30176598983074654</br>"
          ],
          [
           "</br>id: Henry</br>prediction: 0.358</br>fare: 501.819486</br></br>gender: male</br>age: 47.0</br>class: 1st</br>embarked: Cherbourg</br>sibsp: 0.0</br>parch: 0.0</br>_original_yhat_: 0.30176598983074654</br>"
          ],
          [
           "</br>id: Henry</br>prediction: 0.358</br>fare: 506.940093</br></br>gender: male</br>age: 47.0</br>class: 1st</br>embarked: Cherbourg</br>sibsp: 0.0</br>parch: 0.0</br>_original_yhat_: 0.30176598983074654</br>"
          ],
          [
           "</br>id: Henry</br>prediction: 0.358</br>fare: 512.0607</br></br>gender: male</br>age: 47.0</br>class: 1st</br>embarked: Cherbourg</br>sibsp: 0.0</br>parch: 0.0</br>_original_yhat_: 0.30176598983074654</br>"
          ]
         ],
         "hovertemplate": "%{customdata[0]}<extra></extra>",
         "legendgroup": "Titanic RF Pipeline",
         "line": {
          "color": "#46bac2",
          "dash": "solid",
          "width": 2
         },
         "marker": {
          "symbol": "circle"
         },
         "mode": "lines",
         "name": "Titanic RF Pipeline",
         "opacity": 1,
         "orientation": "v",
         "showlegend": false,
         "type": "scatter",
         "x": [
          0,
          5.120607,
          10.241214,
          15.361820999999999,
          20.482428,
          25,
          25.603035,
          30.723641999999998,
          35.844249,
          40.964856,
          46.085463,
          51.20607,
          56.326677,
          61.447283999999996,
          66.567891,
          71.688498,
          76.80910499999999,
          81.929712,
          87.050319,
          92.170926,
          97.29153299999999,
          102.41214,
          107.532747,
          112.653354,
          117.77396099999999,
          122.89456799999999,
          128.015175,
          133.135782,
          138.25638899999998,
          143.376996,
          148.497603,
          153.61820999999998,
          158.73881699999998,
          163.859424,
          168.980031,
          174.100638,
          179.22124499999998,
          184.341852,
          189.462459,
          194.58306599999997,
          199.70367299999998,
          204.82428,
          209.944887,
          215.065494,
          220.18610099999998,
          225.306708,
          230.427315,
          235.54792199999997,
          240.66852899999998,
          245.78913599999998,
          250.909743,
          256.03035,
          261.150957,
          266.271564,
          271.39217099999996,
          276.51277799999997,
          281.633385,
          286.753992,
          291.874599,
          296.995206,
          302.115813,
          307.23641999999995,
          312.35702699999996,
          317.47763399999997,
          322.598241,
          327.718848,
          332.839455,
          337.960062,
          343.080669,
          348.201276,
          353.32188299999996,
          358.44248999999996,
          363.56309699999997,
          368.683704,
          373.804311,
          378.924918,
          384.045525,
          389.16613199999995,
          394.28673899999995,
          399.40734599999996,
          404.52795299999997,
          409.64856,
          414.769167,
          419.889774,
          425.010381,
          430.130988,
          435.25159499999995,
          440.37220199999996,
          445.49280899999997,
          450.613416,
          455.734023,
          460.85463,
          465.975237,
          471.09584399999994,
          476.21645099999995,
          481.33705799999996,
          486.45766499999996,
          491.57827199999997,
          496.698879,
          501.819486,
          506.940093,
          512.0607
         ],
         "xaxis": "x2",
         "y": [
          0.2781629960170516,
          0.27652747085101376,
          0.2841619158637945,
          0.29914725120889696,
          0.30010928229531403,
          0.30176598983074654,
          0.3034606925029797,
          0.3191007797928097,
          0.32027416939997905,
          0.3199096970906791,
          0.3199096970906791,
          0.3282718029187456,
          0.3469396745317567,
          0.34171456616118673,
          0.34171456616118673,
          0.34171456616118673,
          0.3441384554210418,
          0.34544148128914676,
          0.34544148128914676,
          0.3473614199575192,
          0.3473614199575192,
          0.3473614199575192,
          0.3473614199575192,
          0.3473614199575192,
          0.3481746865407482,
          0.3481746865407482,
          0.3481746865407482,
          0.3481746865407482,
          0.34752183938790104,
          0.3468771025457958,
          0.3468771025457958,
          0.3468771025457958,
          0.3468771025457958,
          0.3468771025457958,
          0.3468771025457958,
          0.3468771025457958,
          0.3468771025457958,
          0.3468771025457958,
          0.3468771025457958,
          0.3468771025457958,
          0.3468771025457958,
          0.3468771025457958,
          0.3468771025457958,
          0.3468771025457958,
          0.3468771025457958,
          0.3468771025457958,
          0.3468771025457958,
          0.3468771025457958,
          0.3468771025457958,
          0.3468771025457958,
          0.3468771025457958,
          0.3472714687429789,
          0.3472714687429789,
          0.3472714687429789,
          0.3472714687429789,
          0.3472714687429789,
          0.3472714687429789,
          0.3472714687429789,
          0.3472714687429789,
          0.3472714687429789,
          0.3472714687429789,
          0.3472714687429789,
          0.3472714687429789,
          0.3472714687429789,
          0.3472714687429789,
          0.3472714687429789,
          0.3472714687429789,
          0.3472714687429789,
          0.3472714687429789,
          0.3472714687429789,
          0.3472714687429789,
          0.3472714687429789,
          0.3472714687429789,
          0.3472714687429789,
          0.3472714687429789,
          0.3472714687429789,
          0.3472714687429789,
          0.357927608335332,
          0.357927608335332,
          0.357927608335332,
          0.357927608335332,
          0.357927608335332,
          0.357927608335332,
          0.357927608335332,
          0.357927608335332,
          0.357927608335332,
          0.357927608335332,
          0.357927608335332,
          0.357927608335332,
          0.357927608335332,
          0.357927608335332,
          0.357927608335332,
          0.357927608335332,
          0.357927608335332,
          0.357927608335332,
          0.357927608335332,
          0.357927608335332,
          0.357927608335332,
          0.357927608335332,
          0.357927608335332,
          0.357927608335332,
          0.357927608335332
         ],
         "yaxis": "y2"
        },
        {
         "customdata": [
          [
           "</br>id: Henry</br>prediction: 0.302</br>age: 47.0</br></br>gender: male</br>class: 1st</br>embarked: Cherbourg</br>fare: 25.0</br>sibsp: 0.0</br>parch: 0.0</br>_original_yhat_: 0.30176598983074654</br>"
          ]
         ],
         "hovertemplate": "%{customdata[0]}<extra></extra>",
         "legendgroup": "",
         "marker": {
          "color": "#371ea3",
          "size": 10,
          "symbol": "circle"
         },
         "mode": "markers",
         "name": "",
         "opacity": 1,
         "orientation": "v",
         "showlegend": false,
         "type": "scatter",
         "x": [
          47
         ],
         "xaxis": "x",
         "y": [
          0.30176598983074654
         ],
         "yaxis": "y"
        },
        {
         "customdata": [
          [
           "</br>id: Henry</br>prediction: 0.302</br>fare: 25.0</br></br>gender: male</br>age: 47.0</br>class: 1st</br>embarked: Cherbourg</br>sibsp: 0.0</br>parch: 0.0</br>_original_yhat_: 0.30176598983074654</br>"
          ]
         ],
         "hovertemplate": "%{customdata[0]}<extra></extra>",
         "legendgroup": "",
         "marker": {
          "color": "#371ea3",
          "size": 10,
          "symbol": "circle"
         },
         "mode": "markers",
         "name": "",
         "opacity": 1,
         "orientation": "v",
         "showlegend": false,
         "type": "scatter",
         "x": [
          25
         ],
         "xaxis": "x2",
         "y": [
          0.30176598983074654
         ],
         "yaxis": "y2"
        }
       ],
       "layout": {
        "annotations": [
         {
          "font": {
           "size": 13
          },
          "showarrow": false,
          "text": "age",
          "x": 0.2375,
          "xanchor": "center",
          "xref": "paper",
          "y": 1,
          "yanchor": "bottom",
          "yref": "paper"
         },
         {
          "font": {
           "size": 13
          },
          "showarrow": false,
          "text": "fare",
          "x": 0.7625,
          "xanchor": "center",
          "xref": "paper",
          "y": 1,
          "yanchor": "bottom",
          "yref": "paper"
         },
         {
          "font": {
           "size": 13
          },
          "showarrow": false,
          "text": "prediction",
          "textangle": -90,
          "x": -0.07,
          "xref": "paper",
          "y": 0.5,
          "yref": "paper"
         }
        ],
        "font": {
         "color": "#371ea3"
        },
        "height": 489,
        "hoverlabel": {
         "bgcolor": "rgba(0,0,0,0.8)"
        },
        "hovermode": "closest",
        "legend": {
         "font": {
          "size": 11
         },
         "itemsizing": "constant",
         "orientation": "h",
         "title": {
          "font": {
           "size": 12
          },
          "text": "label"
         },
         "tracegroupgap": 0,
         "x": 1,
         "xanchor": "right",
         "y": 1.0613496932515338,
         "yanchor": "bottom"
        },
        "margin": {
         "b": 71,
         "r": 30,
         "t": 78
        },
        "template": {
         "data": {
          "scatter": [
           {
            "type": "scatter"
           }
          ]
         }
        },
        "title": {
         "font": {
          "size": 16
         },
         "text": "Ceteris Paribus Profiles",
         "x": 0.15
        },
        "xaxis": {
         "anchor": "y",
         "automargin": true,
         "domain": [
          0,
          0.475
         ],
         "fixedrange": true,
         "gridwidth": 2,
         "showticklabels": true,
         "tickcolor": "white",
         "ticklen": 3,
         "ticks": "outside",
         "title": {
          "text": ""
         },
         "type": "linear",
         "zeroline": false
        },
        "xaxis2": {
         "anchor": "y2",
         "automargin": true,
         "domain": [
          0.525,
          1
         ],
         "fixedrange": true,
         "gridwidth": 2,
         "showticklabels": true,
         "tickcolor": "white",
         "ticklen": 3,
         "ticks": "outside",
         "title": {
          "text": ""
         },
         "type": "linear",
         "zeroline": false
        },
        "yaxis": {
         "anchor": "x",
         "automargin": true,
         "domain": [
          0,
          1
         ],
         "fixedrange": true,
         "gridwidth": 2,
         "range": [
          0.26051678464661715,
          0.45264501909937666
         ],
         "tickcolor": "white",
         "ticklen": 3,
         "ticks": "outside",
         "title": {
          "text": ""
         },
         "type": "linear",
         "zeroline": false
        },
        "yaxis2": {
         "anchor": "x2",
         "automargin": true,
         "domain": [
          0,
          1
         ],
         "fixedrange": true,
         "gridwidth": 2,
         "matches": "y",
         "range": [
          0.26051678464661715,
          0.45264501909937666
         ],
         "showticklabels": false,
         "tickcolor": "white",
         "ticklen": 3,
         "ticks": "outside",
         "title": {
          "text": ""
         },
         "type": "linear",
         "zeroline": false
        }
       }
      }
     },
     "metadata": {},
     "output_type": "display_data"
    }
   ],
   "source": [
    "cp_henry.plot(variables = ['age', 'fare'])"
   ]
  },
  {
   "cell_type": "code",
   "execution_count": 10,
   "metadata": {},
   "outputs": [
    {
     "data": {
      "application/vnd.plotly.v1+json": {
       "config": {
        "displaylogo": false,
        "modeBarButtonsToRemove": [
         "sendDataToCloud",
         "lasso2d",
         "autoScale2d",
         "select2d",
         "zoom2d",
         "pan2d",
         "zoomIn2d",
         "zoomOut2d",
         "resetScale2d",
         "toggleSpikelines",
         "hoverCompareCartesian",
         "hoverClosestCartesian"
        ],
        "plotlyServerURL": "https://plot.ly",
        "staticPlot": false,
        "toImageButtonOptions": {
         "height": null,
         "width": null
        }
       },
       "data": [
        {
         "alignmentgroup": "True",
         "base": [
          0.30176598983074654,
          0.30176598983074654,
          0.30176598983074654,
          0.30176598983074654,
          0.30176598983074654,
          0.30176598983074654,
          0.30176598983074654
         ],
         "customdata": [
          [
           "</br>id: Henry</br>prediction: 0.223</br>class: 3rd</br></br>gender: male</br>age: 47.0</br>embarked: Cherbourg</br>fare: 25.0</br>sibsp: 0.0</br>parch: 0.0</br>_original_yhat_: 0.30176598983074654</br>"
          ],
          [
           "</br>id: Henry</br>prediction: 0.236</br>class: 2nd</br></br>gender: male</br>age: 47.0</br>embarked: Cherbourg</br>fare: 25.0</br>sibsp: 0.0</br>parch: 0.0</br>_original_yhat_: 0.30176598983074654</br>"
          ],
          [
           "</br>id: Henry</br>prediction: 0.302</br>class: 1st</br></br>gender: male</br>age: 47.0</br>embarked: Cherbourg</br>fare: 25.0</br>sibsp: 0.0</br>parch: 0.0</br>_original_yhat_: 0.30176598983074654</br>"
          ],
          [
           "</br>id: Henry</br>prediction: 0.239</br>class: engineering crew</br></br>gender: male</br>age: 47.0</br>embarked: Cherbourg</br>fare: 25.0</br>sibsp: 0.0</br>parch: 0.0</br>_original_yhat_: 0.30176598983074654</br>"
          ],
          [
           "</br>id: Henry</br>prediction: 0.237</br>class: victualling crew</br></br>gender: male</br>age: 47.0</br>embarked: Cherbourg</br>fare: 25.0</br>sibsp: 0.0</br>parch: 0.0</br>_original_yhat_: 0.30176598983074654</br>"
          ],
          [
           "</br>id: Henry</br>prediction: 0.217</br>class: restaurant staff</br></br>gender: male</br>age: 47.0</br>embarked: Cherbourg</br>fare: 25.0</br>sibsp: 0.0</br>parch: 0.0</br>_original_yhat_: 0.30176598983074654</br>"
          ],
          [
           "</br>id: Henry</br>prediction: 0.362</br>class: deck crew</br></br>gender: male</br>age: 47.0</br>embarked: Cherbourg</br>fare: 25.0</br>sibsp: 0.0</br>parch: 0.0</br>_original_yhat_: 0.30176598983074654</br>"
          ]
         ],
         "hovertemplate": "%{customdata[0]}<extra></extra>",
         "legendgroup": "Titanic RF Pipeline",
         "marker": {
          "color": "#46bac2",
          "pattern": {
           "shape": ""
          }
         },
         "name": "Titanic RF Pipeline",
         "offsetgroup": "Titanic RF Pipeline",
         "opacity": 1,
         "orientation": "h",
         "showlegend": true,
         "textposition": "auto",
         "type": "bar",
         "x": [
          -0.078883631096441,
          -0.06556968304692534,
          0,
          -0.062359804290012616,
          -0.06486892309885603,
          -0.08442964038141587,
          0.06017664929802019
         ],
         "xaxis": "x",
         "y": [
          "3rd",
          "2nd",
          "1st",
          "engineering crew",
          "victualling crew",
          "restaurant staff",
          "deck crew"
         ],
         "yaxis": "y"
        },
        {
         "alignmentgroup": "True",
         "base": [
          0.30176598983074654,
          0.30176598983074654,
          0.30176598983074654,
          0.30176598983074654
         ],
         "customdata": [
          [
           "</br>id: Henry</br>prediction: 0.266</br>embarked: Southampton</br></br>gender: male</br>age: 47.0</br>class: 1st</br>fare: 25.0</br>sibsp: 0.0</br>parch: 0.0</br>_original_yhat_: 0.30176598983074654</br>"
          ],
          [
           "</br>id: Henry</br>prediction: 0.302</br>embarked: Cherbourg</br></br>gender: male</br>age: 47.0</br>class: 1st</br>fare: 25.0</br>sibsp: 0.0</br>parch: 0.0</br>_original_yhat_: 0.30176598983074654</br>"
          ],
          [
           "</br>id: Henry</br>prediction: 0.261</br>embarked: Belfast</br></br>gender: male</br>age: 47.0</br>class: 1st</br>fare: 25.0</br>sibsp: 0.0</br>parch: 0.0</br>_original_yhat_: 0.30176598983074654</br>"
          ],
          [
           "</br>id: Henry</br>prediction: 0.267</br>embarked: Queenstown</br></br>gender: male</br>age: 47.0</br>class: 1st</br>fare: 25.0</br>sibsp: 0.0</br>parch: 0.0</br>_original_yhat_: 0.30176598983074654</br>"
          ]
         ],
         "hovertemplate": "%{customdata[0]}<extra></extra>",
         "legendgroup": "Titanic RF Pipeline",
         "marker": {
          "color": "#46bac2",
          "pattern": {
           "shape": ""
          }
         },
         "name": "Titanic RF Pipeline",
         "offsetgroup": "Titanic RF Pipeline",
         "opacity": 1,
         "orientation": "h",
         "showlegend": false,
         "textposition": "auto",
         "type": "bar",
         "x": [
          -0.03565448430068924,
          0,
          -0.040805907695031784,
          -0.034403709565110796
         ],
         "xaxis": "x2",
         "y": [
          "Southampton",
          "Cherbourg",
          "Belfast",
          "Queenstown"
         ],
         "yaxis": "y2"
        },
        {
         "customdata": [
          [
           "</br>id: Henry</br>prediction: 0.302</br>class: 1st</br></br>gender: male</br>age: 47.0</br>embarked: Cherbourg</br>fare: 25.0</br>sibsp: 0.0</br>parch: 0.0</br>_original_yhat_: 0.30176598983074654</br>"
          ]
         ],
         "hovertemplate": "%{customdata[0]}<extra></extra>",
         "legendgroup": "",
         "marker": {
          "color": "#371ea3",
          "size": 10,
          "symbol": "circle"
         },
         "mode": "markers",
         "name": "",
         "opacity": 1,
         "orientation": "h",
         "showlegend": false,
         "type": "scatter",
         "x": [
          0.30176598983074654
         ],
         "xaxis": "x",
         "y": [
          "1st"
         ],
         "yaxis": "y"
        },
        {
         "customdata": [
          [
           "</br>id: Henry</br>prediction: 0.302</br>embarked: Cherbourg</br></br>gender: male</br>age: 47.0</br>class: 1st</br>fare: 25.0</br>sibsp: 0.0</br>parch: 0.0</br>_original_yhat_: 0.30176598983074654</br>"
          ]
         ],
         "hovertemplate": "%{customdata[0]}<extra></extra>",
         "legendgroup": "",
         "marker": {
          "color": "#371ea3",
          "size": 10,
          "symbol": "circle"
         },
         "mode": "markers",
         "name": "",
         "opacity": 1,
         "orientation": "h",
         "showlegend": false,
         "type": "scatter",
         "x": [
          0.30176598983074654
         ],
         "xaxis": "x2",
         "y": [
          "Cherbourg"
         ],
         "yaxis": "y2"
        }
       ],
       "layout": {
        "annotations": [
         {
          "font": {
           "size": 13
          },
          "showarrow": false,
          "text": "class",
          "x": 0.225,
          "xanchor": "center",
          "xref": "paper",
          "y": 1,
          "yanchor": "bottom",
          "yref": "paper"
         },
         {
          "font": {
           "size": 13
          },
          "showarrow": false,
          "text": "embarked",
          "x": 0.775,
          "xanchor": "center",
          "xref": "paper",
          "y": 1,
          "yanchor": "bottom",
          "yref": "paper"
         },
         {
          "font": {
           "size": 13
          },
          "showarrow": false,
          "text": "prediction",
          "textangle": 0,
          "x": 0.5,
          "xref": "paper",
          "y": -0.12269938650306748,
          "yref": "paper"
         }
        ],
        "barmode": "group",
        "font": {
         "color": "#371ea3"
        },
        "height": 489,
        "hoverlabel": {
         "bgcolor": "rgba(0,0,0,0.8)"
        },
        "hovermode": "closest",
        "legend": {
         "font": {
          "size": 11
         },
         "itemsizing": "constant",
         "orientation": "h",
         "title": {
          "font": {
           "size": 12
          },
          "text": "label"
         },
         "tracegroupgap": 0,
         "x": 1,
         "xanchor": "right",
         "y": 1.0613496932515338,
         "yanchor": "bottom"
        },
        "margin": {
         "b": 71,
         "r": 30,
         "t": 78
        },
        "shapes": [
         {
          "layer": "below",
          "line": {
           "color": "#371ea3",
           "dash": "dot",
           "width": 1.5
          },
          "type": "line",
          "x0": 0.30176598983074654,
          "x1": 0.30176598983074654,
          "xref": "x",
          "y0": 0,
          "y1": 1,
          "yref": "y domain"
         },
         {
          "layer": "below",
          "line": {
           "color": "#371ea3",
           "dash": "dot",
           "width": 1.5
          },
          "type": "line",
          "x0": 0.30176598983074654,
          "x1": 0.30176598983074654,
          "xref": "x2",
          "y0": 0,
          "y1": 1,
          "yref": "y2 domain"
         },
         {
          "layer": "below",
          "line": {
           "color": "#371ea3",
           "dash": "dot",
           "width": 1.5
          },
          "type": "line",
          "x0": 0.30176598983074654,
          "x1": 0.30176598983074654,
          "xref": "x",
          "y0": 0,
          "y1": 1,
          "yref": "y domain"
         },
         {
          "layer": "below",
          "line": {
           "color": "#371ea3",
           "dash": "dot",
           "width": 1.5
          },
          "type": "line",
          "x0": 0.30176598983074654,
          "x1": 0.30176598983074654,
          "xref": "x2",
          "y0": 0,
          "y1": 1,
          "yref": "y2 domain"
         }
        ],
        "template": {
         "data": {
          "scatter": [
           {
            "type": "scatter"
           }
          ]
         }
        },
        "title": {
         "font": {
          "size": 16
         },
         "text": "Ceteris Paribus Profiles",
         "x": 0.15
        },
        "xaxis": {
         "anchor": "y",
         "automargin": true,
         "domain": [
          0,
          0.45
         ],
         "fixedrange": true,
         "gridwidth": 2,
         "range": [
          0.20287572048138705,
          0.3764032680967103
         ],
         "tickcolor": "white",
         "ticklen": 3,
         "ticks": "outside",
         "title": {
          "text": ""
         },
         "type": "linear",
         "zeroline": false
        },
        "xaxis2": {
         "anchor": "y2",
         "automargin": true,
         "domain": [
          0.55,
          1
         ],
         "fixedrange": true,
         "gridwidth": 2,
         "matches": "x",
         "range": [
          0.20287572048138705,
          0.3764032680967103
         ],
         "tickcolor": "white",
         "ticklen": 3,
         "ticks": "outside",
         "title": {
          "text": ""
         },
         "type": "linear",
         "zeroline": false
        },
        "yaxis": {
         "anchor": "x",
         "automargin": true,
         "domain": [
          0,
          1
         ],
         "fixedrange": true,
         "gridwidth": 2,
         "showticklabels": true,
         "tickcolor": "white",
         "ticklen": 10,
         "ticks": "outside",
         "title": {
          "text": ""
         },
         "type": "category"
        },
        "yaxis2": {
         "anchor": "x2",
         "automargin": true,
         "domain": [
          0,
          1
         ],
         "fixedrange": true,
         "gridwidth": 2,
         "showticklabels": true,
         "tickcolor": "white",
         "ticklen": 10,
         "ticks": "outside",
         "title": {
          "text": ""
         },
         "type": "category"
        }
       }
      }
     },
     "metadata": {},
     "output_type": "display_data"
    }
   ],
   "source": [
    "cp_henry.plot(variables = ['class', 'embarked'],\n",
    "               variable_type = 'categorical')"
   ]
  },
  {
   "cell_type": "code",
   "execution_count": 11,
   "metadata": {},
   "outputs": [
    {
     "ename": "NameError",
     "evalue": "name 'titanic_lr_exp' is not defined",
     "output_type": "error",
     "traceback": [
      "\u001b[1;31m---------------------------------------------------------------------------\u001b[0m",
      "\u001b[1;31mNameError\u001b[0m                                 Traceback (most recent call last)",
      "Cell \u001b[1;32mIn[11], line 1\u001b[0m\n\u001b[1;32m----> 1\u001b[0m cp_henry2 \u001b[38;5;241m=\u001b[39m titanic_lr_exp\u001b[38;5;241m.\u001b[39mpredict_profile(henry)\n\u001b[0;32m      2\u001b[0m cp_henry\u001b[38;5;241m.\u001b[39mplot(cp_henry2, variables \u001b[38;5;241m=\u001b[39m [\u001b[38;5;124m'\u001b[39m\u001b[38;5;124mage\u001b[39m\u001b[38;5;124m'\u001b[39m, \u001b[38;5;124m'\u001b[39m\u001b[38;5;124mfare\u001b[39m\u001b[38;5;124m'\u001b[39m])\n",
      "\u001b[1;31mNameError\u001b[0m: name 'titanic_lr_exp' is not defined"
     ]
    }
   ],
   "source": [
    "cp_henry2 = titanic_lr_exp.predict_profile(henry)\n",
    "cp_henry.plot(cp_henry2, variables = ['age', 'fare'])"
   ]
  },
  {
   "cell_type": "code",
   "execution_count": null,
   "metadata": {},
   "outputs": [],
   "source": []
  }
 ],
 "metadata": {
  "kernelspec": {
   "display_name": "base",
   "language": "python",
   "name": "python3"
  },
  "language_info": {
   "codemirror_mode": {
    "name": "ipython",
    "version": 3
   },
   "file_extension": ".py",
   "mimetype": "text/x-python",
   "name": "python",
   "nbconvert_exporter": "python",
   "pygments_lexer": "ipython3",
   "version": "3.11.10"
  }
 },
 "nbformat": 4,
 "nbformat_minor": 2
}
